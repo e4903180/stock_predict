{
 "cells": [
  {
   "cell_type": "code",
   "execution_count": 1,
   "metadata": {},
   "outputs": [],
   "source": [
    "import pandas as pd\n",
    "from LoadData import LoadData\n",
    "import numpy as np\n",
    "import yfinance as yf\n",
    "import datetime\n"
   ]
  },
  {
   "cell_type": "code",
   "execution_count": 2,
   "metadata": {},
   "outputs": [
    {
     "name": "stderr",
     "output_type": "stream",
     "text": [
      "100%|██████████| 5/5 [00:00<?, ?it/s]\n"
     ]
    }
   ],
   "source": [
    "stock_name = \"^GSPC\"\n",
    "date_predict_start = '2020-01-01'\n",
    "data_range = 10\n",
    "slide_range = 10\n",
    "n_slide = 5\n",
    "dataloader = LoadData(n_slide, data_range)\n",
    "train_data, test_data =\\\n",
    "    dataloader.load_and_split_data(stock_name, date_predict_start, data_range, slide_range, n_slide)"
   ]
  },
  {
   "cell_type": "code",
   "execution_count": 3,
   "metadata": {},
   "outputs": [],
   "source": [
    "all_data = yf.Ticker(stock_name).history(period='max')\n",
    "all_data.index = all_data.index.date"
   ]
  },
  {
   "cell_type": "code",
   "execution_count": 4,
   "metadata": {},
   "outputs": [
    {
     "data": {
      "text/html": [
       "<div>\n",
       "<style scoped>\n",
       "    .dataframe tbody tr th:only-of-type {\n",
       "        vertical-align: middle;\n",
       "    }\n",
       "\n",
       "    .dataframe tbody tr th {\n",
       "        vertical-align: top;\n",
       "    }\n",
       "\n",
       "    .dataframe thead th {\n",
       "        text-align: right;\n",
       "    }\n",
       "</style>\n",
       "<table border=\"1\" class=\"dataframe\">\n",
       "  <thead>\n",
       "    <tr style=\"text-align: right;\">\n",
       "      <th></th>\n",
       "      <th>Open</th>\n",
       "      <th>High</th>\n",
       "      <th>Low</th>\n",
       "      <th>Close</th>\n",
       "      <th>Volume</th>\n",
       "      <th>Dividends</th>\n",
       "      <th>Stock Splits</th>\n",
       "    </tr>\n",
       "  </thead>\n",
       "  <tbody>\n",
       "    <tr>\n",
       "      <th>1927-12-30</th>\n",
       "      <td>17.660000</td>\n",
       "      <td>17.660000</td>\n",
       "      <td>17.660000</td>\n",
       "      <td>17.660000</td>\n",
       "      <td>0</td>\n",
       "      <td>0.0</td>\n",
       "      <td>0.0</td>\n",
       "    </tr>\n",
       "    <tr>\n",
       "      <th>1928-01-03</th>\n",
       "      <td>17.760000</td>\n",
       "      <td>17.760000</td>\n",
       "      <td>17.760000</td>\n",
       "      <td>17.760000</td>\n",
       "      <td>0</td>\n",
       "      <td>0.0</td>\n",
       "      <td>0.0</td>\n",
       "    </tr>\n",
       "    <tr>\n",
       "      <th>1928-01-04</th>\n",
       "      <td>17.719999</td>\n",
       "      <td>17.719999</td>\n",
       "      <td>17.719999</td>\n",
       "      <td>17.719999</td>\n",
       "      <td>0</td>\n",
       "      <td>0.0</td>\n",
       "      <td>0.0</td>\n",
       "    </tr>\n",
       "    <tr>\n",
       "      <th>1928-01-05</th>\n",
       "      <td>17.549999</td>\n",
       "      <td>17.549999</td>\n",
       "      <td>17.549999</td>\n",
       "      <td>17.549999</td>\n",
       "      <td>0</td>\n",
       "      <td>0.0</td>\n",
       "      <td>0.0</td>\n",
       "    </tr>\n",
       "    <tr>\n",
       "      <th>1928-01-06</th>\n",
       "      <td>17.660000</td>\n",
       "      <td>17.660000</td>\n",
       "      <td>17.660000</td>\n",
       "      <td>17.660000</td>\n",
       "      <td>0</td>\n",
       "      <td>0.0</td>\n",
       "      <td>0.0</td>\n",
       "    </tr>\n",
       "    <tr>\n",
       "      <th>...</th>\n",
       "      <td>...</td>\n",
       "      <td>...</td>\n",
       "      <td>...</td>\n",
       "      <td>...</td>\n",
       "      <td>...</td>\n",
       "      <td>...</td>\n",
       "      <td>...</td>\n",
       "    </tr>\n",
       "    <tr>\n",
       "      <th>2023-05-10</th>\n",
       "      <td>4143.740234</td>\n",
       "      <td>4154.279785</td>\n",
       "      <td>4098.919922</td>\n",
       "      <td>4137.640137</td>\n",
       "      <td>4057160000</td>\n",
       "      <td>0.0</td>\n",
       "      <td>0.0</td>\n",
       "    </tr>\n",
       "    <tr>\n",
       "      <th>2023-05-11</th>\n",
       "      <td>4132.240234</td>\n",
       "      <td>4132.799805</td>\n",
       "      <td>4109.290039</td>\n",
       "      <td>4130.620117</td>\n",
       "      <td>3752900000</td>\n",
       "      <td>0.0</td>\n",
       "      <td>0.0</td>\n",
       "    </tr>\n",
       "    <tr>\n",
       "      <th>2023-05-12</th>\n",
       "      <td>4138.540039</td>\n",
       "      <td>4143.740234</td>\n",
       "      <td>4099.120117</td>\n",
       "      <td>4124.080078</td>\n",
       "      <td>3533740000</td>\n",
       "      <td>0.0</td>\n",
       "      <td>0.0</td>\n",
       "    </tr>\n",
       "    <tr>\n",
       "      <th>2023-05-15</th>\n",
       "      <td>4126.649902</td>\n",
       "      <td>4141.250000</td>\n",
       "      <td>4110.270020</td>\n",
       "      <td>4136.279785</td>\n",
       "      <td>3562170000</td>\n",
       "      <td>0.0</td>\n",
       "      <td>0.0</td>\n",
       "    </tr>\n",
       "    <tr>\n",
       "      <th>2023-05-16</th>\n",
       "      <td>4127.950195</td>\n",
       "      <td>4135.540039</td>\n",
       "      <td>4109.859863</td>\n",
       "      <td>4109.899902</td>\n",
       "      <td>3654200000</td>\n",
       "      <td>0.0</td>\n",
       "      <td>0.0</td>\n",
       "    </tr>\n",
       "  </tbody>\n",
       "</table>\n",
       "<p>23956 rows × 7 columns</p>\n",
       "</div>"
      ],
      "text/plain": [
       "                   Open         High          Low        Close      Volume  \\\n",
       "1927-12-30    17.660000    17.660000    17.660000    17.660000           0   \n",
       "1928-01-03    17.760000    17.760000    17.760000    17.760000           0   \n",
       "1928-01-04    17.719999    17.719999    17.719999    17.719999           0   \n",
       "1928-01-05    17.549999    17.549999    17.549999    17.549999           0   \n",
       "1928-01-06    17.660000    17.660000    17.660000    17.660000           0   \n",
       "...                 ...          ...          ...          ...         ...   \n",
       "2023-05-10  4143.740234  4154.279785  4098.919922  4137.640137  4057160000   \n",
       "2023-05-11  4132.240234  4132.799805  4109.290039  4130.620117  3752900000   \n",
       "2023-05-12  4138.540039  4143.740234  4099.120117  4124.080078  3533740000   \n",
       "2023-05-15  4126.649902  4141.250000  4110.270020  4136.279785  3562170000   \n",
       "2023-05-16  4127.950195  4135.540039  4109.859863  4109.899902  3654200000   \n",
       "\n",
       "            Dividends  Stock Splits  \n",
       "1927-12-30        0.0           0.0  \n",
       "1928-01-03        0.0           0.0  \n",
       "1928-01-04        0.0           0.0  \n",
       "1928-01-05        0.0           0.0  \n",
       "1928-01-06        0.0           0.0  \n",
       "...               ...           ...  \n",
       "2023-05-10        0.0           0.0  \n",
       "2023-05-11        0.0           0.0  \n",
       "2023-05-12        0.0           0.0  \n",
       "2023-05-15        0.0           0.0  \n",
       "2023-05-16        0.0           0.0  \n",
       "\n",
       "[23956 rows x 7 columns]"
      ]
     },
     "execution_count": 4,
     "metadata": {},
     "output_type": "execute_result"
    }
   ],
   "source": [
    "all_data"
   ]
  },
  {
   "cell_type": "code",
   "execution_count": 8,
   "metadata": {},
   "outputs": [
    {
     "data": {
      "text/plain": [
       "5"
      ]
     },
     "execution_count": 8,
     "metadata": {},
     "output_type": "execute_result"
    }
   ],
   "source": [
    "train_data.shape[0]"
   ]
  },
  {
   "cell_type": "code",
   "execution_count": 11,
   "metadata": {},
   "outputs": [],
   "source": [
    "def find_data_pv_function(data, pv_range):\n",
    "    output = np.zeros_like(data)\n",
    "    for col in range(0, data.shape[0]):\n",
    "        for row in range(0, data.shape[1]):\n",
    "            print(data[col, row])\n",
    "            if row < pv_range:\n",
    "                if price[row] == price.iloc[0:pv_range*2+1].max():\n",
    "                    data[i]['peaks'].iloc[row] = price[row]\n",
    "                    data[i]['pv'].iloc[row] = 'peak'\n",
    "                if price[row] == price.iloc[0:pv_range*2+1].min():\n",
    "                    data[i]['valleys'].iloc[row] = price[row]\n",
    "                    data[i]['pv'].iloc[row] = 'valley'\n",
    "            if price[row] == price.iloc[row-pv_range:row+pv_range].max():\n",
    "                data[i]['peaks'].iloc[row] = price[row]\n",
    "                data[i]['pv'].iloc[row] = 'peak'\n",
    "            if price[row] == price.iloc[row-pv_range:row+pv_range].min():\n",
    "                data[i]['valleys'].iloc[row] = price[row]\n",
    "                data[i]['pv'].iloc[row] = 'valley'\n"
   ]
  },
  {
   "cell_type": "code",
   "execution_count": 12,
   "metadata": {},
   "outputs": [
    {
     "name": "stdout",
     "output_type": "stream",
     "text": [
      "3192.52001953125\n",
      "3191.139892578125\n",
      "3205.3701171875\n",
      "3221.219970703125\n",
      "3224.010009765625\n",
      "3223.3798828125\n",
      "3239.909912109375\n",
      "3240.02001953125\n",
      "3221.2900390625\n",
      "3230.780029296875\n",
      "3257.85009765625\n",
      "3234.85009765625\n",
      "3246.280029296875\n",
      "3237.179931640625\n",
      "3253.050048828125\n",
      "3274.699951171875\n",
      "3265.35009765625\n",
      "3288.1298828125\n",
      "3283.14990234375\n",
      "3289.2900390625\n",
      "3316.81005859375\n",
      "3329.6201171875\n",
      "3320.7900390625\n",
      "3321.75\n",
      "3325.5400390625\n",
      "3295.469970703125\n",
      "3243.6298828125\n",
      "3276.239990234375\n",
      "3273.39990234375\n",
      "3283.659912109375\n",
      "3225.52001953125\n",
      "3248.919921875\n",
      "3297.590087890625\n",
      "3334.68994140625\n",
      "3345.780029296875\n",
      "3327.7099609375\n",
      "3352.090087890625\n",
      "3357.75\n",
      "3379.449951171875\n",
      "3373.93994140625\n",
      "3380.159912109375\n",
      "3370.2900390625\n",
      "3386.14990234375\n",
      "3373.22998046875\n",
      "3337.75\n",
      "3225.889892578125\n",
      "3128.2099609375\n",
      "3116.389892578125\n",
      "2978.760009765625\n",
      "2954.219970703125\n"
     ]
    }
   ],
   "source": [
    "pv_range=7\n",
    "find_data_pv_function(train_data, pv_range)"
   ]
  },
  {
   "cell_type": "code",
   "execution_count": 13,
   "metadata": {},
   "outputs": [
    {
     "data": {
      "text/plain": [
       "(5, 10)"
      ]
     },
     "execution_count": 13,
     "metadata": {},
     "output_type": "execute_result"
    }
   ],
   "source": [
    "output = np.zeros_like(train_data)\n",
    "output.shape"
   ]
  }
 ],
 "metadata": {
  "kernelspec": {
   "display_name": "Python 3.9.12 ('myenv': venv)",
   "language": "python",
   "name": "python3"
  },
  "language_info": {
   "codemirror_mode": {
    "name": "ipython",
    "version": 3
   },
   "file_extension": ".py",
   "mimetype": "text/x-python",
   "name": "python",
   "nbconvert_exporter": "python",
   "pygments_lexer": "ipython3",
   "version": "3.10.7"
  },
  "orig_nbformat": 4,
  "vscode": {
   "interpreter": {
    "hash": "5487dda52e079e9951da9b46aa4fed4068f6cbf89aa168a03dd8a1fca950f1dd"
   }
  }
 },
 "nbformat": 4,
 "nbformat_minor": 2
}
