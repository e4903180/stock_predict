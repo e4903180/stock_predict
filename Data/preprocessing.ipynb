{
 "cells": [
  {
   "cell_type": "code",
   "execution_count": 1,
   "metadata": {},
   "outputs": [],
   "source": [
    "import numpy as np\n",
    "\n",
    "def find_data_pv_function(data, pv_range):\n",
    "    '''\n",
    "    Find peaks and valleys of the data, excluding the first and last data points.\n",
    "\n",
    "    Args:\n",
    "        data: numpy.ndarray\n",
    "            The input data array.\n",
    "        pv_range: int\n",
    "            The range within which peaks and valleys are detected.\n",
    "\n",
    "    Returns:\n",
    "        pv: numpy.ndarray\n",
    "            An array of the same shape as `data`, where peaks are represented by 1,\n",
    "            valleys are represented by -1, and other points are represented by 0.\n",
    "\n",
    "    Raises:\n",
    "        None\n",
    "    '''\n",
    "    pv = np.zeros_like(data)\n",
    "    for col in range(0, data.shape[0]):\n",
    "        print('+++++')\n",
    "        print(col)\n",
    "        print('+++++')\n",
    "        for row in range(1, data.shape[1]-1):\n",
    "            if row < pv_range:\n",
    "                print('0', row+pv_range+1)\n",
    "                print(data[col, row],  data[col, :row+pv_range+1])\n",
    "                print(data[col, :row+pv_range+1].max())\n",
    "                print('----')\n",
    "                if data[col, row] == data[col, :row+pv_range+1].max():\n",
    "                    pv[col, row] = 1 \n",
    "                if data[col, row] == data[col, :row+pv_range+1].min():\n",
    "                    pv[col, row] = -1\n",
    "            else:\n",
    "                print(row-pv_range, row+pv_range+1)\n",
    "                print(data[col, row],  data[col, row-pv_range:row+pv_range+1])\n",
    "                print(data[col, row-pv_range:row+pv_range+1].max())\n",
    "                print('----')\n",
    "                if data[col, row] == data[col, row-pv_range:row+pv_range+1].max():\n",
    "                    pv[col, row] = 1\n",
    "                if data[col, row] == data[col, row-pv_range:row+pv_range+1].min():\n",
    "                    pv[col, row] = -1\n",
    "    return pv\n"
   ]
  },
  {
   "cell_type": "code",
   "execution_count": 2,
   "metadata": {},
   "outputs": [],
   "source": [
    "train_data = np.ndarray((2, 10))\n",
    "train_data[0, :] = [0, 1, 2, 3, 4, 5, 6, 7, 8, 9]\n",
    "train_data[1, :] = [0, -100, 2, 100, 4, 5, 6, 7, 8, 9]"
   ]
  },
  {
   "cell_type": "code",
   "execution_count": 3,
   "metadata": {},
   "outputs": [
    {
     "name": "stdout",
     "output_type": "stream",
     "text": [
      "+++++\n",
      "0\n",
      "+++++\n",
      "0 4\n",
      "1.0 [0. 1. 2. 3.]\n",
      "3.0\n",
      "----\n",
      "0 5\n",
      "2.0 [0. 1. 2. 3. 4.]\n",
      "4.0\n",
      "----\n",
      "1 6\n",
      "3.0 [1. 2. 3. 4. 5.]\n",
      "5.0\n",
      "----\n",
      "2 7\n",
      "4.0 [2. 3. 4. 5. 6.]\n",
      "6.0\n",
      "----\n",
      "3 8\n",
      "5.0 [3. 4. 5. 6. 7.]\n",
      "7.0\n",
      "----\n",
      "4 9\n",
      "6.0 [4. 5. 6. 7. 8.]\n",
      "8.0\n",
      "----\n",
      "5 10\n",
      "7.0 [5. 6. 7. 8. 9.]\n",
      "9.0\n",
      "----\n",
      "6 11\n",
      "8.0 [6. 7. 8. 9.]\n",
      "9.0\n",
      "----\n",
      "+++++\n",
      "1\n",
      "+++++\n",
      "0 4\n",
      "-100.0 [   0. -100.    2.  100.]\n",
      "100.0\n",
      "----\n",
      "0 5\n",
      "2.0 [   0. -100.    2.  100.    4.]\n",
      "100.0\n",
      "----\n",
      "1 6\n",
      "100.0 [-100.    2.  100.    4.    5.]\n",
      "100.0\n",
      "----\n",
      "2 7\n",
      "4.0 [  2. 100.   4.   5.   6.]\n",
      "100.0\n",
      "----\n",
      "3 8\n",
      "5.0 [100.   4.   5.   6.   7.]\n",
      "100.0\n",
      "----\n",
      "4 9\n",
      "6.0 [4. 5. 6. 7. 8.]\n",
      "8.0\n",
      "----\n",
      "5 10\n",
      "7.0 [5. 6. 7. 8. 9.]\n",
      "9.0\n",
      "----\n",
      "6 11\n",
      "8.0 [6. 7. 8. 9.]\n",
      "9.0\n",
      "----\n"
     ]
    }
   ],
   "source": [
    "pv_range = 2\n",
    "train_data_pv = find_data_pv_function(train_data, pv_range)"
   ]
  },
  {
   "cell_type": "code",
   "execution_count": 4,
   "metadata": {},
   "outputs": [
    {
     "data": {
      "text/plain": [
       "array([[   0.,    1.,    2.,    3.,    4.,    5.,    6.,    7.,    8.,\n",
       "           9.],\n",
       "       [   0., -100.,    2.,  100.,    4.,    5.,    6.,    7.,    8.,\n",
       "           9.]])"
      ]
     },
     "execution_count": 4,
     "metadata": {},
     "output_type": "execute_result"
    }
   ],
   "source": [
    "train_data"
   ]
  },
  {
   "cell_type": "code",
   "execution_count": 5,
   "metadata": {},
   "outputs": [
    {
     "data": {
      "text/plain": [
       "array([[ 0.,  0.,  0.,  0.,  0.,  0.,  0.,  0.,  0.,  0.],\n",
       "       [ 0., -1.,  0.,  1.,  0.,  0.,  0.,  0.,  0.,  0.]])"
      ]
     },
     "execution_count": 5,
     "metadata": {},
     "output_type": "execute_result"
    }
   ],
   "source": [
    "train_data_pv"
   ]
  },
  {
   "cell_type": "code",
   "execution_count": 6,
   "metadata": {},
   "outputs": [
    {
     "data": {
      "text/plain": [
       "4.0"
      ]
     },
     "execution_count": 6,
     "metadata": {},
     "output_type": "execute_result"
    }
   ],
   "source": [
    "c = np.ndarray((3,3,2))\n",
    "c[0] = [[1, 2], [3, 4], [5, 6]]\n",
    "c[1] = [[7, 8], [9, 10], [11, 12]]\n",
    "c[2] = [[13, 14], [15, 16], [17, 18]]\n",
    "c[0, 1, 1]"
   ]
  },
  {
   "cell_type": "code",
   "execution_count": 7,
   "metadata": {},
   "outputs": [
    {
     "data": {
      "text/plain": [
       "array([[[ 1.,  2.],\n",
       "        [ 3.,  4.],\n",
       "        [ 5.,  6.]],\n",
       "\n",
       "       [[ 7.,  8.],\n",
       "        [ 9., 10.],\n",
       "        [11., 12.]],\n",
       "\n",
       "       [[13., 14.],\n",
       "        [15., 16.],\n",
       "        [17., 18.]]])"
      ]
     },
     "execution_count": 7,
     "metadata": {},
     "output_type": "execute_result"
    }
   ],
   "source": [
    "c"
   ]
  },
  {
   "cell_type": "code",
   "execution_count": 44,
   "metadata": {},
   "outputs": [],
   "source": [
    "from sklearn.preprocessing import MinMaxScaler\n",
    "\n",
    "def preprocessing_train_data_Lstm(data, x_length, y_length):\n",
    "    x_train = np.ndarray((data.shape[0], data.shape[1]-x_length-y_length, x_length, 1))\n",
    "    y_train = np.ndarray((data.shape[0], data.shape[1]-x_length-y_length, y_length, 1))\n",
    "    for window in range(0, data.shape[0]):\n",
    "        scaler = MinMaxScaler(feature_range=(-1,1))\n",
    "        scaled_data = scaler.fit_transform(data[window].reshape(-1,1))\n",
    "        num = 0\n",
    "        for x in range(x_length+y_length, len(scaled_data)):\n",
    "            x_train[window, num] = scaled_data[x-x_length-y_length:x-y_length]\n",
    "            y_train[window, num] = scaled_data[x-y_length:x]\n",
    "            num+=1\n",
    "    return x_train, y_train"
   ]
  },
  {
   "cell_type": "code",
   "execution_count": 45,
   "metadata": {},
   "outputs": [],
   "source": [
    "scaler = MinMaxScaler(feature_range=(-1,1))"
   ]
  },
  {
   "cell_type": "code",
   "execution_count": 46,
   "metadata": {},
   "outputs": [
    {
     "data": {
      "text/plain": [
       "array([[-1.        ],\n",
       "       [-0.77777778],\n",
       "       [-0.55555556],\n",
       "       [-0.33333333],\n",
       "       [-0.11111111],\n",
       "       [ 0.11111111],\n",
       "       [ 0.33333333],\n",
       "       [ 0.55555556],\n",
       "       [ 0.77777778],\n",
       "       [ 1.        ]])"
      ]
     },
     "execution_count": 46,
     "metadata": {},
     "output_type": "execute_result"
    }
   ],
   "source": [
    "scaler.fit_transform(train_data[0].reshape(-1,1))"
   ]
  },
  {
   "cell_type": "code",
   "execution_count": 47,
   "metadata": {},
   "outputs": [
    {
     "data": {
      "text/plain": [
       "(2, 10)"
      ]
     },
     "execution_count": 47,
     "metadata": {},
     "output_type": "execute_result"
    }
   ],
   "source": [
    "train_data.shape"
   ]
  },
  {
   "cell_type": "code",
   "execution_count": 48,
   "metadata": {},
   "outputs": [],
   "source": [
    "x_length = 2\n",
    "y_length = 2"
   ]
  },
  {
   "cell_type": "code",
   "execution_count": 49,
   "metadata": {},
   "outputs": [
    {
     "data": {
      "text/plain": [
       "6"
      ]
     },
     "execution_count": 49,
     "metadata": {},
     "output_type": "execute_result"
    }
   ],
   "source": [
    "train_data.shape[1]-x_length-y_length"
   ]
  },
  {
   "cell_type": "code",
   "execution_count": 50,
   "metadata": {},
   "outputs": [],
   "source": [
    "x_train, y_train = preprocessing_train_data_Lstm(train_data, x_length, y_length)"
   ]
  },
  {
   "cell_type": "code",
   "execution_count": 51,
   "metadata": {},
   "outputs": [
    {
     "data": {
      "text/plain": [
       "(2, 6, 2, 1)"
      ]
     },
     "execution_count": 51,
     "metadata": {},
     "output_type": "execute_result"
    }
   ],
   "source": [
    "x_train.shape"
   ]
  },
  {
   "cell_type": "code",
   "execution_count": 52,
   "metadata": {},
   "outputs": [],
   "source": [
    "import pandas as pd\n",
    "\n",
    "def preprocessing_test_data_Lstm(train_data, test_data, x_length, y_length, slide):\n",
    "    x_test = {}\n",
    "    y_test = {}\n",
    "    for i in test_data:\n",
    "        scaler = MinMaxScaler(feature_range=(-1,1))\n",
    "        model_inputs = pd.concat((train_data[i]['Close'].iloc[-x_length:], test_data[i]['Close'])).values\n",
    "        model_inputs = model_inputs.reshape(-1,1)\n",
    "        model_inputs = scaler.fit_transform(model_inputs)\n",
    "        x_test[i] = []\n",
    "        y_test[i] = []\n",
    "        for x in range(x_length+y_length, len(model_inputs), slide):\n",
    "            x_test[i].append(model_inputs[x-x_length-y_length:x-y_length])\n",
    "            y_test[i].append(model_inputs[x-y_length:x])\n",
    "        x_test[i], y_test[i] = np.array(x_test[i]), np.array(y_test[i])\n",
    "        x_test[i] = np.reshape(x_test[i], (x_test[i].shape[0], x_test[i].shape[1], 1))\n",
    "        y_test[i] = np.reshape(y_test[i], (y_test[i].shape[0], y_test[i].shape[1], 1))\n",
    "    return x_test, y_test"
   ]
  }
 ],
 "metadata": {
  "kernelspec": {
   "display_name": "Python 3.9.12 ('myenv': venv)",
   "language": "python",
   "name": "python3"
  },
  "language_info": {
   "codemirror_mode": {
    "name": "ipython",
    "version": 3
   },
   "file_extension": ".py",
   "mimetype": "text/x-python",
   "name": "python",
   "nbconvert_exporter": "python",
   "pygments_lexer": "ipython3",
   "version": "3.10.7"
  },
  "orig_nbformat": 4,
  "vscode": {
   "interpreter": {
    "hash": "5487dda52e079e9951da9b46aa4fed4068f6cbf89aa168a03dd8a1fca950f1dd"
   }
  }
 },
 "nbformat": 4,
 "nbformat_minor": 2
}
