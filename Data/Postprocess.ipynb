{
 "cells": [
  {
   "cell_type": "code",
   "execution_count": 4,
   "metadata": {},
   "outputs": [],
   "source": [
    "__file__ = 'postprocess.ipynb'"
   ]
  },
  {
   "cell_type": "code",
   "execution_count": 5,
   "metadata": {},
   "outputs": [],
   "source": [
    "import sys\n",
    "import os\n",
    "module_path = os.path.abspath(os.path.join(os.path.dirname(os.path.abspath(__file__)),'..'))\n",
    "if module_path not in sys.path:\n",
    "    sys.path.append(module_path)\n",
    "from data.loadData import LoadData\n",
    "from data.preprocess import Preprocess\n",
    "from model.fft import Fft\n",
    "from model.lstm import Lstm"
   ]
  },
  {
   "cell_type": "code",
   "execution_count": 20,
   "metadata": {},
   "outputs": [],
   "source": [
    "import matplotlib.pyplot as plt"
   ]
  },
  {
   "cell_type": "code",
   "execution_count": 6,
   "metadata": {},
   "outputs": [
    {
     "name": "stderr",
     "output_type": "stream",
     "text": [
      "  0%|          | 0/3 [00:00<?, ?it/s]"
     ]
    },
    {
     "name": "stdout",
     "output_type": "stream",
     "text": [
      "Epoch 1/25\n",
      "1/1 [==============================] - 6s 6s/step - loss: 0.2557 - val_loss: 0.5787\n",
      "Epoch 2/25\n",
      "1/1 [==============================] - 0s 62ms/step - loss: 0.2504 - val_loss: 0.5821\n",
      "Epoch 3/25\n",
      "1/1 [==============================] - 0s 61ms/step - loss: 0.2456 - val_loss: 0.5858\n",
      "Epoch 4/25\n",
      "1/1 [==============================] - 0s 62ms/step - loss: 0.2395 - val_loss: 0.5899\n",
      "Epoch 5/25\n",
      "1/1 [==============================] - 0s 62ms/step - loss: 0.2337 - val_loss: 0.5942\n",
      "Epoch 6/25\n",
      "1/1 [==============================] - 0s 58ms/step - loss: 0.2235 - val_loss: 0.5991\n",
      "Epoch 6: early stopping\n"
     ]
    },
    {
     "name": "stderr",
     "output_type": "stream",
     "text": [
      " 33%|███▎      | 1/3 [00:06<00:13,  6.54s/it]"
     ]
    },
    {
     "name": "stdout",
     "output_type": "stream",
     "text": [
      "Epoch 1/25\n",
      "1/1 [==============================] - 6s 6s/step - loss: 0.5180 - val_loss: 0.5317\n",
      "Epoch 2/25\n",
      "1/1 [==============================] - 0s 63ms/step - loss: 0.5067 - val_loss: 0.5215\n",
      "Epoch 3/25\n",
      "1/1 [==============================] - 0s 93ms/step - loss: 0.4926 - val_loss: 0.5106\n",
      "Epoch 4/25\n",
      "1/1 [==============================] - 0s 73ms/step - loss: 0.4795 - val_loss: 0.4988\n",
      "Epoch 5/25\n",
      "1/1 [==============================] - 0s 65ms/step - loss: 0.4611 - val_loss: 0.4856\n",
      "Epoch 6/25\n",
      "1/1 [==============================] - 0s 63ms/step - loss: 0.4488 - val_loss: 0.4707\n",
      "Epoch 7/25\n",
      "1/1 [==============================] - 0s 60ms/step - loss: 0.4275 - val_loss: 0.4541\n",
      "Epoch 8/25\n",
      "1/1 [==============================] - 0s 58ms/step - loss: 0.4015 - val_loss: 0.4356\n",
      "Epoch 9/25\n",
      "1/1 [==============================] - 0s 58ms/step - loss: 0.3782 - val_loss: 0.4156\n",
      "Epoch 10/25\n",
      "1/1 [==============================] - 0s 54ms/step - loss: 0.3445 - val_loss: 0.3952\n",
      "Epoch 11/25\n",
      "1/1 [==============================] - 0s 61ms/step - loss: 0.3007 - val_loss: 0.3763\n",
      "Epoch 12/25\n",
      "1/1 [==============================] - 0s 58ms/step - loss: 0.2713 - val_loss: 0.3628\n",
      "Epoch 13/25\n",
      "1/1 [==============================] - 0s 56ms/step - loss: 0.2214 - val_loss: 0.3609\n",
      "Epoch 14/25\n",
      "1/1 [==============================] - 0s 56ms/step - loss: 0.1820 - val_loss: 0.3804\n",
      "Epoch 15/25\n",
      "1/1 [==============================] - 0s 62ms/step - loss: 0.1301 - val_loss: 0.4342\n",
      "Epoch 16/25\n",
      "1/1 [==============================] - 0s 56ms/step - loss: 0.1003 - val_loss: 0.5329\n",
      "Epoch 17/25\n",
      "1/1 [==============================] - 0s 58ms/step - loss: 0.1058 - val_loss: 0.6608\n",
      "Epoch 18/25\n",
      "1/1 [==============================] - 0s 58ms/step - loss: 0.1366 - val_loss: 0.7304\n",
      "Epoch 18: early stopping\n"
     ]
    },
    {
     "name": "stderr",
     "output_type": "stream",
     "text": [
      " 67%|██████▋   | 2/3 [00:13<00:06,  6.85s/it]"
     ]
    },
    {
     "name": "stdout",
     "output_type": "stream",
     "text": [
      "Epoch 1/25\n",
      "1/1 [==============================] - 6s 6s/step - loss: 0.2436 - val_loss: 0.6119\n",
      "Epoch 2/25\n",
      "1/1 [==============================] - 0s 61ms/step - loss: 0.2413 - val_loss: 0.6005\n",
      "Epoch 3/25\n",
      "1/1 [==============================] - 0s 57ms/step - loss: 0.2395 - val_loss: 0.5880\n",
      "Epoch 4/25\n",
      "1/1 [==============================] - 0s 65ms/step - loss: 0.2368 - val_loss: 0.5743\n",
      "Epoch 5/25\n",
      "1/1 [==============================] - 0s 63ms/step - loss: 0.2365 - val_loss: 0.5595\n",
      "Epoch 6/25\n",
      "1/1 [==============================] - 0s 68ms/step - loss: 0.2320 - val_loss: 0.5432\n",
      "Epoch 7/25\n",
      "1/1 [==============================] - 0s 67ms/step - loss: 0.2286 - val_loss: 0.5247\n",
      "Epoch 8/25\n",
      "1/1 [==============================] - 0s 69ms/step - loss: 0.2244 - val_loss: 0.5037\n",
      "Epoch 9/25\n",
      "1/1 [==============================] - 0s 71ms/step - loss: 0.2223 - val_loss: 0.4799\n",
      "Epoch 10/25\n",
      "1/1 [==============================] - 0s 62ms/step - loss: 0.2181 - val_loss: 0.4527\n",
      "Epoch 11/25\n",
      "1/1 [==============================] - 0s 70ms/step - loss: 0.2148 - val_loss: 0.4220\n",
      "Epoch 12/25\n",
      "1/1 [==============================] - 0s 66ms/step - loss: 0.2097 - val_loss: 0.3875\n",
      "Epoch 13/25\n",
      "1/1 [==============================] - 0s 62ms/step - loss: 0.2041 - val_loss: 0.3486\n",
      "Epoch 14/25\n",
      "1/1 [==============================] - 0s 61ms/step - loss: 0.1910 - val_loss: 0.3050\n",
      "Epoch 15/25\n",
      "1/1 [==============================] - 0s 77ms/step - loss: 0.1922 - val_loss: 0.2578\n",
      "Epoch 16/25\n",
      "1/1 [==============================] - 0s 61ms/step - loss: 0.1803 - val_loss: 0.2078\n",
      "Epoch 17/25\n",
      "1/1 [==============================] - 0s 56ms/step - loss: 0.1758 - val_loss: 0.1570\n",
      "Epoch 18/25\n",
      "1/1 [==============================] - 0s 57ms/step - loss: 0.1716 - val_loss: 0.1092\n",
      "Epoch 19/25\n",
      "1/1 [==============================] - 0s 60ms/step - loss: 0.1575 - val_loss: 0.0703\n",
      "Epoch 20/25\n",
      "1/1 [==============================] - 0s 56ms/step - loss: 0.1637 - val_loss: 0.0478\n",
      "Epoch 21/25\n",
      "1/1 [==============================] - 0s 58ms/step - loss: 0.1668 - val_loss: 0.0476\n",
      "Epoch 22/25\n",
      "1/1 [==============================] - 0s 68ms/step - loss: 0.1665 - val_loss: 0.0679\n",
      "Epoch 23/25\n",
      "1/1 [==============================] - 0s 77ms/step - loss: 0.1579 - val_loss: 0.0946\n",
      "Epoch 24/25\n",
      "1/1 [==============================] - 0s 62ms/step - loss: 0.1665 - val_loss: 0.1099\n",
      "Epoch 25/25\n",
      "1/1 [==============================] - 0s 61ms/step - loss: 0.1715 - val_loss: 0.1151\n"
     ]
    },
    {
     "name": "stderr",
     "output_type": "stream",
     "text": [
      "100%|██████████| 3/3 [00:21<00:00,  7.11s/it]\n",
      "  0%|          | 0/3 [00:00<?, ?it/s]"
     ]
    },
    {
     "name": "stdout",
     "output_type": "stream",
     "text": [
      "1/1 [==============================] - 1s 1s/step\n"
     ]
    },
    {
     "name": "stderr",
     "output_type": "stream",
     "text": [
      " 33%|███▎      | 1/3 [00:01<00:02,  1.14s/it]"
     ]
    },
    {
     "name": "stdout",
     "output_type": "stream",
     "text": [
      "1/1 [==============================] - 1s 1s/step\n"
     ]
    },
    {
     "name": "stderr",
     "output_type": "stream",
     "text": [
      " 67%|██████▋   | 2/3 [00:02<00:01,  1.16s/it]"
     ]
    },
    {
     "name": "stdout",
     "output_type": "stream",
     "text": [
      "1/1 [==============================] - 1s 1s/step\n"
     ]
    },
    {
     "name": "stderr",
     "output_type": "stream",
     "text": [
      "100%|██████████| 3/3 [00:03<00:00,  1.15s/it]"
     ]
    },
    {
     "name": "stdout",
     "output_type": "stream",
     "text": [
      "[[[-0.08064965 -0.1025644  -0.08776952 -0.03809888 -0.03266806]\n",
      "  [-0.06027862 -0.07727671 -0.06692191 -0.02930659 -0.0250629 ]\n",
      "  [-0.02049536 -0.02810824 -0.02647522 -0.01198406 -0.01012059]\n",
      "  [-0.05811238 -0.07456369 -0.06447919 -0.02807924 -0.02406345]\n",
      "  [-0.08581068 -0.1090669  -0.09351207 -0.04086204 -0.03496232]]\n",
      "\n",
      " [[ 0.90769166  0.70155317  1.04441333  1.30911958  1.03243303]\n",
      "  [ 0.45351264  0.3636114   0.52697593  0.64274383  0.54101717]\n",
      "  [-0.02566295 -0.01936493 -0.02321917 -0.03384744 -0.02939278]\n",
      "  [-0.12676243 -0.09999675 -0.14493783 -0.18067428 -0.15885019]\n",
      "  [ 0.18253383  0.14925951  0.21968699  0.26110226  0.22797725]]\n",
      "\n",
      " [[-0.34286276 -0.20661008 -0.15181169 -0.09771308 -0.12641236]\n",
      "  [-0.40896493 -0.26222122 -0.214678   -0.15514365 -0.2048955 ]\n",
      "  [-0.43102169 -0.2805765  -0.23550846 -0.17400518 -0.23037717]\n",
      "  [-0.18753502 -0.0707352   0.00523156  0.04867089  0.08140238]\n",
      "  [ 0.1963571   0.26196882  0.37827277  0.3988986   0.57874006]]]\n",
      "(3, 5, 5)\n"
     ]
    },
    {
     "name": "stderr",
     "output_type": "stream",
     "text": [
      "\n"
     ]
    }
   ],
   "source": [
    "stock_name = \"^GSPC\"\n",
    "date_predict_start = '2020-01-01'\n",
    "window_length = 30\n",
    "slide_range = 40\n",
    "total_windows = 3\n",
    "slide = 5\n",
    "dataloader = LoadData(total_windows, window_length)\n",
    "train_data, test_data =\\\n",
    "    dataloader.load_and_split_data(stock_name, date_predict_start, window_length, slide_range, total_windows)\n",
    "x_length = 3\n",
    "y_length = 5\n",
    "preprocesser = Preprocess()\n",
    "x_train, y_train =\\\n",
    "    preprocesser.preprocess_data(train_data, x_length, y_length)\n",
    "x_test, y_test =\\\n",
    "    preprocesser.preprocess_data(test_data, x_length, y_length, slide=slide)\n",
    "lstm = Lstm()\n",
    "model = lstm.build_Lstm_model(x_train, y_length)\n",
    "history = lstm.train_Lstm_model(train_data, model, x_train, y_train)\n",
    "processed_signal = lstm.predicting_creat_processed_signal_Lstm(x_test, y_test, test_data, model)\n",
    "print(processed_signal)\n",
    "print(processed_signal.shape)"
   ]
  },
  {
   "cell_type": "code",
   "execution_count": 16,
   "metadata": {},
   "outputs": [],
   "source": [
    "stock_name = \"^GSPC\"\n",
    "date_predict_start = '2020-01-01'\n",
    "window_length = 30\n",
    "slide_range = 40\n",
    "total_windows = 3\n",
    "slide = 5\n",
    "dataloader = LoadData(total_windows, window_length)\n",
    "train_data, test_data =\\\n",
    "    dataloader.load_and_split_data(stock_name, date_predict_start, window_length, slide_range, total_windows)\n",
    "x_length = 3\n",
    "y_length = 5\n",
    "preprocesser = Preprocess()\n",
    "x_train, y_train =\\\n",
    "    preprocesser.preprocess_data(train_data, x_length, y_length)\n",
    "model = Fft()\n",
    "n_harm_lower_limit = 1\n",
    "n_harm_upper_limit = 30\n",
    "fft_processed_signal = model.fft(x_train, window_length, n_harm_lower_limit, n_harm_upper_limit)"
   ]
  },
  {
   "cell_type": "code",
   "execution_count": 21,
   "metadata": {},
   "outputs": [
    {
     "data": {
      "text/plain": [
       "[<matplotlib.lines.Line2D at 0x1bb07aa9240>]"
      ]
     },
     "execution_count": 21,
     "metadata": {},
     "output_type": "execute_result"
    },
    {
     "data": {
      "image/png": "[encoded data removed]",
      "text/plain": [
       "<Figure size 640x480 with 1 Axes>"
      ]
     },
     "metadata": {},
     "output_type": "display_data"
    }
   ],
   "source": [
    "plt.plot(fft_processed_signal[0, 0])"
   ]
  },
  {
   "cell_type": "code",
   "execution_count": 22,
   "metadata": {},
   "outputs": [
    {
     "data": {
      "text/plain": [
       "(3, 30, 30)"
      ]
     },
     "execution_count": 22,
     "metadata": {},
     "output_type": "execute_result"
    }
   ],
   "source": [
    "fft_processed_signal.shape"
   ]
  },
  {
   "cell_type": "code",
   "execution_count": 7,
   "metadata": {},
   "outputs": [],
   "source": [
    "import math\n",
    "import pandas as pd"
   ]
  },
  {
   "cell_type": "code",
   "execution_count": 9,
   "metadata": {},
   "outputs": [],
   "source": [
    "from tqdm import tqdm\n",
    "import numpy as np\n",
    "\n",
    "class Postprocess:\n",
    "    def __init__(self):\n",
    "        pass\n",
    "\n",
    "    def find_data_pv_function(self, data, pv_range):\n",
    "        '''\n",
    "        Find peaks and valleys of the data, excluding the first and last data points.\n",
    "\n",
    "        Args:\n",
    "            data: numpy.ndarray\n",
    "                The input data array.\n",
    "            pv_range: int\n",
    "                The range within which peaks and valleys are detected.\n",
    "\n",
    "        Returns:\n",
    "            pv: numpy.ndarray\n",
    "                An array of the same shape as `data`, where peaks are represented by 1,\n",
    "                valleys are represented by -1, and other points are represented by 0.\n",
    "                shape: (number of windows, window_length)\n",
    "        Raises:\n",
    "            None\n",
    "        '''\n",
    "\n",
    "        pv = np.zeros_like(data)\n",
    "        for col in range(0, data.shape[0]):\n",
    "            for row in range(0, data.shape[1]):\n",
    "                if row < pv_range:\n",
    "                    if data[col, row] == data[col, :row+pv_range+1].max():\n",
    "                        pv[col, row] = 1\n",
    "                    if data[col, row] == data[col, :row+pv_range+1].min():\n",
    "                        pv[col, row] = -1   \n",
    "                else:\n",
    "                    if data[col, row] == data[col, row-pv_range:row+pv_range+1].max():\n",
    "                        pv[col, row] = 1   \n",
    "                    if data[col, row] == data[col, row-pv_range:row+pv_range+1].min():\n",
    "                        pv[col, row] = -1\n",
    "        return pv\n",
    "\n",
    "    def find_signal_lead_train_function(self, data, processed_signal):\n",
    "        for d in data:\n",
    "            for p in processed_signal[d]:\n",
    "                # processed_signal[d][p]['pv'] = pd.Series(dtype='str')\n",
    "                processing_signal = processed_signal[d][p].head(len(data[d]))\n",
    "                p_data = pd.DataFrame(\n",
    "                    {'peaks': data[d]['peaks'], 'count': range(len(data[d]))})\n",
    "                p_data = p_data.drop(p_data[p_data['peaks'].isna()].index)\n",
    "                p_data_count = list(p_data['count'])\n",
    "                p_signal = pd.DataFrame(\n",
    "                    {'peaks': processing_signal['peaks'], 'count': range(len(processing_signal))})\n",
    "                p_signal = p_signal.drop(p_signal[p_signal['peaks'].isna()].index)\n",
    "                p_signal_list = list(p_signal['count'])\n",
    "                p_lead = []\n",
    "                for i in range(0, len(p_signal_list)):\n",
    "                    temp = []\n",
    "                    temp_abs = []\n",
    "                    temp_2 = []\n",
    "                    for j in range(0, len(p_data_count)):\n",
    "                        temp.append((p_data_count[j] - p_signal_list[i]))\n",
    "                        temp_abs.append(abs(p_data_count[j] - p_signal_list[i]))\n",
    "                    for k in range(0, len(temp_abs)):\n",
    "                        if temp_abs[k] == min(temp_abs):\n",
    "                            temp_2 = temp[k]\n",
    "                    p_lead.append(temp_2)\n",
    "                p_signal['lead'] = p_lead\n",
    "\n",
    "                v_data = pd.DataFrame(\n",
    "                    {'valleys': data[d]['valleys'], 'count': range(len(data[d]))})\n",
    "                v_data = v_data.drop(v_data[v_data['valleys'].isna()].index)\n",
    "                v_data_count = list(v_data['count'])\n",
    "                v_signal = pd.DataFrame(\n",
    "                    {'valleys': processing_signal['valleys'], 'count': range(len(processing_signal))})\n",
    "                v_signal = v_signal.drop(\n",
    "                    v_signal[v_signal['valleys'].isna()].index)\n",
    "                v_signal_list = list(v_signal['count'])\n",
    "                v_lead = []\n",
    "                for i in range(0, len(v_signal_list)):\n",
    "                    temp = []\n",
    "                    temp_abs = []\n",
    "                    temp_2 = []\n",
    "                    for j in range(0, len(v_data_count)):\n",
    "                        temp.append((v_data_count[j] - v_signal_list[i]))\n",
    "                        temp_abs.append(abs(v_data_count[j] - v_signal_list[i]))\n",
    "                    for k in range(0, len(temp_abs)):\n",
    "                        if temp_abs[k] == min(temp_abs):\n",
    "                            temp_2 = temp[k]\n",
    "                    v_lead.append(temp_2)\n",
    "                v_signal['lead'] = v_lead\n",
    "\n",
    "                processed_signal[d][p]['lead'] = pd.Series(dtype='float64')\n",
    "                processed_signal[d][p]['lead'].loc[p_signal['lead'].index] = p_signal['lead']\n",
    "                processed_signal[d][p]['lead'].loc[v_signal['lead'].index] = v_signal['lead']\n",
    "\n",
    "    def get_first_lead_function(self, processed_signal, best_fit_harm):\n",
    "        first_date = {}\n",
    "        lead = {}\n",
    "        pv = {}\n",
    "        for i in processed_signal:\n",
    "            harm = best_fit_harm[i]\n",
    "            temp = processed_signal[i][harm].loc[list(\n",
    "                processed_signal[i][harm]['lead'].dropna().index)[0]]\n",
    "            first_date[i] = list(processed_signal[i][harm]\n",
    "                                ['lead'].dropna().index)[0]\n",
    "            lead[i] = temp['lead']\n",
    "            pv[i] = temp['pv']\n",
    "        return first_date, lead, pv\n",
    "\n",
    "    def get_fit_error_function(self, processed_signal, fit_method):\n",
    "        errors = {}\n",
    "        error = []\n",
    "        for i in processed_signal:\n",
    "            errors[i] = {}\n",
    "            for j in processed_signal[i]:\n",
    "                signal_dropna = processed_signal[i][j].drop(\n",
    "                    processed_signal[i][j][processed_signal[i][j]['lead'].isna()].index)\n",
    "                if fit_method == 'mean':\n",
    "                    error = signal_dropna['lead'].mean()\n",
    "                elif fit_method == 'abs':\n",
    "                    error = abs(signal_dropna['lead']).mean()\n",
    "                elif fit_method == 'rmse':\n",
    "                    mse = np.square(np.subtract(np.zeros_like(\n",
    "                        signal_dropna['lead']), signal_dropna['lead'])).mean()\n",
    "                    rmse = math.sqrt(mse)\n",
    "                    error = rmse\n",
    "                else :\n",
    "                    print('worng fit_method')\n",
    "                errors[i][j] = error\n",
    "        return errors\n",
    "    \n",
    "    def get_best_fit_harm_function(self, processed_signal, errors):\n",
    "        best_error = {}\n",
    "        best_fit_harm = {}\n",
    "        for i in processed_signal:\n",
    "            best_error[i] = pd.Series(errors[i]).abs().min()\n",
    "            best_fit_harm[i] = pd.Series(errors[i]).abs().idxmin()\n",
    "        return best_fit_harm, best_error\n"
   ]
  },
  {
   "cell_type": "code",
   "execution_count": 10,
   "metadata": {},
   "outputs": [],
   "source": [
    "post = Postprocess()"
   ]
  },
  {
   "cell_type": "code",
   "execution_count": 13,
   "metadata": {},
   "outputs": [
    {
     "ename": "ValueError",
     "evalue": "The truth value of an array with more than one element is ambiguous. Use a.any() or a.all()",
     "output_type": "error",
     "traceback": [
      "\u001b[1;31m---------------------------------------------------------------------------\u001b[0m",
      "\u001b[1;31mValueError\u001b[0m                                Traceback (most recent call last)",
      "\u001b[1;32mc:\\Users\\e4903\\Desktop\\code\\2023_hw\\stock_predict\\data\\postprocess.ipynb 儲存格 7\u001b[0m in \u001b[0;36m2\n\u001b[0;32m      <a href='vscode-notebook-cell:/c%3A/Users/e4903/Desktop/code/2023_hw/stock_predict/data/postprocess.ipynb#W6sZmlsZQ%3D%3D?line=0'>1</a>\u001b[0m pv_range \u001b[39m=\u001b[39m \u001b[39m2\u001b[39m\n\u001b[1;32m----> <a href='vscode-notebook-cell:/c%3A/Users/e4903/Desktop/code/2023_hw/stock_predict/data/postprocess.ipynb#W6sZmlsZQ%3D%3D?line=1'>2</a>\u001b[0m pv \u001b[39m=\u001b[39m post\u001b[39m.\u001b[39;49mfind_data_pv_function(processed_signal, pv_range)\n",
      "\u001b[1;32mc:\\Users\\e4903\\Desktop\\code\\2023_hw\\stock_predict\\data\\postprocess.ipynb 儲存格 7\u001b[0m in \u001b[0;36m3\n\u001b[0;32m     <a href='vscode-notebook-cell:/c%3A/Users/e4903/Desktop/code/2023_hw/stock_predict/data/postprocess.ipynb#W6sZmlsZQ%3D%3D?line=28'>29</a>\u001b[0m \u001b[39mfor\u001b[39;00m row \u001b[39min\u001b[39;00m \u001b[39mrange\u001b[39m(\u001b[39m1\u001b[39m, data\u001b[39m.\u001b[39mshape[\u001b[39m1\u001b[39m]\u001b[39m-\u001b[39m\u001b[39m1\u001b[39m):\n\u001b[0;32m     <a href='vscode-notebook-cell:/c%3A/Users/e4903/Desktop/code/2023_hw/stock_predict/data/postprocess.ipynb#W6sZmlsZQ%3D%3D?line=29'>30</a>\u001b[0m     \u001b[39mif\u001b[39;00m row \u001b[39m<\u001b[39m pv_range:\n\u001b[1;32m---> <a href='vscode-notebook-cell:/c%3A/Users/e4903/Desktop/code/2023_hw/stock_predict/data/postprocess.ipynb#W6sZmlsZQ%3D%3D?line=30'>31</a>\u001b[0m         \u001b[39mif\u001b[39;00m data[col, row] \u001b[39m==\u001b[39;49m data[col, :row\u001b[39m+\u001b[39;49mpv_range\u001b[39m+\u001b[39;49m\u001b[39m1\u001b[39;49m]\u001b[39m.\u001b[39;49mmax():\n\u001b[0;32m     <a href='vscode-notebook-cell:/c%3A/Users/e4903/Desktop/code/2023_hw/stock_predict/data/postprocess.ipynb#W6sZmlsZQ%3D%3D?line=31'>32</a>\u001b[0m             pv[col, row] \u001b[39m=\u001b[39m \u001b[39m1\u001b[39m\n\u001b[0;32m     <a href='vscode-notebook-cell:/c%3A/Users/e4903/Desktop/code/2023_hw/stock_predict/data/postprocess.ipynb#W6sZmlsZQ%3D%3D?line=32'>33</a>\u001b[0m         \u001b[39mif\u001b[39;00m data[col, row] \u001b[39m==\u001b[39m data[col, :row\u001b[39m+\u001b[39mpv_range\u001b[39m+\u001b[39m\u001b[39m1\u001b[39m]\u001b[39m.\u001b[39mmin():\n",
      "\u001b[1;31mValueError\u001b[0m: The truth value of an array with more than one element is ambiguous. Use a.any() or a.all()"
     ]
    }
   ],
   "source": [
    "pv_range = 2\n",
    "pv = post.find_data_pv_function(processed_signal, pv_range)"
   ]
  }
 ],
 "metadata": {
  "kernelspec": {
   "display_name": "myenv",
   "language": "python",
   "name": "python3"
  },
  "language_info": {
   "codemirror_mode": {
    "name": "ipython",
    "version": 3
   },
   "file_extension": ".py",
   "mimetype": "text/x-python",
   "name": "python",
   "nbconvert_exporter": "python",
   "pygments_lexer": "ipython3",
   "version": "3.10.7"
  },
  "orig_nbformat": 4
 },
 "nbformat": 4,
 "nbformat_minor": 2
}
