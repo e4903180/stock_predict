{
 "cells": [
  {
   "cell_type": "code",
   "execution_count": 11,
   "metadata": {},
   "outputs": [],
   "source": [
    "import yfinance as yf\n",
    "import datetime\n",
    "from dateutil.relativedelta import relativedelta\n",
    "from tqdm import tqdm\n",
    "import numpy as np\n"
   ]
  },
  {
   "cell_type": "code",
   "execution_count": 33,
   "metadata": {},
   "outputs": [],
   "source": [
    "class LoadData:\n",
    "\n",
    "    def __init__(self, n_slide, data_range) -> None:\n",
    "        self.train_data = np.ndarray(shape=(n_slide,data_range), dtype=float)\n",
    "        self.test_data = np.ndarray(shape=(n_slide,data_range), dtype=float)\n",
    "        self.date_data_start_list = []\n",
    "        self.date_predict_start_list = []\n",
    "        self.date_predict_end_list = []\n",
    "        self.test_data_start_list = []\n",
    "\n",
    "    def load_data(self, stock_name, date_predict_start, data_range, slide_range, n_slide):\n",
    "        all_data = yf.Ticker(stock_name).history(period='max')\n",
    "        all_data.index = all_data.index.date\n",
    "        # all_data['Close'].iloc[0:len(all_data['Close'])] = list(range(0, len(all_data['Close'])))\n",
    "        date_predict_start = self._check_start(date_predict_start, all_data)\n",
    "        predict_start = all_data.index.get_loc(date_predict_start)\n",
    "        for i in tqdm(range(n_slide)):\n",
    "            predict_end = predict_start + data_range\n",
    "            date_predict_end = all_data.iloc[predict_end].name\n",
    "            data_start = predict_start - data_range\n",
    "            date_data_start = all_data.iloc[data_start].name\n",
    "            self.train_data[i, :] = all_data['Close'].iloc[data_start:predict_start].values\n",
    "            self.test_data[i, :] = all_data['Close'].iloc[predict_start:predict_end].values\n",
    "            data_start = data_start + slide_range\n",
    "            predict_start = predict_start + slide_range\n",
    "        return self.train_data, self.test_data\n",
    "\n",
    "    def _check_start(self, date_predict_start, all_data):\n",
    "        date_predict_start = datetime.datetime.strptime(\n",
    "            date_predict_start, '%Y-%m-%d').date()\n",
    "        check = date_predict_start in all_data.index\n",
    "        while (check == False):\n",
    "            date_predict_start = date_predict_start + \\\n",
    "                relativedelta(days=+1)\n",
    "            check = date_predict_start in list(all_data.index)\n",
    "        return date_predict_start\n",
    "  "
   ]
  },
  {
   "cell_type": "code",
   "execution_count": 34,
   "metadata": {},
   "outputs": [
    {
     "name": "stderr",
     "output_type": "stream",
     "text": [
      "100%|██████████| 5/5 [00:00<00:00, 3570.84it/s]\n"
     ]
    }
   ],
   "source": [
    "if __name__ == '__main__':\n",
    "    stock_name = \"^GSPC\"\n",
    "    date_predict_start = '2020-01-01'\n",
    "    data_range = 10\n",
    "    slide_range = 10\n",
    "    n_slide = 5\n",
    "    dataloader = LoadData(n_slide, data_range)\n",
    "    train_data, test_data =\\\n",
    "        dataloader.load_data(stock_name, date_predict_start, data_range, slide_range, n_slide)"
   ]
  },
  {
   "cell_type": "code",
   "execution_count": 35,
   "metadata": {},
   "outputs": [
    {
     "data": {
      "text/plain": [
       "array([[3192.52001953, 3191.13989258, 3205.37011719, 3221.2199707 ,\n",
       "        3224.01000977, 3223.37988281, 3239.90991211, 3240.02001953,\n",
       "        3221.29003906, 3230.7800293 ],\n",
       "       [3257.85009766, 3234.85009766, 3246.2800293 , 3237.17993164,\n",
       "        3253.05004883, 3274.69995117, 3265.35009766, 3288.12988281,\n",
       "        3283.14990234, 3289.29003906],\n",
       "       [3316.81005859, 3329.62011719, 3320.79003906, 3321.75      ,\n",
       "        3325.54003906, 3295.4699707 , 3243.62988281, 3276.23999023,\n",
       "        3273.39990234, 3283.65991211],\n",
       "       [3225.52001953, 3248.91992188, 3297.59008789, 3334.68994141,\n",
       "        3345.7800293 , 3327.70996094, 3352.09008789, 3357.75      ,\n",
       "        3379.44995117, 3373.93994141],\n",
       "       [3380.15991211, 3370.29003906, 3386.14990234, 3373.22998047,\n",
       "        3337.75      , 3225.88989258, 3128.20996094, 3116.38989258,\n",
       "        2978.76000977, 2954.2199707 ]])"
      ]
     },
     "execution_count": 35,
     "metadata": {},
     "output_type": "execute_result"
    }
   ],
   "source": [
    "train_data"
   ]
  }
 ],
 "metadata": {
  "kernelspec": {
   "display_name": "Python 3.9.12 ('myenv': venv)",
   "language": "python",
   "name": "python3"
  },
  "language_info": {
   "name": "python",
   "version": "3.9.12"
  },
  "orig_nbformat": 4,
  "vscode": {
   "interpreter": {
    "hash": "5487dda52e079e9951da9b46aa4fed4068f6cbf89aa168a03dd8a1fca950f1dd"
   }
  }
 },
 "nbformat": 4,
 "nbformat_minor": 2
}
