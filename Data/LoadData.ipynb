{
 "cells": [
  {
   "cell_type": "code",
   "execution_count": 7,
   "metadata": {},
   "outputs": [],
   "source": [
    "import yfinance as yf\n",
    "import datetime\n",
    "from dateutil.relativedelta import relativedelta\n",
    "import numpy as np\n",
    "\n",
    "class LoadData:\n",
    "    def __init__(self, stock_name, window_length, slide_range, total_windows):\n",
    "        \"\"\"Initializes the LoadData class.\n",
    "\n",
    "        Args:\n",
    "            total_windows (int): The total number of windows.\n",
    "            window_length (int): The length of each window.\n",
    "        \"\"\"\n",
    "        self.stock_name = str(stock_name)\n",
    "        self.window_length = int(window_length)\n",
    "        self.slide_range = int(slide_range)\n",
    "        self.total_windows = int(total_windows)\n",
    "        \n",
    "        self.train_data = np.ndarray(shape=(total_windows, window_length), dtype=float)\n",
    "        self.train_data_index = np.ndarray(shape=(total_windows, window_length), dtype=object)\n",
    "        self.test_data = np.ndarray(shape=(total_windows, window_length), dtype=float)\n",
    "        self.test_data_index = np.ndarray(shape=(total_windows, window_length), dtype=object)\n",
    "\n",
    "        self.date_data_start_list = []\n",
    "        self.date_predict_start_list = []\n",
    "        self.date_predict_end_list = []\n",
    "        self.test_data_start_list = []\n",
    "\n",
    "    def load_and_split_data(self, date_predict_start):\n",
    "        \"\"\"Loads and splits the data.\n",
    "\n",
    "        Args:\n",
    "            stock_name (str): The stock name.\n",
    "            date_predict_start (str): The start date for prediction.\n",
    "            window_length (int): The length of each window.\n",
    "            slide_range (int): The slide range.\n",
    "            total_windows (int): The total number of windows.\n",
    "\n",
    "        Returns:\n",
    "            train_data: numpy.ndarray\n",
    "                The training data arrays.\n",
    "                shape: (number of windows, window_length)\n",
    "            test_data: numpy.ndarray\n",
    "                The testing data arrays.\n",
    "                shape: (number of windows, window_length)\n",
    "        \"\"\"\n",
    "\n",
    "        all_data = yf.Ticker(self.stock_name).history(period='max')\n",
    "        all_data.index = all_data.index.date\n",
    "        date_predict_start = self._check_start(date_predict_start, all_data)\n",
    "        predict_start = all_data.index.get_loc(date_predict_start)\n",
    "        for i in range(self.total_windows):\n",
    "            predict_end = predict_start + self.window_length\n",
    "            data_start = predict_start - self.window_length\n",
    "            self.train_data[i, :] = all_data['Close'].iloc[data_start:predict_start].values\n",
    "            self.train_data_index[i, :] = all_data['Close'].iloc[data_start:predict_start].index\n",
    "            self.test_data[i, :] = all_data['Close'].iloc[predict_start:predict_end].values\n",
    "            self.test_data_index[i, :] = all_data['Close'].iloc[predict_start:predict_end].index\n",
    "            predict_start = predict_start + self.slide_range\n",
    "        return self.train_data, self.test_data, self.train_data_index, self.test_data_index, all_data\n",
    "\n",
    "    def _check_start(self, date_predict_start, all_data):\n",
    "        \"\"\"Checks the start date for prediction.\n",
    "\n",
    "        Args:\n",
    "            date_predict_start (str): The start date for prediction.\n",
    "            all_data (pandas.DataFrame): The complete data.\n",
    "\n",
    "        Returns:\n",
    "            datetime.date: The validated start date for prediction.\n",
    "        \"\"\"\n",
    "\n",
    "        date_predict_start = datetime.datetime.strptime(\n",
    "            date_predict_start, '%Y-%m-%d').date()\n",
    "        check = date_predict_start in all_data.index\n",
    "        while (check == False):\n",
    "            date_predict_start = date_predict_start + \\\n",
    "                relativedelta(days=+1)\n",
    "            check = date_predict_start in list(all_data.index)\n",
    "        return date_predict_start\n",
    "    \n",
    "    def load_extra_train_data(self, date_predict_start, train_data_num, x_length):\n",
    "        extra_train_data = np.ndarray(shape=(1, train_data_num*x_length), dtype=float)\n",
    "        extra_train_data_index = np.ndarray(shape=(1, train_data_num*x_length), dtype=object)\n",
    "        all_data = yf.Ticker(self.stock_name).history(period='max')\n",
    "        all_data.index = all_data.index.date\n",
    "        date_predict_start = self._check_start(date_predict_start, all_data)\n",
    "        data_end = all_data.index.get_loc(date_predict_start)\n",
    "        data_start = data_end - train_data_num*x_length\n",
    "        extra_train_data[0, :] = all_data['Close'].iloc[data_start:data_end].values\n",
    "        extra_train_data_index[0, :] = all_data['Close'].iloc[data_start:data_end].index\n",
    "        return extra_train_data, extra_train_data_index"
   ]
  },
  {
   "cell_type": "code",
   "execution_count": 8,
   "metadata": {},
   "outputs": [],
   "source": [
    "stock_name = \"^GSPC\"\n",
    "date_predict_start = '2020-01-01'\n",
    "window_length = 250\n",
    "total_windows = 10\n",
    "data_range = 10\n",
    "slide_range = 10\n",
    "n_slide = 5\n",
    "dataloader = LoadData(stock_name, window_length, slide_range, total_windows)\n",
    "train_data, test_data, train_data_index, test_data_index, all_data =\\\n",
    "    dataloader.load_and_split_data(date_predict_start)"
   ]
  },
  {
   "cell_type": "code",
   "execution_count": 9,
   "metadata": {},
   "outputs": [
    {
     "data": {
      "text/plain": [
       "(10, 250)"
      ]
     },
     "execution_count": 9,
     "metadata": {},
     "output_type": "execute_result"
    }
   ],
   "source": [
    "train_data.shape"
   ]
  },
  {
   "cell_type": "code",
   "execution_count": 10,
   "metadata": {},
   "outputs": [
    {
     "data": {
      "text/plain": [
       "(10, 250)"
      ]
     },
     "execution_count": 10,
     "metadata": {},
     "output_type": "execute_result"
    }
   ],
   "source": [
    "test_data.shape"
   ]
  },
  {
   "cell_type": "code",
   "execution_count": 11,
   "metadata": {},
   "outputs": [],
   "source": [
    "train_data_num = 100\n",
    "x_length = 10"
   ]
  },
  {
   "cell_type": "code",
   "execution_count": 12,
   "metadata": {},
   "outputs": [],
   "source": [
    "extra_train_data, extra_train_data_index = dataloader.load_extra_train_data(date_predict_start, train_data_num, x_length)"
   ]
  }
 ],
 "metadata": {
  "kernelspec": {
   "display_name": "Python 3.9.12 ('myenv': venv)",
   "language": "python",
   "name": "python3"
  },
  "language_info": {
   "codemirror_mode": {
    "name": "ipython",
    "version": 3
   },
   "file_extension": ".py",
   "mimetype": "text/x-python",
   "name": "python",
   "nbconvert_exporter": "python",
   "pygments_lexer": "ipython3",
   "version": "3.10.7"
  },
  "orig_nbformat": 4,
  "vscode": {
   "interpreter": {
    "hash": "5487dda52e079e9951da9b46aa4fed4068f6cbf89aa168a03dd8a1fca950f1dd"
   }
  }
 },
 "nbformat": 4,
 "nbformat_minor": 2
}
