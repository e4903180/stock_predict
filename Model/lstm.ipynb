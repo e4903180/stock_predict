{
 "cells": [
  {
   "cell_type": "code",
   "execution_count": 65,
   "metadata": {},
   "outputs": [],
   "source": [
    "import numpy as np\n",
    "import pandas as pd\n",
    "from keras.layers import Dense, Dropout, LSTM\n",
    "from keras.models import Sequential\n",
    "from keras.callbacks import EarlyStopping\n",
    "from tqdm import tqdm\n",
    "\n",
    "import sys\n",
    "import os\n",
    "module_path = os.path.abspath(os.path.join(os.path.dirname(os.path.abspath('lstm.ipynb')),'..'))\n",
    "if module_path not in sys.path:\n",
    "    sys.path.append(module_path)\n",
    "from data.loadData import LoadData\n",
    "from data.preprocess import Preprocess"
   ]
  },
  {
   "cell_type": "code",
   "execution_count": 8,
   "metadata": {},
   "outputs": [],
   "source": [
    "stock_name = \"^GSPC\"\n",
    "date_predict_start = '2020-01-01'\n",
    "window_length = 30\n",
    "slide_range = 40\n",
    "total_windows = 3\n",
    "slide = 5\n",
    "dataloader = LoadData(total_windows, window_length)\n",
    "train_data, test_data =\\\n",
    "    dataloader.load_and_split_data(stock_name, date_predict_start, window_length, slide_range, total_windows)\n",
    "x_length = 3\n",
    "y_length = 5\n",
    "preprocesser = Preprocess()\n",
    "x_train, y_train =\\\n",
    "    preprocesser.preprocess_data(train_data, x_length, y_length)\n",
    "x_test, y_test =\\\n",
    "    preprocesser.preprocess_data(test_data, x_length, y_length, slide=slide)"
   ]
  },
  {
   "cell_type": "code",
   "execution_count": 80,
   "metadata": {},
   "outputs": [],
   "source": [
    "class Lstm:\n",
    "    def __init__(self):\n",
    "        pass\n",
    "\n",
    "    def LSTM_model(self, y_length, input_shape):\n",
    "        model = Sequential()\n",
    "        model.add(LSTM(units = 256, return_sequences = True, input_shape = input_shape))\n",
    "        model.add(Dropout(0.4))\n",
    "        model.add(LSTM(units = 128, return_sequences = True))\n",
    "        model.add(Dropout(0.4))\n",
    "        model.add(LSTM(units = 64))\n",
    "        model.add(Dropout(0.4))\n",
    "        model.add(Dense(units=y_length))\n",
    "        return model\n",
    "    \n",
    "    def build_Lstm_model(self, x_train, y_length):\n",
    "        model = list(range(0, x_train.shape[0]))\n",
    "        input_shape = (x_train.shape[2],1)\n",
    "        for i in range(0, x_train.shape[0]):\n",
    "            model[i] = self.LSTM_model(y_length, input_shape)\n",
    "            model[i].compile(optimizer='adam', \n",
    "                        loss='mean_squared_error')\n",
    "            # model[i].summary()\n",
    "        return model\n",
    "    \n",
    "    def train_Lstm_model(self, train_data, model, x_train, y_train):\n",
    "        history = list(range(0, train_data.shape[0]))\n",
    "        for i in tqdm(range(0, train_data.shape[0])):\n",
    "            earlystopper = EarlyStopping(monitor = 'val_loss', patience = 5, verbose = 2)\n",
    "            history[i] = model[i].fit(x_train[i], y_train[i], epochs=25, batch_size=32, \n",
    "                                callbacks = [earlystopper], validation_split = 0.2, shuffle=True)\n",
    "        return history\n",
    "    \n",
    "    def predicting_creat_processed_signal_Lstm(self, x_test, y_test, test_data, model):\n",
    "        processed_signal = np.ndarray([y_test.shape[0], y_test.shape[1], y_test.shape[2]])\n",
    "        for i in tqdm(range(0, test_data.shape[0])):\n",
    "            predicted_prices = model[i].predict(x_test[i])\n",
    "            processed_signal[i] = predicted_prices\n",
    "            # processed_signal[i][0] = pd.DataFrame(\n",
    "            #     {'Close': predicted_prices.flatten()}, index=test_data[i].index[:len(predicted_prices.flatten())])\n",
    "        return processed_signal"
   ]
  },
  {
   "cell_type": "code",
   "execution_count": 81,
   "metadata": {},
   "outputs": [],
   "source": [
    "lstm = Lstm()"
   ]
  },
  {
   "cell_type": "code",
   "execution_count": 68,
   "metadata": {},
   "outputs": [],
   "source": [
    "model = lstm.build_Lstm_model(x_train, y_length)"
   ]
  },
  {
   "cell_type": "code",
   "execution_count": 56,
   "metadata": {},
   "outputs": [
    {
     "data": {
      "text/plain": [
       "keras.engine.sequential.Sequential"
      ]
     },
     "execution_count": 56,
     "metadata": {},
     "output_type": "execute_result"
    }
   ],
   "source": [
    "type(model[0])"
   ]
  },
  {
   "cell_type": "code",
   "execution_count": 75,
   "metadata": {},
   "outputs": [
    {
     "data": {
      "text/plain": [
       "(3, 22, 3, 1)"
      ]
     },
     "execution_count": 75,
     "metadata": {},
     "output_type": "execute_result"
    }
   ],
   "source": [
    "x_train.shape"
   ]
  },
  {
   "cell_type": "code",
   "execution_count": 73,
   "metadata": {},
   "outputs": [
    {
     "data": {
      "text/plain": [
       "(3, 5, 3, 1)"
      ]
     },
     "execution_count": 73,
     "metadata": {},
     "output_type": "execute_result"
    }
   ],
   "source": [
    "x_test.shape"
   ]
  },
  {
   "cell_type": "code",
   "execution_count": 76,
   "metadata": {},
   "outputs": [
    {
     "data": {
      "text/plain": [
       "(3, 5, 5, 1)"
      ]
     },
     "execution_count": 76,
     "metadata": {},
     "output_type": "execute_result"
    }
   ],
   "source": [
    "y_test.shape"
   ]
  },
  {
   "cell_type": "code",
   "execution_count": 74,
   "metadata": {},
   "outputs": [
    {
     "data": {
      "text/plain": [
       "(3, 30)"
      ]
     },
     "execution_count": 74,
     "metadata": {},
     "output_type": "execute_result"
    }
   ],
   "source": [
    "test_data.shape"
   ]
  },
  {
   "cell_type": "code",
   "execution_count": 57,
   "metadata": {},
   "outputs": [
    {
     "name": "stderr",
     "output_type": "stream",
     "text": [
      "  0%|          | 0/3 [00:00<?, ?it/s]"
     ]
    },
    {
     "name": "stdout",
     "output_type": "stream",
     "text": [
      "Epoch 1/25\n",
      "1/1 [==============================] - 7s 7s/step - loss: 0.2562 - val_loss: 0.5788\n",
      "Epoch 2/25\n",
      "1/1 [==============================] - 0s 52ms/step - loss: 0.2516 - val_loss: 0.5821\n",
      "Epoch 3/25\n",
      "1/1 [==============================] - 0s 56ms/step - loss: 0.2463 - val_loss: 0.5855\n",
      "Epoch 4/25\n",
      "1/1 [==============================] - 0s 55ms/step - loss: 0.2417 - val_loss: 0.5893\n",
      "Epoch 5/25\n",
      "1/1 [==============================] - 0s 60ms/step - loss: 0.2348 - val_loss: 0.5933\n",
      "Epoch 6/25\n",
      "1/1 [==============================] - 0s 55ms/step - loss: 0.2291 - val_loss: 0.5977\n",
      "Epoch 6: early stopping\n"
     ]
    },
    {
     "name": "stderr",
     "output_type": "stream",
     "text": [
      " 33%|███▎      | 1/3 [00:07<00:14,  7.01s/it]"
     ]
    },
    {
     "name": "stdout",
     "output_type": "stream",
     "text": [
      "Epoch 1/25\n",
      "1/1 [==============================] - 7s 7s/step - loss: 0.5146 - val_loss: 0.5254\n",
      "Epoch 2/25\n",
      "1/1 [==============================] - 0s 63ms/step - loss: 0.5021 - val_loss: 0.5138\n",
      "Epoch 3/25\n",
      "1/1 [==============================] - 0s 66ms/step - loss: 0.4928 - val_loss: 0.5009\n",
      "Epoch 4/25\n",
      "1/1 [==============================] - 0s 54ms/step - loss: 0.4765 - val_loss: 0.4861\n",
      "Epoch 5/25\n",
      "1/1 [==============================] - 0s 66ms/step - loss: 0.4615 - val_loss: 0.4692\n",
      "Epoch 6/25\n",
      "1/1 [==============================] - 0s 62ms/step - loss: 0.4383 - val_loss: 0.4496\n",
      "Epoch 7/25\n",
      "1/1 [==============================] - 0s 66ms/step - loss: 0.4204 - val_loss: 0.4269\n",
      "Epoch 8/25\n",
      "1/1 [==============================] - 0s 57ms/step - loss: 0.3959 - val_loss: 0.4013\n",
      "Epoch 9/25\n",
      "1/1 [==============================] - 0s 59ms/step - loss: 0.3707 - val_loss: 0.3730\n",
      "Epoch 10/25\n",
      "1/1 [==============================] - 0s 61ms/step - loss: 0.3289 - val_loss: 0.3432\n",
      "Epoch 11/25\n",
      "1/1 [==============================] - 0s 58ms/step - loss: 0.2993 - val_loss: 0.3145\n",
      "Epoch 12/25\n",
      "1/1 [==============================] - 0s 60ms/step - loss: 0.2320 - val_loss: 0.2925\n",
      "Epoch 13/25\n",
      "1/1 [==============================] - 0s 58ms/step - loss: 0.1968 - val_loss: 0.2867\n",
      "Epoch 14/25\n",
      "1/1 [==============================] - 0s 63ms/step - loss: 0.1584 - val_loss: 0.3127\n",
      "Epoch 15/25\n",
      "1/1 [==============================] - 0s 60ms/step - loss: 0.1353 - val_loss: 0.3920\n",
      "Epoch 16/25\n",
      "1/1 [==============================] - 0s 59ms/step - loss: 0.0956 - val_loss: 0.5318\n",
      "Epoch 17/25\n",
      "1/1 [==============================] - 0s 62ms/step - loss: 0.1335 - val_loss: 0.6556\n",
      "Epoch 18/25\n",
      "1/1 [==============================] - 0s 69ms/step - loss: 0.1326 - val_loss: 0.7175\n",
      "Epoch 18: early stopping\n"
     ]
    },
    {
     "name": "stderr",
     "output_type": "stream",
     "text": [
      " 67%|██████▋   | 2/3 [00:14<00:07,  7.57s/it]"
     ]
    },
    {
     "name": "stdout",
     "output_type": "stream",
     "text": [
      "Epoch 1/25\n",
      "1/1 [==============================] - 8s 8s/step - loss: 0.2446 - val_loss: 0.6176\n",
      "Epoch 2/25\n",
      "1/1 [==============================] - 0s 53ms/step - loss: 0.2419 - val_loss: 0.6071\n",
      "Epoch 3/25\n",
      "1/1 [==============================] - 0s 53ms/step - loss: 0.2397 - val_loss: 0.5958\n",
      "Epoch 4/25\n",
      "1/1 [==============================] - 0s 67ms/step - loss: 0.2375 - val_loss: 0.5840\n",
      "Epoch 5/25\n",
      "1/1 [==============================] - 0s 53ms/step - loss: 0.2354 - val_loss: 0.5717\n",
      "Epoch 6/25\n",
      "1/1 [==============================] - 0s 56ms/step - loss: 0.2315 - val_loss: 0.5580\n",
      "Epoch 7/25\n",
      "1/1 [==============================] - 0s 63ms/step - loss: 0.2304 - val_loss: 0.5429\n",
      "Epoch 8/25\n",
      "1/1 [==============================] - 0s 56ms/step - loss: 0.2283 - val_loss: 0.5261\n",
      "Epoch 9/25\n",
      "1/1 [==============================] - 0s 60ms/step - loss: 0.2259 - val_loss: 0.5073\n",
      "Epoch 10/25\n",
      "1/1 [==============================] - 0s 58ms/step - loss: 0.2189 - val_loss: 0.4858\n",
      "Epoch 11/25\n",
      "1/1 [==============================] - 0s 61ms/step - loss: 0.2169 - val_loss: 0.4617\n",
      "Epoch 12/25\n",
      "1/1 [==============================] - 0s 60ms/step - loss: 0.2089 - val_loss: 0.4343\n",
      "Epoch 13/25\n",
      "1/1 [==============================] - 0s 67ms/step - loss: 0.2050 - val_loss: 0.4037\n",
      "Epoch 14/25\n",
      "1/1 [==============================] - 0s 62ms/step - loss: 0.2056 - val_loss: 0.3699\n",
      "Epoch 15/25\n",
      "1/1 [==============================] - 0s 67ms/step - loss: 0.2000 - val_loss: 0.3324\n",
      "Epoch 16/25\n",
      "1/1 [==============================] - 0s 60ms/step - loss: 0.1932 - val_loss: 0.2910\n",
      "Epoch 17/25\n",
      "1/1 [==============================] - 0s 85ms/step - loss: 0.1862 - val_loss: 0.2472\n",
      "Epoch 18/25\n",
      "1/1 [==============================] - 0s 74ms/step - loss: 0.1749 - val_loss: 0.2017\n",
      "Epoch 19/25\n",
      "1/1 [==============================] - 0s 64ms/step - loss: 0.1702 - val_loss: 0.1573\n",
      "Epoch 20/25\n",
      "1/1 [==============================] - 0s 65ms/step - loss: 0.1716 - val_loss: 0.1191\n",
      "Epoch 21/25\n",
      "1/1 [==============================] - 0s 64ms/step - loss: 0.1603 - val_loss: 0.0895\n",
      "Epoch 22/25\n",
      "1/1 [==============================] - 0s 71ms/step - loss: 0.1679 - val_loss: 0.0728\n",
      "Epoch 23/25\n",
      "1/1 [==============================] - 0s 61ms/step - loss: 0.1590 - val_loss: 0.0702\n",
      "Epoch 24/25\n",
      "1/1 [==============================] - 0s 62ms/step - loss: 0.1647 - val_loss: 0.0779\n",
      "Epoch 25/25\n",
      "1/1 [==============================] - 0s 74ms/step - loss: 0.1599 - val_loss: 0.0881\n"
     ]
    },
    {
     "name": "stderr",
     "output_type": "stream",
     "text": [
      "100%|██████████| 3/3 [00:24<00:00,  8.30s/it]\n"
     ]
    }
   ],
   "source": [
    "history = lstm.train_Lstm_model(train_data, model, x_train, y_train)"
   ]
  },
  {
   "cell_type": "code",
   "execution_count": 58,
   "metadata": {},
   "outputs": [
    {
     "data": {
      "text/plain": [
       "[<keras.engine.sequential.Sequential at 0x2a87d6e48e0>,\n",
       " <keras.engine.sequential.Sequential at 0x2a87e839b40>,\n",
       " <keras.engine.sequential.Sequential at 0x2a87e81dab0>]"
      ]
     },
     "execution_count": 58,
     "metadata": {},
     "output_type": "execute_result"
    }
   ],
   "source": [
    "model"
   ]
  },
  {
   "cell_type": "code",
   "execution_count": 82,
   "metadata": {},
   "outputs": [
    {
     "name": "stderr",
     "output_type": "stream",
     "text": [
      "  0%|          | 0/3 [00:00<?, ?it/s]"
     ]
    },
    {
     "name": "stdout",
     "output_type": "stream",
     "text": [
      "1/1 [==============================] - 0s 24ms/step\n",
      "1/1 [==============================] - 0s 23ms/step\n"
     ]
    },
    {
     "name": "stderr",
     "output_type": "stream",
     "text": [
      " 67%|██████▋   | 2/3 [00:00<00:00, 16.95it/s]"
     ]
    },
    {
     "name": "stdout",
     "output_type": "stream",
     "text": [
      "1/1 [==============================] - 0s 25ms/step\n"
     ]
    },
    {
     "name": "stderr",
     "output_type": "stream",
     "text": [
      "100%|██████████| 3/3 [00:00<00:00, 16.76it/s]\n"
     ]
    }
   ],
   "source": [
    "processed_signal = lstm.predicting_creat_processed_signal_Lstm(x_test, y_test, test_data, model)"
   ]
  },
  {
   "cell_type": "code",
   "execution_count": 83,
   "metadata": {},
   "outputs": [
    {
     "data": {
      "text/plain": [
       "array([[[ 3.13933659e-03, -4.09055501e-03, -1.18128606e-03,\n",
       "         -2.01720977e-03,  2.48582195e-03],\n",
       "        [ 1.69082009e-03, -2.20586499e-03, -6.95799419e-04,\n",
       "         -1.10538665e-03,  1.34525646e-03],\n",
       "        [-1.12134661e-03,  1.48473680e-03,  4.74623434e-04,\n",
       "          7.64797907e-04, -9.38555633e-04],\n",
       "        [ 1.57327275e-03, -2.07748916e-03, -5.67757466e-04,\n",
       "         -1.03910931e-03,  1.29473174e-03],\n",
       "        [ 3.42393224e-03, -4.41310182e-03, -1.46273570e-03,\n",
       "         -2.17277766e-03,  2.60639051e-03]],\n",
       "\n",
       "       [[ 4.92943916e-03,  1.95069774e-03,  4.69801482e-04,\n",
       "          6.91317394e-03,  1.81961618e-03],\n",
       "        [ 1.38907402e-03,  5.39383385e-04,  1.42663310e-04,\n",
       "          1.94192352e-03,  5.26729680e-04],\n",
       "        [-3.12233134e-03, -1.22804858e-03, -3.51494877e-04,\n",
       "         -4.30220785e-03, -1.07499980e-03],\n",
       "        [-4.25951928e-03, -1.70378445e-03, -4.93453466e-04,\n",
       "         -5.83103299e-03, -1.38359948e-03],\n",
       "        [-1.21495582e-03, -4.53594548e-04, -1.34766451e-04,\n",
       "         -1.70058978e-03, -4.85901459e-04]],\n",
       "\n",
       "       [[-1.56701752e-03, -2.56237807e-03, -3.66228563e-03,\n",
       "         -2.16987391e-04, -1.22545566e-03],\n",
       "        [-1.82954781e-03, -3.14448681e-03, -4.57641389e-03,\n",
       "         -1.63705670e-04, -1.54296705e-03],\n",
       "        [-1.91933708e-03, -3.36341280e-03, -4.93220007e-03,\n",
       "         -1.29451568e-04, -1.67039013e-03],\n",
       "        [-9.99581767e-04, -1.65783183e-03, -2.36287224e-03,\n",
       "         -1.51859102e-04, -7.77293113e-04],\n",
       "        [ 9.70825931e-05,  1.80919655e-04,  2.62444664e-04,\n",
       "          1.46107232e-05,  8.17692344e-05]]])"
      ]
     },
     "execution_count": 83,
     "metadata": {},
     "output_type": "execute_result"
    }
   ],
   "source": [
    "processed_signal"
   ]
  }
 ],
 "metadata": {
  "kernelspec": {
   "display_name": "myenv",
   "language": "python",
   "name": "python3"
  },
  "language_info": {
   "codemirror_mode": {
    "name": "ipython",
    "version": 3
   },
   "file_extension": ".py",
   "mimetype": "text/x-python",
   "name": "python",
   "nbconvert_exporter": "python",
   "pygments_lexer": "ipython3",
   "version": "3.10.7"
  },
  "orig_nbformat": 4
 },
 "nbformat": 4,
 "nbformat_minor": 2
}
