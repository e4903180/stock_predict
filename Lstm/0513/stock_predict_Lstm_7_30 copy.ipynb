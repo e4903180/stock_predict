{
 "cells": [
  {
   "cell_type": "code",
   "execution_count": 1,
   "metadata": {},
   "outputs": [],
   "source": [
    "stock_name = \"^GSPC\"\n",
    "date_predict_start = '2020-01-01'\n",
    "data_range = 250\n",
    "slide_range = 10\n",
    "n_slide = 10\n",
    "pv_range = 7\n",
    "n_harm_lower_limit = 1\n",
    "n_harm_upper_limit = 50\n",
    "fit_method = 'rmse'\n",
    "pv_method = 'CL'\n",
    "\n",
    "x_length = 30\n",
    "y_length = x_length\n",
    "slide = y_length\n",
    "\n",
    "profit_percentage = 0.1\n",
    "loss_percentage = 0.1"
   ]
  },
  {
   "attachments": {},
   "cell_type": "markdown",
   "metadata": {},
   "source": [
    "# Import packages\n"
   ]
  },
  {
   "cell_type": "code",
   "execution_count": 2,
   "metadata": {},
   "outputs": [],
   "source": [
    "import numpy as np\n",
    "import pylab as pl\n",
    "from numpy import fft\n",
    "import pandas as pd\n",
    "import matplotlib.pyplot as plt\n",
    "import yfinance as yf\n",
    "import datetime\n",
    "from dateutil.relativedelta import relativedelta\n",
    "import math\n",
    "import matplotlib.dates as mdates\n",
    "import warnings\n",
    "from sklearn.preprocessing import MinMaxScaler\n",
    "from tensorflow.keras.models import Sequential\n",
    "from tensorflow.keras.layers import Dense, Dropout, LSTM\n",
    "from tensorflow.keras.callbacks import EarlyStopping\n",
    "from tqdm import tqdm\n",
    "import matplotlib.patches as patches"
   ]
  },
  {
   "attachments": {},
   "cell_type": "markdown",
   "metadata": {},
   "source": [
    "# Load data\n"
   ]
  },
  {
   "cell_type": "code",
   "execution_count": 3,
   "metadata": {},
   "outputs": [],
   "source": [
    "def load_data(stock_name, date_predict_start, data_range, slide_range, n_slide):\n",
    "    train_data = {}\n",
    "    test_data = {}\n",
    "    date_predict_start = datetime.datetime.strptime(\n",
    "        date_predict_start, '%Y-%m-%d').date()\n",
    "    date_data_start_list = []\n",
    "    date_predict_start_list = []\n",
    "    date_predict_end_list = []\n",
    "    test_data_start_list = []\n",
    "    all_data = yf.Ticker(stock_name).history(period='max')\n",
    "    all_data.index = all_data.index.date\n",
    "    check = date_predict_start in all_data.index\n",
    "    while (check == False):\n",
    "        date_predict_start = date_predict_start + \\\n",
    "            relativedelta(days=+1)\n",
    "        check = date_predict_start in list(all_data.index)\n",
    "    predict_start = all_data.index.get_loc(date_predict_start)\n",
    "    for i in range(n_slide):\n",
    "        predict_end = predict_start + data_range\n",
    "        date_predict_end = all_data.iloc[predict_end].name\n",
    "        data_start = predict_start - data_range\n",
    "        date_data_start = all_data.iloc[data_start].name\n",
    "        train_data['window_' + str(i)] = all_data.iloc[data_start:predict_start]\n",
    "        test_data['window_' + str(i)] = all_data.iloc[predict_start:predict_end]\n",
    "        date_data_start_list.append(date_data_start)\n",
    "        date_predict_start_list.append(date_predict_start)\n",
    "        date_predict_end_list.append(date_predict_end)\n",
    "        test_data_start_list.append(test_data['window_' + str(i)].index[0])\n",
    "        data_start = data_start + slide_range\n",
    "        predict_start = predict_start + slide_range\n",
    "        train_data['window_' + str(i)] = train_data['window_' +\n",
    "                                                  str(i)].reset_index(drop=False)\n",
    "        test_data['window_' + str(i)] = test_data['window_' +\n",
    "                                                str(i)].reset_index(drop=False)\n",
    "\n",
    "    return train_data, test_data, all_data, test_data_start_list\n"
   ]
  },
  {
   "attachments": {},
   "cell_type": "markdown",
   "metadata": {},
   "source": [
    "# Data preprocessing\n"
   ]
  },
  {
   "cell_type": "code",
   "execution_count": 4,
   "metadata": {},
   "outputs": [],
   "source": [
    "def find_data_pv_CL_function(data, pv_range):\n",
    "    pd.options.mode.chained_assignment = None\n",
    "    for i in data:\n",
    "        price = data[i]['Close']\n",
    "        data[i]['peaks'] = pd.Series(dtype='float64')\n",
    "        data[i]['valleys'] = pd.Series(dtype='float64')\n",
    "        data[i]['pv'] = pd.Series(dtype='str')\n",
    "        for idx in range(0, len(price)):\n",
    "            if idx < pv_range:\n",
    "                if price[idx] == price.iloc[0:pv_range*2+1].max():\n",
    "                    data[i]['peaks'].iloc[idx] = price[idx]\n",
    "                    data[i]['pv'].iloc[idx] = 'peak'\n",
    "                if price[idx] == price.iloc[0:pv_range*2+1].min():\n",
    "                    data[i]['valleys'].iloc[idx] = price[idx]\n",
    "                    data[i]['pv'].iloc[idx] = 'valley'\n",
    "            if price[idx] == price.iloc[idx-pv_range:idx+pv_range].max():\n",
    "                data[i]['peaks'].iloc[idx] = price[idx]\n",
    "                data[i]['pv'].iloc[idx] = 'peak'\n",
    "            if price[idx] == price.iloc[idx-pv_range:idx+pv_range].min():\n",
    "                data[i]['valleys'].iloc[idx] = price[idx]\n",
    "                data[i]['pv'].iloc[idx] = 'valley'\n"
   ]
  },
  {
   "cell_type": "code",
   "execution_count": 5,
   "metadata": {},
   "outputs": [],
   "source": [
    "def find_data_pv_HL_function(data, pv_range):\n",
    "    pd.options.mode.chained_assignment = None\n",
    "    for i in data:\n",
    "        high = data[i]['High']\n",
    "        low = data[i]['Low']\n",
    "        data[i]['peaks'] = pd.Series(dtype='float64')\n",
    "        data[i]['valleys'] = pd.Series(dtype='float64')\n",
    "        data[i]['pv'] = pd.Series(dtype='str')\n",
    "        for idx in range(0, len(high)):\n",
    "            if idx < pv_range and idx>0:\n",
    "                if high[idx] == high.iloc[0:pv_range*2+1].max():\n",
    "                    data[i]['peaks'].iloc[idx] = high[idx]\n",
    "                    data[i]['pv'].iloc[idx] = 'peak'\n",
    "                if low[idx] == low.iloc[0:pv_range*2+1].min():\n",
    "                    data[i]['valleys'].iloc[idx] = low[idx]\n",
    "                    data[i]['pv'].iloc[idx] = 'valley'\n",
    "            if high[idx] == high.iloc[idx-pv_range:idx+pv_range].max():\n",
    "                data[i]['peaks'].iloc[idx] = high[idx]\n",
    "                data[i]['pv'].iloc[idx] = 'peak'\n",
    "            if low[idx] == low.iloc[idx-pv_range:idx+pv_range].min():\n",
    "                data[i]['valleys'].iloc[idx] = low[idx]\n",
    "                data[i]['pv'].iloc[idx] = 'valley'\n"
   ]
  },
  {
   "cell_type": "code",
   "execution_count": 6,
   "metadata": {},
   "outputs": [],
   "source": [
    "def preprocessing(train_data, test_data, pv_range, pv_method):\n",
    "    if pv_method == 'CL':\n",
    "        find_data_pv_CL_function(train_data, pv_range)\n",
    "        find_data_pv_CL_function(test_data, pv_range)\n",
    "    elif pv_method == 'HL':\n",
    "        find_data_pv_HL_function(train_data, pv_range)\n",
    "        find_data_pv_HL_function(test_data, pv_range)\n",
    "    else :\n",
    "        print('worng pv_method')\n"
   ]
  },
  {
   "attachments": {},
   "cell_type": "markdown",
   "metadata": {},
   "source": [
    "# Built Model\n"
   ]
  },
  {
   "attachments": {},
   "cell_type": "markdown",
   "metadata": {},
   "source": [
    "Get signal\n"
   ]
  },
  {
   "cell_type": "code",
   "execution_count": 7,
   "metadata": {},
   "outputs": [],
   "source": [
    "def data_to_harmonics_function(data_stock, data_range):\n",
    "    harmonics = {}\n",
    "    for i in data_stock:\n",
    "        harmonics[i] = {}\n",
    "        # get data_stock's infomation\n",
    "        data = data_stock[i]['Close']\n",
    "        array_data = np.array(data)\n",
    "        n_data = array_data.size\n",
    "        time_data = np.arange(0, n_data)\n",
    "\n",
    "        # detrend data\n",
    "        # find linear trend in data\n",
    "        Polynomial = np.polyfit(time_data, array_data, 1)\n",
    "        data_notrend = array_data - Polynomial[0] * time_data    # detrended x\n",
    "\n",
    "        # fft process\n",
    "        data_freqdom = fft.fft(data_notrend, n=n_data)\n",
    "        frequence = fft.fftfreq(n=n_data, d=1)\n",
    "        f_positive = frequence[np.where(frequence > 0)]\n",
    "        data_freqdom_positive = data_freqdom[np.where(frequence > 0)]\n",
    "\n",
    "        # sort indexes\n",
    "        indexes = list(range(f_positive.size))      # frequencies\n",
    "        # sort method 1\n",
    "        # indexes.sort(key = lambda i: np.absolute(frequence[i]))     # sort indexes by frequency, lower -> higher\n",
    "        # sort method 2 :\n",
    "        # sort indexes by amplitudes, lower -> higher\n",
    "        indexes.sort(key=lambda i: np.absolute(data_freqdom[i]))\n",
    "        indexes.reverse()       # sort indexes by amplitudes, higher -> lower\n",
    "\n",
    "        # get data_all_time'size\n",
    "        time_transfer = np.arange(0, data_range*2)\n",
    "\n",
    "        # get harmonics\n",
    "        for j in indexes:\n",
    "            ampli = np.absolute(\n",
    "                data_freqdom_positive[j]) / n_data     # amplitude\n",
    "            phase = np.angle(data_freqdom_positive[j])      # phase\n",
    "            harmonics[i][j] = ampli * \\\n",
    "                np.cos(2 * np.pi * f_positive[j] * time_transfer + phase)\n",
    "    return harmonics\n"
   ]
  },
  {
   "cell_type": "code",
   "execution_count": 8,
   "metadata": {},
   "outputs": [],
   "source": [
    "def mix_harmonics_function(harmonics, n_harm_lower_limit, n_harm_upper_limit):\n",
    "    processed_signal = {}\n",
    "    for i in harmonics:\n",
    "        processed_signal[i] = {}\n",
    "        for n_harm in range(n_harm_lower_limit, n_harm_upper_limit+1):\n",
    "            mixed_harmonic = np.zeros(len(harmonics[i][0]))\n",
    "            # for j in range(n_harm):\n",
    "            for j in range(2, n_harm):\n",
    "                mixed_harmonic += harmonics[i][j]\n",
    "            processed_signal[i][n_harm] = pd.DataFrame(\n",
    "                {'Close': mixed_harmonic})\n",
    "    return processed_signal\n"
   ]
  },
  {
   "attachments": {},
   "cell_type": "markdown",
   "metadata": {},
   "source": [
    "Signal processing\n"
   ]
  },
  {
   "cell_type": "code",
   "execution_count": 9,
   "metadata": {},
   "outputs": [],
   "source": [
    "def find_signal_pv_function(signal, pv_range):\n",
    "    pd.options.mode.chained_assignment = None\n",
    "    for i in signal:\n",
    "        for j in signal[i]:\n",
    "            data = signal[i][j]['Close']\n",
    "            signal[i][j]['peaks'] = pd.Series(dtype='float64')\n",
    "            signal[i][j]['valleys'] = pd.Series(dtype='float64')\n",
    "            signal[i][j]['pv'] = pd.Series(dtype='str')\n",
    "            for idx in range(0, len(data)):\n",
    "                if idx < pv_range and idx>0:\n",
    "                    if data[idx] == data.iloc[0:pv_range*2+1].max():\n",
    "                        signal[i][j]['peaks'].iloc[idx] = data[idx]\n",
    "                        signal[i][j]['pv'].iloc[idx] = 'peak'\n",
    "                    if data[idx] == data.iloc[0:pv_range*2+1].min():\n",
    "                        signal[i][j]['valleys'].iloc[idx] = data[idx]\n",
    "                        signal[i][j]['pv'].iloc[idx] = 'valley'\n",
    "                if data[idx] == data.iloc[idx-pv_range:idx+pv_range].max():\n",
    "                    signal[i][j]['peaks'].iloc[idx] = data[idx]\n",
    "                    signal[i][j]['pv'].iloc[idx] = 'peak'\n",
    "                if data[idx] == data.iloc[idx-pv_range:idx+pv_range].min():\n",
    "                    signal[i][j]['valleys'].iloc[idx] = data[idx]\n",
    "                    signal[i][j]['pv'].iloc[idx] = 'valley'\n"
   ]
  },
  {
   "cell_type": "code",
   "execution_count": 10,
   "metadata": {},
   "outputs": [],
   "source": [
    "def find_signal_lead_train_function(data, processed_signal):\n",
    "    for d in data:\n",
    "        for p in processed_signal[d]:\n",
    "            # processed_signal[d][p]['pv'] = pd.Series(dtype='str')\n",
    "            processing_signal = processed_signal[d][p].head(len(data[d]))\n",
    "            p_data = pd.DataFrame(\n",
    "                {'peaks': data[d]['peaks'], 'count': range(len(data[d]))})\n",
    "            p_data = p_data.drop(p_data[p_data['peaks'].isna()].index)\n",
    "            p_data_count = list(p_data['count'])\n",
    "            p_signal = pd.DataFrame(\n",
    "                {'peaks': processing_signal['peaks'], 'count': range(len(processing_signal))})\n",
    "            p_signal = p_signal.drop(p_signal[p_signal['peaks'].isna()].index)\n",
    "            p_signal_list = list(p_signal['count'])\n",
    "            p_lead = []\n",
    "            for i in range(0, len(p_signal_list)):\n",
    "                temp = []\n",
    "                temp_abs = []\n",
    "                temp_2 = []\n",
    "                for j in range(0, len(p_data_count)):\n",
    "                    temp.append((p_data_count[j] - p_signal_list[i]))\n",
    "                    temp_abs.append(abs(p_data_count[j] - p_signal_list[i]))\n",
    "                for k in range(0, len(temp_abs)):\n",
    "                    if temp_abs[k] == min(temp_abs):\n",
    "                        temp_2 = temp[k]\n",
    "                p_lead.append(temp_2)\n",
    "            p_signal['lead'] = p_lead\n",
    "\n",
    "            v_data = pd.DataFrame(\n",
    "                {'valleys': data[d]['valleys'], 'count': range(len(data[d]))})\n",
    "            v_data = v_data.drop(v_data[v_data['valleys'].isna()].index)\n",
    "            v_data_count = list(v_data['count'])\n",
    "            v_signal = pd.DataFrame(\n",
    "                {'valleys': processing_signal['valleys'], 'count': range(len(processing_signal))})\n",
    "            v_signal = v_signal.drop(\n",
    "                v_signal[v_signal['valleys'].isna()].index)\n",
    "            v_signal_list = list(v_signal['count'])\n",
    "            v_lead = []\n",
    "            for i in range(0, len(v_signal_list)):\n",
    "                temp = []\n",
    "                temp_abs = []\n",
    "                temp_2 = []\n",
    "                for j in range(0, len(v_data_count)):\n",
    "                    temp.append((v_data_count[j] - v_signal_list[i]))\n",
    "                    temp_abs.append(abs(v_data_count[j] - v_signal_list[i]))\n",
    "                for k in range(0, len(temp_abs)):\n",
    "                    if temp_abs[k] == min(temp_abs):\n",
    "                        temp_2 = temp[k]\n",
    "                v_lead.append(temp_2)\n",
    "            v_signal['lead'] = v_lead\n",
    "\n",
    "            processed_signal[d][p]['lead'] = pd.Series(dtype='float64')\n",
    "            processed_signal[d][p]['lead'].loc[p_signal['lead'].index] = p_signal['lead']\n",
    "            processed_signal[d][p]['lead'].loc[v_signal['lead'].index] = v_signal['lead']\n"
   ]
  },
  {
   "cell_type": "code",
   "execution_count": 11,
   "metadata": {},
   "outputs": [],
   "source": [
    "def build_model(train_data, n_harm_lower_limit, n_harm_upper_limit, pv_range, data_range):\n",
    "    harmonics = data_to_harmonics_function(train_data, data_range)\n",
    "    processed_signal = mix_harmonics_function(\n",
    "        harmonics, n_harm_lower_limit, n_harm_upper_limit)\n",
    "    find_signal_pv_function(processed_signal, pv_range)\n",
    "    find_signal_lead_train_function(train_data, processed_signal)\n",
    "    return harmonics, processed_signal\n"
   ]
  },
  {
   "attachments": {},
   "cell_type": "markdown",
   "metadata": {},
   "source": [
    "# Select model\n"
   ]
  },
  {
   "cell_type": "code",
   "execution_count": 12,
   "metadata": {},
   "outputs": [],
   "source": [
    "def get_fit_error_function(processed_signal, fit_method):\n",
    "    errors = {}\n",
    "    error = []\n",
    "    for i in processed_signal:\n",
    "        errors[i] = {}\n",
    "        for j in processed_signal[i]:\n",
    "            signal_dropna = processed_signal[i][j].drop(\n",
    "                processed_signal[i][j][processed_signal[i][j]['lead'].isna()].index)\n",
    "            if fit_method == 'mean':\n",
    "                error = signal_dropna['lead'].mean()\n",
    "            elif fit_method == 'abs':\n",
    "                error = abs(signal_dropna['lead']).mean()\n",
    "            elif fit_method == 'rmse':\n",
    "                mse = np.square(np.subtract(np.zeros_like(\n",
    "                    signal_dropna['lead']), signal_dropna['lead'])).mean()\n",
    "                rmse = math.sqrt(mse)\n",
    "                error = rmse\n",
    "            else :\n",
    "                print('worng fit_method')\n",
    "            errors[i][j] = error\n",
    "    return errors\n"
   ]
  },
  {
   "cell_type": "code",
   "execution_count": 13,
   "metadata": {},
   "outputs": [],
   "source": [
    "def get_best_fit_harm_function(processed_signal, errors):\n",
    "    best_error = {}\n",
    "    best_fit_harm = {}\n",
    "    for i in processed_signal:\n",
    "        best_error[i] = pd.Series(errors[i]).abs().min()\n",
    "        best_fit_harm[i] = pd.Series(errors[i]).abs().idxmin()\n",
    "    return best_fit_harm, best_error\n"
   ]
  },
  {
   "cell_type": "code",
   "execution_count": 14,
   "metadata": {},
   "outputs": [],
   "source": [
    "def find_signal_lead_test_function(data, processed_signal):\n",
    "    for d in data:\n",
    "        for p in processed_signal[d]:\n",
    "            processed_signal[d][p]['pv'] = pd.Series(dtype='str')\n",
    "            processing_signal = processed_signal[d][p].tail(len(data[d]))\n",
    "            p_data = pd.DataFrame(\n",
    "                {'peaks': data[d]['peaks'], 'count': range(len(data[d]))})\n",
    "            p_data = p_data.drop(p_data[p_data['peaks'].isna()].index)\n",
    "            p_data_count = list(p_data['count'])\n",
    "            p_signal = pd.DataFrame(\n",
    "                {'peaks': processing_signal['peaks'], 'count': range(len(processing_signal))})\n",
    "            p_signal = p_signal.drop(p_signal[p_signal['peaks'].isna()].index)\n",
    "            p_signal_list = list(p_signal['count'])\n",
    "            p_lead = []\n",
    "            for i in range(0, len(p_signal_list)):\n",
    "                temp = []\n",
    "                temp_abs = []\n",
    "                temp_2 = []\n",
    "                for j in range(0, len(p_data_count)):\n",
    "                    temp.append((p_data_count[j] - p_signal_list[i]))\n",
    "                    temp_abs.append(abs(p_data_count[j] - p_signal_list[i]))\n",
    "                for k in range(0, len(temp_abs)):\n",
    "                    if temp_abs[k] == min(temp_abs):\n",
    "                        temp_2 = temp[k]\n",
    "                p_lead.append(temp_2)\n",
    "            p_signal['lead'] = p_lead\n",
    "\n",
    "            v_data = pd.DataFrame(\n",
    "                {'valleys': data[d]['valleys'], 'count': range(len(data[d]))})\n",
    "            v_data = v_data.drop(v_data[v_data['valleys'].isna()].index)\n",
    "            v_data_count = list(v_data['count'])\n",
    "            v_signal = pd.DataFrame(\n",
    "                {'valleys': processing_signal['valleys'], 'count': range(len(processing_signal))})\n",
    "            v_signal = v_signal.drop(\n",
    "                v_signal[v_signal['valleys'].isna()].index)\n",
    "            v_signal_list = list(v_signal['count'])\n",
    "            v_lead = []\n",
    "            for i in range(0, len(v_signal_list)):\n",
    "                temp = []\n",
    "                temp_abs = []\n",
    "                temp_2 = []\n",
    "                for j in range(0, len(v_data_count)):\n",
    "                    temp.append((v_data_count[j] - v_signal_list[i]))\n",
    "                    temp_abs.append(abs(v_data_count[j] - v_signal_list[i]))\n",
    "                for k in range(0, len(temp_abs)):\n",
    "                    if temp_abs[k] == min(temp_abs):\n",
    "                        temp_2 = temp[k]\n",
    "                v_lead.append(temp_2)\n",
    "            v_signal['lead'] = v_lead\n",
    "\n",
    "            processed_signal[d][p]['lead'] = pd.Series(dtype='float64')\n",
    "            processed_signal[d][p]['lead'].loc[p_signal['lead'].index] = p_signal['lead']\n",
    "            processed_signal[d][p]['pv'].loc[p_signal['lead'].index] = 'peak'\n",
    "            processed_signal[d][p]['lead'].loc[v_signal['lead'].index] = v_signal['lead']\n",
    "            processed_signal[d][p]['pv'].loc[v_signal['lead'].index] = 'valley'\n"
   ]
  },
  {
   "cell_type": "code",
   "execution_count": 15,
   "metadata": {},
   "outputs": [],
   "source": [
    "def get_first_lead_function(processed_signal, best_fit_harm):\n",
    "    first_date = {}\n",
    "    lead = {}\n",
    "    pv = {}\n",
    "    for i in processed_signal:\n",
    "        harm = best_fit_harm[i]\n",
    "        temp = processed_signal[i][harm].loc[list(\n",
    "            processed_signal[i][harm]['lead'].dropna().index)[0]]\n",
    "        first_index = list(processed_signal[i][harm]\n",
    "                             ['lead'].dropna().index)[0]\n",
    "        first_date[i] = processed_signal[i][harm].index.get_loc(first_index)\n",
    "        lead[i] = temp['lead']\n",
    "        pv[i] = temp['pv']\n",
    "    return first_date, lead, pv\n"
   ]
  },
  {
   "cell_type": "code",
   "execution_count": 16,
   "metadata": {},
   "outputs": [],
   "source": [
    "def select_model(test_data, processed_signal, fit_method):\n",
    "    errors = get_fit_error_function(processed_signal, fit_method)\n",
    "    best_fit_harm, best_error = get_best_fit_harm_function(\n",
    "        processed_signal, errors)\n",
    "    find_signal_lead_test_function(test_data, processed_signal)\n",
    "    first_date, lead, pv = get_first_lead_function(\n",
    "        processed_signal, best_fit_harm)\n",
    "    return errors, best_fit_harm, best_error, first_date, lead, pv\n"
   ]
  },
  {
   "attachments": {},
   "cell_type": "markdown",
   "metadata": {},
   "source": [
    "# Evaluate model\n"
   ]
  },
  {
   "cell_type": "code",
   "execution_count": 17,
   "metadata": {},
   "outputs": [],
   "source": [
    "def built_result_table_function(processed_signal, test_data_start_list, lead, pv, best_error, best_fit_harm):\n",
    "    result_table = pd.DataFrame(columns=[\n",
    "        's_date', 't_date', 'lead', 'ans_date', 'pv', 'error', 'best_fit'])\n",
    "    for i in processed_signal:\n",
    "        result_table.loc[i, 'error'] = round(best_error[i], 2)\n",
    "        result_table.loc[i, 'best_fit'] = best_fit_harm[i]\n",
    "        result_table.loc[i, 'lead'] = lead[i]\n",
    "        result_table.loc[i, 'pv'] = pv[i]\n",
    "    result_table['s_date'] = test_data_start_list\n",
    "    return result_table\n"
   ]
  },
  {
   "cell_type": "code",
   "execution_count": 18,
   "metadata": {},
   "outputs": [],
   "source": [
    "def result_table_process_function(result_table, all_data, first_date, data_range):\n",
    "    for i in result_table.index:\n",
    "        t_date = all_data.iloc[all_data.index.get_loc(result_table.loc[i, 's_date']) + first_date[i] - data_range].name\n",
    "        result_table.loc[i, 't_date'] = t_date\n",
    "        ans = all_data.iloc[int(all_data.index.get_loc(t_date) + result_table.loc[i, 'lead'])].name\n",
    "        result_table.loc[i, 'ans_date'] = ans"
   ]
  },
  {
   "cell_type": "code",
   "execution_count": 19,
   "metadata": {},
   "outputs": [],
   "source": [
    "def compute_final_error_function(result_table):\n",
    "    final_error = round(\n",
    "        sum([abs(ele) for ele in result_table['lead']]) / len(result_table['lead']), 2)\n",
    "    return final_error\n"
   ]
  },
  {
   "cell_type": "code",
   "execution_count": 20,
   "metadata": {},
   "outputs": [],
   "source": [
    "def evaluate_model(processed_signal, test_data_start_list, all_data, best_fit_harm, best_error, first_date, lead, pv, data_range):\n",
    "    result_table = built_result_table_function(\n",
    "        processed_signal, test_data_start_list, lead, pv, best_error, best_fit_harm)\n",
    "    result_table_process_function(\n",
    "        result_table, all_data, first_date, data_range)\n",
    "    final_error = compute_final_error_function(result_table)\n",
    "    return result_table, final_error\n"
   ]
  },
  {
   "attachments": {},
   "cell_type": "markdown",
   "metadata": {},
   "source": [
    "# Draw plot\n"
   ]
  },
  {
   "cell_type": "code",
   "execution_count": 21,
   "metadata": {},
   "outputs": [],
   "source": [
    "def find_data_pv_function(data, pv_range):\n",
    "    pd.options.mode.chained_assignment = None\n",
    "    price = data['Close']\n",
    "    data['peaks'] = pd.Series(dtype='float64')\n",
    "    data['valleys'] = pd.Series(dtype='float64')\n",
    "    data['pv'] = pd.Series(dtype='str')\n",
    "    for idx in range(0, len(price)):\n",
    "        if idx < pv_range and idx>0:\n",
    "            if price[idx] == price.iloc[0:pv_range*2+1].max():\n",
    "                data['peaks'].iloc[idx] = price[idx]\n",
    "                data['pv'].iloc[idx] = 'peak'\n",
    "            if price[idx] == price.iloc[0:pv_range*2+1].min():\n",
    "                data['valleys'].iloc[idx] = price[idx]\n",
    "                data['pv'].iloc[idx] = 'valleys'\n",
    "        if price[idx] == price.iloc[idx-pv_range:idx+pv_range].max():\n",
    "            data['peaks'].iloc[idx] = price[idx]\n",
    "            data['pv'].iloc[idx] = 'peak'\n",
    "        if price[idx] == price.iloc[idx-pv_range:idx+pv_range].min():\n",
    "            data['valleys'].iloc[idx] = price[idx]\n",
    "            data['pv'].iloc[idx] = 'valleys'\n"
   ]
  },
  {
   "cell_type": "code",
   "execution_count": 22,
   "metadata": {},
   "outputs": [],
   "source": [
    "def draw_plot_result_table(test_data, all_data, result_table, pv_range):\n",
    "    date_list = sorted(\n",
    "        list(result_table['s_date']) + list(result_table['t_date']) + list(result_table['ans_date']))\n",
    "    all_index = all_data.loc[date_list[0]:date_list[-1]].index\n",
    "    fig, axes = plt.subplots(2, 1, figsize=(30, 8), sharex=True)\n",
    "    test_data_copy = test_data.copy()\n",
    "    for d in test_data :\n",
    "        test_data_copy[d].index = test_data[d]['index']\n",
    "        test_data_copy[d] = test_data_copy[d].drop(test_data_copy[d][test_data_copy[d].index > date_list[-1]].index)\n",
    "        axes[0].plot(test_data_copy[d].index, test_data_copy[d]['Close'], 'gray', label='data', linewidth=3)\n",
    "    for d in test_data_copy :\n",
    "        axes[0].plot(test_data_copy[d].index, test_data_copy[d]['peaks'],\n",
    "                    '^', c='royalblue', label='peaks')\n",
    "        axes[0].plot(test_data_copy[d].index, test_data_copy[d]['valleys'], 'v',\n",
    "                    c='orangered', label='valleys')\n",
    "    plot_model = pd.DataFrame(index=all_index, columns=[\n",
    "                                's_date', 't_date', 'ans_date', 'lead', 'pv'])\n",
    "    plot_model['s_date'].loc[result_table['s_date']] = True\n",
    "    plot_model['t_date'].loc[result_table['t_date']] = True\n",
    "    plot_model['lead'].loc[result_table['t_date']] = list(result_table['lead'])\n",
    "    plot_model['pv'].loc[result_table['t_date']] = list(result_table['pv'])\n",
    "    plot_model['ans_date'].loc[result_table['ans_date']] = True\n",
    "    for i, label in enumerate(plot_model['lead']):\n",
    "        if plot_model['pv'][i] == 'peak':\n",
    "            # axes[0].plot(plot_data.index[i], plot_data['Close'].iloc[i], '|',\n",
    "            #             c='red')\n",
    "            axes[1].plot(plot_model.index[i], plot_model['lead'][i], '^',\n",
    "                            c='royalblue')\n",
    "            text = str(label)\n",
    "            axes[1].annotate(text, (plot_model.index[i],\n",
    "                                plot_model['lead'][i]), fontsize=14)\n",
    "        elif plot_model['pv'][i] == 'valley':\n",
    "            # axes[0].plot(plot_data.index[i], plot_data['Close'].iloc[i], '|',\n",
    "            #             c='red')\n",
    "            axes[1].plot(plot_model.index[i], plot_model['lead'][i], 'v',\n",
    "                            c='orangered')\n",
    "            text = str(label)\n",
    "            axes[1].annotate(text, (plot_model.index[i],\n",
    "                                plot_model['lead'][i]), fontsize=14)\n",
    "\n",
    "    axes[0].set_ylabel(\"Stock price\", fontsize=14)\n",
    "    axes[0].grid(True)\n",
    "    axes[1].grid(True)\n",
    "    axes[1].set_ylabel(\"lead\", fontsize=14)\n",
    "    plt.show()"
   ]
  },
  {
   "attachments": {},
   "cell_type": "markdown",
   "metadata": {},
   "source": [
    "# Main function\n"
   ]
  },
  {
   "cell_type": "code",
   "execution_count": 23,
   "metadata": {},
   "outputs": [],
   "source": [
    "def main_funtion(\n",
    "    stock_name, date_predict_start, data_range, slide_range,\n",
    "        n_slide, pv_range, n_harm_lower_limit, n_harm_upper_limit, fit_method, pv_method):\n",
    "\n",
    "    # 1. Load data\n",
    "    train_data, test_data, all_data, test_data_start_list = load_data(\n",
    "        stock_name, date_predict_start, data_range, slide_range, n_slide)\n",
    "    # 2. Preprocessing\n",
    "    preprocessing(train_data, test_data, pv_range, pv_method)\n",
    "    # 3. Build model\n",
    "    harmonics, model = build_model(\n",
    "        train_data, n_harm_lower_limit, n_harm_upper_limit, pv_range, data_range)\n",
    "    # 4. Select model\n",
    "    errors, best_fit_harm, best_error, first_date, lead, pv = select_model(test_data,\n",
    "                                                                           model, fit_method)\n",
    "    # 5. Evaluate model\n",
    "    result_table, final_error = evaluate_model(\n",
    "        model, test_data_start_list, all_data, best_fit_harm, best_error, first_date, lead, pv, data_range)\n",
    "    print('final_error = ', final_error)\n",
    "    with pd.option_context('display.max_rows', None,\n",
    "                       'display.max_columns', None,\n",
    "                       'display.precision', 3,\n",
    "                       ):\n",
    "        print(result_table)\n",
    "    draw_plot_result_table(test_data, all_data, result_table, pv_range)\n",
    "    # return harmonics, model, errors, best_fit_harm, best_error, first_date, lead, pv, result_table, final_error\n"
   ]
  },
  {
   "cell_type": "code",
   "execution_count": 24,
   "metadata": {},
   "outputs": [],
   "source": [
    "# main_funtion(\n",
    "#     stock_name, date_predict_start, data_range, slide_range,\n",
    "#         n_slide, pv_range, n_harm_lower_limit, n_harm_upper_limit, fit_method, pv_method)"
   ]
  },
  {
   "attachments": {},
   "cell_type": "markdown",
   "metadata": {},
   "source": [
    "# Lstm function"
   ]
  },
  {
   "cell_type": "code",
   "execution_count": 25,
   "metadata": {},
   "outputs": [],
   "source": [
    "def preprocessing_train_data_Lstm(train_data, x_length, y_length, slide):\n",
    "    x_train = {}\n",
    "    y_train = {}\n",
    "    for i in train_data:\n",
    "        scaler = MinMaxScaler(feature_range=(-1,1))\n",
    "        scaled_data = scaler.fit_transform(train_data[i]['Close'].values.reshape(-1,1))\n",
    "        x_train[i] = []\n",
    "        y_train[i] = []\n",
    "        # for x in range(x_length+y_length, len(scaled_data), slide):\n",
    "        for x in range(x_length+y_length, len(scaled_data)):\n",
    "            x_train[i].append(scaled_data[x-x_length-y_length:x-y_length])\n",
    "            y_train[i].append(scaled_data[x-y_length:x])\n",
    "        x_train[i], y_train[i] = np.array(x_train[i]), np.array(y_train[i])\n",
    "        # 將x_train數組的形狀轉換為（樣本數，天數，特徵數）的形式，這裡的特徵數為1\n",
    "        x_train[i] = np.reshape(x_train[i], (x_train[i].shape[0], x_train[i].shape[1], 1))\n",
    "        y_train[i] = np.reshape(y_train[i], (y_train[i].shape[0], y_train[i].shape[1], 1))\n",
    "    return x_train, y_train"
   ]
  },
  {
   "cell_type": "code",
   "execution_count": 26,
   "metadata": {},
   "outputs": [],
   "source": [
    "def LSTM_model(y_length, input_shape):\n",
    "    model = Sequential()\n",
    "    model.add(LSTM(units = 256, return_sequences = True, input_shape = input_shape))\n",
    "    model.add(Dropout(0.4))\n",
    "    model.add(LSTM(units = 128, return_sequences = True))\n",
    "    model.add(Dropout(0.4))\n",
    "    model.add(LSTM(units = 64))\n",
    "    model.add(Dropout(0.4))\n",
    "    model.add(Dense(units=y_length))\n",
    "    return model"
   ]
  },
  {
   "cell_type": "code",
   "execution_count": 27,
   "metadata": {},
   "outputs": [],
   "source": [
    "def build_Lstm_model(train_data, y_length, input_shape):\n",
    "    model = {}\n",
    "    for i in train_data:\n",
    "        model[i] = LSTM_model(y_length, input_shape)\n",
    "        model[i].compile(optimizer='adam', \n",
    "                    loss='mean_squared_error')\n",
    "        # model[i].summary()\n",
    "    return model"
   ]
  },
  {
   "cell_type": "code",
   "execution_count": 28,
   "metadata": {},
   "outputs": [],
   "source": [
    "def train_Lstm_model(train_data, model, x_train, y_train):\n",
    "    history = {}\n",
    "    for i in tqdm(train_data):\n",
    "        earlystopper = EarlyStopping(monitor = 'val_loss', patience = 5, verbose = 2)\n",
    "        history[i] = model[i].fit(x_train[i], y_train[i], epochs=25, batch_size=32, \n",
    "                            callbacks = [earlystopper], validation_split = 0.2, shuffle=True)\n",
    "    return history"
   ]
  },
  {
   "cell_type": "code",
   "execution_count": 29,
   "metadata": {},
   "outputs": [],
   "source": [
    "def preprocessing_test_data_Lstm(train_data, test_data, x_length, y_length, slide):\n",
    "    x_test = {}\n",
    "    y_test = {}\n",
    "    for i in test_data:\n",
    "        scaler = MinMaxScaler(feature_range=(-1,1))\n",
    "        model_inputs = pd.concat((train_data[i]['Close'].iloc[-x_length:], test_data[i]['Close'])).values\n",
    "        model_inputs = model_inputs.reshape(-1,1)\n",
    "        model_inputs = scaler.fit_transform(model_inputs)\n",
    "        x_test[i] = []\n",
    "        y_test[i] = []\n",
    "        for x in range(x_length+y_length, len(model_inputs), slide):\n",
    "            x_test[i].append(model_inputs[x-x_length-y_length:x-y_length])\n",
    "            y_test[i].append(model_inputs[x-y_length:x])\n",
    "        x_test[i], y_test[i] = np.array(x_test[i]), np.array(y_test[i])\n",
    "        x_test[i] = np.reshape(x_test[i], (x_test[i].shape[0], x_test[i].shape[1], 1))\n",
    "        y_test[i] = np.reshape(y_test[i], (y_test[i].shape[0], y_test[i].shape[1], 1))\n",
    "    return x_test, y_test"
   ]
  },
  {
   "cell_type": "code",
   "execution_count": 30,
   "metadata": {},
   "outputs": [],
   "source": [
    "def predicting_creat_processed_signal_Lstm(x_test, test_data, model):\n",
    "    processed_signal = {}\n",
    "    for i in test_data:\n",
    "        predicted_prices = model[i].predict(x_test[i])\n",
    "        processed_signal[i] = {}\n",
    "        processed_signal[i][0] = pd.DataFrame(\n",
    "            {'Close': predicted_prices.flatten()}, index=test_data[i].index[:len(predicted_prices.flatten())])\n",
    "    return processed_signal"
   ]
  },
  {
   "cell_type": "code",
   "execution_count": 31,
   "metadata": {},
   "outputs": [],
   "source": [
    "def result_table_process_Lstm_function(result_table, all_data, first_date, data_range):\n",
    "    for i in result_table.index:\n",
    "        t_date = all_data.iloc[int(all_data.index.get_loc(result_table.loc[i, 's_date'])) + first_date[i]].name\n",
    "        result_table.loc[i, 't_date'] = t_date\n",
    "        ans = all_data.iloc[int(all_data.index.get_loc(t_date) + result_table.loc[i, 'lead'])].name\n",
    "        result_table.loc[i, 'ans_date'] = ans"
   ]
  },
  {
   "cell_type": "code",
   "execution_count": 32,
   "metadata": {},
   "outputs": [],
   "source": [
    "# 1. Load data\n",
    "train_data, test_data, all_data, test_data_start_list = load_data(\n",
    "    stock_name, date_predict_start, data_range, slide_range, n_slide)\n",
    "# 2. Preprocessing\n",
    "preprocessing(train_data, test_data, pv_range, pv_method)\n",
    "x_train, y_train = preprocessing_train_data_Lstm(train_data, x_length, y_length, slide)\n",
    "x_test, y_test = preprocessing_test_data_Lstm(train_data, test_data, x_length, y_length, slide)"
   ]
  },
  {
   "cell_type": "code",
   "execution_count": 33,
   "metadata": {},
   "outputs": [
    {
     "name": "stderr",
     "output_type": "stream",
     "text": [
      "  0%|          | 0/10 [00:00<?, ?it/s]"
     ]
    },
    {
     "name": "stdout",
     "output_type": "stream",
     "text": [
      "Epoch 1/25\n",
      "5/5 [==============================] - 35s 2s/step - loss: 0.0395 - val_loss: 0.2173\n",
      "Epoch 2/25\n",
      "5/5 [==============================] - 1s 212ms/step - loss: 0.0336 - val_loss: 0.2045\n",
      "Epoch 3/25\n",
      "5/5 [==============================] - 1s 221ms/step - loss: 0.0327 - val_loss: 0.1933\n",
      "Epoch 4/25\n",
      "5/5 [==============================] - 1s 183ms/step - loss: 0.0300 - val_loss: 0.1919\n",
      "Epoch 5/25\n",
      "5/5 [==============================] - 1s 190ms/step - loss: 0.0299 - val_loss: 0.2142\n",
      "Epoch 6/25\n",
      "5/5 [==============================] - 1s 195ms/step - loss: 0.0289 - val_loss: 0.2157\n",
      "Epoch 7/25\n",
      "5/5 [==============================] - 1s 231ms/step - loss: 0.0273 - val_loss: 0.2203\n",
      "Epoch 8/25\n",
      "5/5 [==============================] - 1s 242ms/step - loss: 0.0269 - val_loss: 0.2161\n",
      "Epoch 9/25\n",
      "5/5 [==============================] - 1s 314ms/step - loss: 0.0258 - val_loss: 0.2158\n",
      "Epoch 9: early stopping\n"
     ]
    },
    {
     "name": "stderr",
     "output_type": "stream",
     "text": [
      " 10%|█         | 1/10 [00:43<06:30, 43.40s/it]"
     ]
    },
    {
     "name": "stdout",
     "output_type": "stream",
     "text": [
      "Epoch 1/25\n",
      "5/5 [==============================] - 44s 3s/step - loss: 0.0499 - val_loss: 0.2725\n",
      "Epoch 2/25\n",
      "5/5 [==============================] - 2s 343ms/step - loss: 0.0433 - val_loss: 0.2667\n",
      "Epoch 3/25\n",
      "5/5 [==============================] - 1s 276ms/step - loss: 0.0411 - val_loss: 0.2647\n",
      "Epoch 4/25\n",
      "5/5 [==============================] - 1s 288ms/step - loss: 0.0402 - val_loss: 0.2665\n",
      "Epoch 5/25\n",
      "5/5 [==============================] - 1s 302ms/step - loss: 0.0396 - val_loss: 0.2615\n",
      "Epoch 6/25\n",
      "5/5 [==============================] - 1s 249ms/step - loss: 0.0388 - val_loss: 0.2565\n",
      "Epoch 7/25\n",
      "5/5 [==============================] - 1s 211ms/step - loss: 0.0369 - val_loss: 0.2598\n",
      "Epoch 8/25\n",
      "5/5 [==============================] - 1s 215ms/step - loss: 0.0369 - val_loss: 0.2624\n",
      "Epoch 9/25\n",
      "5/5 [==============================] - 1s 217ms/step - loss: 0.0361 - val_loss: 0.2660\n",
      "Epoch 10/25\n",
      "5/5 [==============================] - 1s 216ms/step - loss: 0.0352 - val_loss: 0.3151\n",
      "Epoch 11/25\n",
      "5/5 [==============================] - 1s 262ms/step - loss: 0.0350 - val_loss: 0.2384\n",
      "Epoch 12/25\n",
      "5/5 [==============================] - 1s 261ms/step - loss: 0.0340 - val_loss: 0.2511\n",
      "Epoch 13/25\n",
      "5/5 [==============================] - 1s 246ms/step - loss: 0.0336 - val_loss: 0.2475\n",
      "Epoch 14/25\n",
      "5/5 [==============================] - 1s 246ms/step - loss: 0.0314 - val_loss: 0.2564\n",
      "Epoch 15/25\n",
      "5/5 [==============================] - 1s 250ms/step - loss: 0.0307 - val_loss: 0.2481\n",
      "Epoch 16/25\n",
      "5/5 [==============================] - 1s 267ms/step - loss: 0.0299 - val_loss: 0.2322\n",
      "Epoch 17/25\n",
      "5/5 [==============================] - 1s 264ms/step - loss: 0.0289 - val_loss: 0.2479\n",
      "Epoch 18/25\n",
      "5/5 [==============================] - 1s 223ms/step - loss: 0.0278 - val_loss: 0.2381\n",
      "Epoch 19/25\n",
      "5/5 [==============================] - 1s 224ms/step - loss: 0.0261 - val_loss: 0.2124\n",
      "Epoch 20/25\n",
      "5/5 [==============================] - 1s 214ms/step - loss: 0.0270 - val_loss: 0.2022\n",
      "Epoch 21/25\n",
      "5/5 [==============================] - 1s 222ms/step - loss: 0.0275 - val_loss: 0.2075\n",
      "Epoch 22/25\n",
      "5/5 [==============================] - 1s 175ms/step - loss: 0.0256 - val_loss: 0.1407\n",
      "Epoch 23/25\n",
      "5/5 [==============================] - 1s 180ms/step - loss: 0.0245 - val_loss: 0.1625\n",
      "Epoch 24/25\n",
      "5/5 [==============================] - 1s 178ms/step - loss: 0.0228 - val_loss: 0.1683\n",
      "Epoch 25/25\n",
      "5/5 [==============================] - 1s 189ms/step - loss: 0.0217 - val_loss: 0.1557\n"
     ]
    },
    {
     "name": "stderr",
     "output_type": "stream",
     "text": [
      " 20%|██        | 2/10 [01:55<08:00, 60.11s/it]"
     ]
    },
    {
     "name": "stdout",
     "output_type": "stream",
     "text": [
      "Epoch 1/25\n",
      "5/5 [==============================] - 42s 3s/step - loss: 0.1027 - val_loss: 0.3023\n",
      "Epoch 2/25\n",
      "5/5 [==============================] - 1s 269ms/step - loss: 0.0739 - val_loss: 0.2807\n",
      "Epoch 3/25\n",
      "5/5 [==============================] - 1s 310ms/step - loss: 0.0685 - val_loss: 0.2936\n",
      "Epoch 4/25\n",
      "5/5 [==============================] - 2s 319ms/step - loss: 0.0635 - val_loss: 0.2802\n",
      "Epoch 5/25\n",
      "5/5 [==============================] - 1s 277ms/step - loss: 0.0636 - val_loss: 0.2900\n",
      "Epoch 6/25\n",
      "5/5 [==============================] - 2s 398ms/step - loss: 0.0601 - val_loss: 0.2828\n",
      "Epoch 7/25\n",
      "5/5 [==============================] - 1s 289ms/step - loss: 0.0590 - val_loss: 0.2860\n",
      "Epoch 8/25\n",
      "5/5 [==============================] - 2s 347ms/step - loss: 0.0572 - val_loss: 0.2781\n",
      "Epoch 9/25\n",
      "5/5 [==============================] - 1s 277ms/step - loss: 0.0549 - val_loss: 0.2518\n",
      "Epoch 10/25\n",
      "5/5 [==============================] - 1s 282ms/step - loss: 0.0530 - val_loss: 0.2381\n",
      "Epoch 11/25\n",
      "5/5 [==============================] - 1s 273ms/step - loss: 0.0539 - val_loss: 0.2705\n",
      "Epoch 12/25\n",
      "5/5 [==============================] - 1s 264ms/step - loss: 0.0546 - val_loss: 0.2133\n",
      "Epoch 13/25\n",
      "5/5 [==============================] - 1s 217ms/step - loss: 0.0512 - val_loss: 0.1950\n",
      "Epoch 14/25\n",
      "5/5 [==============================] - 1s 261ms/step - loss: 0.0507 - val_loss: 0.1870\n",
      "Epoch 15/25\n",
      "5/5 [==============================] - 1s 223ms/step - loss: 0.0505 - val_loss: 0.2528\n",
      "Epoch 16/25\n",
      "5/5 [==============================] - 1s 227ms/step - loss: 0.0503 - val_loss: 0.1838\n",
      "Epoch 17/25\n",
      "5/5 [==============================] - 2s 329ms/step - loss: 0.0489 - val_loss: 0.2445\n",
      "Epoch 18/25\n",
      "5/5 [==============================] - 2s 384ms/step - loss: 0.0470 - val_loss: 0.1884\n",
      "Epoch 19/25\n",
      "5/5 [==============================] - 2s 490ms/step - loss: 0.0470 - val_loss: 0.2303\n",
      "Epoch 20/25\n",
      "5/5 [==============================] - 2s 471ms/step - loss: 0.0475 - val_loss: 0.1827\n",
      "Epoch 21/25\n",
      "5/5 [==============================] - 2s 466ms/step - loss: 0.0453 - val_loss: 0.2273\n",
      "Epoch 22/25\n",
      "5/5 [==============================] - 2s 427ms/step - loss: 0.0447 - val_loss: 0.1963\n",
      "Epoch 23/25\n",
      "5/5 [==============================] - 2s 473ms/step - loss: 0.0410 - val_loss: 0.1601\n",
      "Epoch 24/25\n",
      "5/5 [==============================] - 2s 472ms/step - loss: 0.0424 - val_loss: 0.2080\n",
      "Epoch 25/25\n",
      "5/5 [==============================] - 2s 406ms/step - loss: 0.0398 - val_loss: 0.2638\n"
     ]
    },
    {
     "name": "stderr",
     "output_type": "stream",
     "text": [
      " 30%|███       | 3/10 [03:16<08:07, 69.71s/it]"
     ]
    },
    {
     "name": "stdout",
     "output_type": "stream",
     "text": [
      "Epoch 1/25\n",
      "5/5 [==============================] - 69s 5s/step - loss: 0.1489 - val_loss: 0.2899\n",
      "Epoch 2/25\n",
      "5/5 [==============================] - 1s 271ms/step - loss: 0.0981 - val_loss: 0.2895\n",
      "Epoch 3/25\n",
      "5/5 [==============================] - 1s 276ms/step - loss: 0.0881 - val_loss: 0.2664\n",
      "Epoch 4/25\n",
      "5/5 [==============================] - 1s 307ms/step - loss: 0.0816 - val_loss: 0.2629\n",
      "Epoch 5/25\n",
      "5/5 [==============================] - 2s 378ms/step - loss: 0.0738 - val_loss: 0.2492\n",
      "Epoch 6/25\n",
      "5/5 [==============================] - 2s 382ms/step - loss: 0.0761 - val_loss: 0.2509\n",
      "Epoch 7/25\n",
      "5/5 [==============================] - 2s 441ms/step - loss: 0.0739 - val_loss: 0.2309\n",
      "Epoch 8/25\n",
      "5/5 [==============================] - 2s 366ms/step - loss: 0.0686 - val_loss: 0.2302\n",
      "Epoch 9/25\n",
      "5/5 [==============================] - 2s 365ms/step - loss: 0.0719 - val_loss: 0.2313\n",
      "Epoch 10/25\n",
      "5/5 [==============================] - 2s 362ms/step - loss: 0.0707 - val_loss: 0.2263\n",
      "Epoch 11/25\n",
      "5/5 [==============================] - 2s 343ms/step - loss: 0.0717 - val_loss: 0.2291\n",
      "Epoch 12/25\n",
      "5/5 [==============================] - 2s 311ms/step - loss: 0.0719 - val_loss: 0.2387\n",
      "Epoch 13/25\n",
      "5/5 [==============================] - 1s 302ms/step - loss: 0.0670 - val_loss: 0.1774\n",
      "Epoch 14/25\n",
      "5/5 [==============================] - 1s 297ms/step - loss: 0.0623 - val_loss: 0.0958\n",
      "Epoch 15/25\n",
      "5/5 [==============================] - 1s 289ms/step - loss: 0.0602 - val_loss: 0.0882\n",
      "Epoch 16/25\n",
      "5/5 [==============================] - 2s 355ms/step - loss: 0.0614 - val_loss: 0.1701\n",
      "Epoch 17/25\n",
      "5/5 [==============================] - 2s 378ms/step - loss: 0.0618 - val_loss: 0.1336\n",
      "Epoch 18/25\n",
      "5/5 [==============================] - 2s 370ms/step - loss: 0.0616 - val_loss: 0.0725\n",
      "Epoch 19/25\n",
      "5/5 [==============================] - 2s 361ms/step - loss: 0.0559 - val_loss: 0.0733\n",
      "Epoch 20/25\n",
      "5/5 [==============================] - 2s 367ms/step - loss: 0.0558 - val_loss: 0.1253\n",
      "Epoch 21/25\n",
      "5/5 [==============================] - 2s 345ms/step - loss: 0.0542 - val_loss: 0.0844\n",
      "Epoch 22/25\n",
      "5/5 [==============================] - 2s 388ms/step - loss: 0.0519 - val_loss: 0.1141\n",
      "Epoch 23/25\n",
      "5/5 [==============================] - 2s 380ms/step - loss: 0.0548 - val_loss: 0.0939\n",
      "Epoch 23: early stopping\n"
     ]
    },
    {
     "name": "stderr",
     "output_type": "stream",
     "text": [
      " 40%|████      | 4/10 [05:02<08:25, 84.22s/it]"
     ]
    },
    {
     "name": "stdout",
     "output_type": "stream",
     "text": [
      "Epoch 1/25\n",
      "5/5 [==============================] - 49s 5s/step - loss: 0.1472 - val_loss: 0.3534\n",
      "Epoch 2/25\n",
      "5/5 [==============================] - 2s 366ms/step - loss: 0.1085 - val_loss: 0.3382\n",
      "Epoch 3/25\n",
      "5/5 [==============================] - 2s 337ms/step - loss: 0.0973 - val_loss: 0.3062\n",
      "Epoch 4/25\n",
      "5/5 [==============================] - 2s 378ms/step - loss: 0.0884 - val_loss: 0.2844\n",
      "Epoch 5/25\n",
      "5/5 [==============================] - 2s 403ms/step - loss: 0.0829 - val_loss: 0.2434\n",
      "Epoch 6/25\n",
      "5/5 [==============================] - 2s 390ms/step - loss: 0.0807 - val_loss: 0.2077\n",
      "Epoch 7/25\n",
      "5/5 [==============================] - 2s 441ms/step - loss: 0.0775 - val_loss: 0.1526\n",
      "Epoch 8/25\n",
      "5/5 [==============================] - 2s 405ms/step - loss: 0.0832 - val_loss: 0.1247\n",
      "Epoch 9/25\n",
      "5/5 [==============================] - 2s 442ms/step - loss: 0.0764 - val_loss: 0.1393\n",
      "Epoch 10/25\n",
      "5/5 [==============================] - 2s 396ms/step - loss: 0.0768 - val_loss: 0.1180\n",
      "Epoch 11/25\n",
      "5/5 [==============================] - 2s 343ms/step - loss: 0.0716 - val_loss: 0.0368\n",
      "Epoch 12/25\n",
      "5/5 [==============================] - 2s 340ms/step - loss: 0.0653 - val_loss: 0.0453\n",
      "Epoch 13/25\n",
      "5/5 [==============================] - 2s 385ms/step - loss: 0.0655 - val_loss: 0.0629\n",
      "Epoch 14/25\n",
      "5/5 [==============================] - 1s 250ms/step - loss: 0.0649 - val_loss: 0.0896\n",
      "Epoch 15/25\n",
      "5/5 [==============================] - 1s 266ms/step - loss: 0.0598 - val_loss: 0.2410\n",
      "Epoch 16/25\n",
      "5/5 [==============================] - 1s 275ms/step - loss: 0.0561 - val_loss: 0.1273\n",
      "Epoch 16: early stopping\n"
     ]
    },
    {
     "name": "stderr",
     "output_type": "stream",
     "text": [
      " 50%|█████     | 5/10 [06:18<06:45, 81.17s/it]"
     ]
    },
    {
     "name": "stdout",
     "output_type": "stream",
     "text": [
      "Epoch 1/25\n",
      "5/5 [==============================] - 48s 5s/step - loss: 0.0633 - val_loss: 0.3138\n",
      "Epoch 2/25\n",
      "5/5 [==============================] - 1s 212ms/step - loss: 0.0465 - val_loss: 0.1778\n",
      "Epoch 3/25\n",
      "5/5 [==============================] - 1s 209ms/step - loss: 0.0391 - val_loss: 0.1467\n",
      "Epoch 4/25\n",
      "5/5 [==============================] - 1s 208ms/step - loss: 0.0392 - val_loss: 0.0853\n",
      "Epoch 5/25\n",
      "5/5 [==============================] - 1s 214ms/step - loss: 0.0347 - val_loss: 0.1011\n",
      "Epoch 6/25\n",
      "5/5 [==============================] - 1s 231ms/step - loss: 0.0325 - val_loss: 0.1475\n",
      "Epoch 7/25\n",
      "5/5 [==============================] - 1s 215ms/step - loss: 0.0325 - val_loss: 0.1109\n",
      "Epoch 8/25\n",
      "5/5 [==============================] - 1s 250ms/step - loss: 0.0325 - val_loss: 0.1785\n",
      "Epoch 9/25\n",
      "5/5 [==============================] - 1s 220ms/step - loss: 0.0327 - val_loss: 0.0995\n",
      "Epoch 9: early stopping\n"
     ]
    },
    {
     "name": "stderr",
     "output_type": "stream",
     "text": [
      " 60%|██████    | 6/10 [07:14<04:51, 72.75s/it]"
     ]
    },
    {
     "name": "stdout",
     "output_type": "stream",
     "text": [
      "Epoch 1/25\n",
      "5/5 [==============================] - 44s 3s/step - loss: 0.1316 - val_loss: 0.2444\n",
      "Epoch 2/25\n",
      "5/5 [==============================] - 1s 249ms/step - loss: 0.0738 - val_loss: 0.2478\n",
      "Epoch 3/25\n",
      "5/5 [==============================] - 1s 250ms/step - loss: 0.0563 - val_loss: 0.2085\n",
      "Epoch 4/25\n",
      "5/5 [==============================] - 1s 227ms/step - loss: 0.0487 - val_loss: 0.2060\n",
      "Epoch 5/25\n",
      "5/5 [==============================] - 1s 225ms/step - loss: 0.0433 - val_loss: 0.2109\n",
      "Epoch 6/25\n",
      "5/5 [==============================] - 1s 226ms/step - loss: 0.0407 - val_loss: 0.2306\n",
      "Epoch 7/25\n",
      "5/5 [==============================] - 1s 217ms/step - loss: 0.0367 - val_loss: 0.2162\n",
      "Epoch 8/25\n",
      "5/5 [==============================] - 1s 215ms/step - loss: 0.0402 - val_loss: 0.2511\n",
      "Epoch 9/25\n",
      "5/5 [==============================] - 1s 213ms/step - loss: 0.0339 - val_loss: 0.2224\n",
      "Epoch 9: early stopping\n"
     ]
    },
    {
     "name": "stderr",
     "output_type": "stream",
     "text": [
      " 70%|███████   | 7/10 [08:08<03:19, 66.43s/it]"
     ]
    },
    {
     "name": "stdout",
     "output_type": "stream",
     "text": [
      "Epoch 1/25\n",
      "5/5 [==============================] - 38s 2s/step - loss: 0.1738 - val_loss: 0.4253\n",
      "Epoch 2/25\n",
      "5/5 [==============================] - 1s 263ms/step - loss: 0.0995 - val_loss: 0.3972\n",
      "Epoch 3/25\n",
      "5/5 [==============================] - 1s 281ms/step - loss: 0.0778 - val_loss: 0.4176\n",
      "Epoch 4/25\n",
      "5/5 [==============================] - 1s 266ms/step - loss: 0.0662 - val_loss: 0.3878\n",
      "Epoch 5/25\n",
      "5/5 [==============================] - 1s 246ms/step - loss: 0.0568 - val_loss: 0.4543\n",
      "Epoch 6/25\n",
      "5/5 [==============================] - 1s 205ms/step - loss: 0.0530 - val_loss: 0.4669\n",
      "Epoch 7/25\n",
      "5/5 [==============================] - 1s 213ms/step - loss: 0.0464 - val_loss: 0.5880\n",
      "Epoch 8/25\n",
      "5/5 [==============================] - 1s 208ms/step - loss: 0.0477 - val_loss: 0.5668\n",
      "Epoch 9/25\n",
      "5/5 [==============================] - 1s 208ms/step - loss: 0.0407 - val_loss: 0.5697\n",
      "Epoch 9: early stopping\n"
     ]
    },
    {
     "name": "stderr",
     "output_type": "stream",
     "text": [
      " 80%|████████  | 8/10 [08:55<02:00, 60.24s/it]"
     ]
    },
    {
     "name": "stdout",
     "output_type": "stream",
     "text": [
      "Epoch 1/25\n",
      "5/5 [==============================] - 39s 2s/step - loss: 0.2225 - val_loss: 0.5160\n",
      "Epoch 2/25\n",
      "5/5 [==============================] - 1s 216ms/step - loss: 0.1365 - val_loss: 0.4632\n",
      "Epoch 3/25\n",
      "5/5 [==============================] - 1s 238ms/step - loss: 0.0958 - val_loss: 0.6092\n",
      "Epoch 4/25\n",
      "5/5 [==============================] - 1s 213ms/step - loss: 0.0802 - val_loss: 0.7233\n",
      "Epoch 5/25\n",
      "5/5 [==============================] - 1s 235ms/step - loss: 0.0647 - val_loss: 0.8159\n",
      "Epoch 6/25\n",
      "5/5 [==============================] - 1s 221ms/step - loss: 0.0560 - val_loss: 0.8629\n",
      "Epoch 7/25\n",
      "5/5 [==============================] - 1s 208ms/step - loss: 0.0511 - val_loss: 1.1251\n",
      "Epoch 7: early stopping\n"
     ]
    },
    {
     "name": "stderr",
     "output_type": "stream",
     "text": [
      " 90%|█████████ | 9/10 [09:40<00:55, 55.57s/it]"
     ]
    },
    {
     "name": "stdout",
     "output_type": "stream",
     "text": [
      "Epoch 1/25\n",
      "5/5 [==============================] - 29s 1s/step - loss: 0.2378 - val_loss: 0.6101\n",
      "Epoch 2/25\n",
      "5/5 [==============================] - 1s 230ms/step - loss: 0.1355 - val_loss: 0.4759\n",
      "Epoch 3/25\n",
      "5/5 [==============================] - 1s 207ms/step - loss: 0.1084 - val_loss: 0.7218\n",
      "Epoch 4/25\n",
      "5/5 [==============================] - 1s 209ms/step - loss: 0.0919 - val_loss: 0.6628\n",
      "Epoch 5/25\n",
      "5/5 [==============================] - 1s 211ms/step - loss: 0.0743 - val_loss: 0.9221\n",
      "Epoch 6/25\n",
      "5/5 [==============================] - 1s 238ms/step - loss: 0.0736 - val_loss: 0.8396\n",
      "Epoch 7/25\n",
      "5/5 [==============================] - 1s 221ms/step - loss: 0.0598 - val_loss: 0.9671\n",
      "Epoch 7: early stopping\n"
     ]
    },
    {
     "name": "stderr",
     "output_type": "stream",
     "text": [
      "100%|██████████| 10/10 [10:16<00:00, 61.65s/it]\n"
     ]
    }
   ],
   "source": [
    "# 3. Build model\n",
    "# harmonics, model = build_model(\n",
    "    # train_data, n_harm_lower_limit, n_harm_upper_limit, pv_range, data_range)\n",
    "# harmonics = data_to_harmonics_function(train_data, data_range)\n",
    "# processed_signal_FFT = mix_harmonics_function(\n",
    "#     harmonics, n_harm_lower_limit, n_harm_upper_limit)\n",
    "# processed_signal = processed_signal_FFT\n",
    "\n",
    "input_shape = (x_train[list(x_train.keys())[0]].shape[1],1)\n",
    "model = build_Lstm_model(train_data, y_length, input_shape)\n",
    "history = train_Lstm_model(train_data, model, x_train, y_train)\n"
   ]
  },
  {
   "cell_type": "code",
   "execution_count": 34,
   "metadata": {},
   "outputs": [
    {
     "name": "stdout",
     "output_type": "stream",
     "text": [
      "1/1 [==============================] - 4s 4s/step\n",
      "1/1 [==============================] - 3s 3s/step\n",
      "1/1 [==============================] - 3s 3s/step\n",
      "1/1 [==============================] - 3s 3s/step\n",
      "WARNING:tensorflow:5 out of the last 5 calls to <function Model.make_predict_function.<locals>.predict_function at 0x0000021298C92950> triggered tf.function retracing. Tracing is expensive and the excessive number of tracings could be due to (1) creating @tf.function repeatedly in a loop, (2) passing tensors with different shapes, (3) passing Python objects instead of tensors. For (1), please define your @tf.function outside of the loop. For (2), @tf.function has reduce_retracing=True option that can avoid unnecessary retracing. For (3), please refer to https://www.tensorflow.org/guide/function#controlling_retracing and https://www.tensorflow.org/api_docs/python/tf/function for  more details.\n",
      "1/1 [==============================] - 3s 3s/step\n",
      "WARNING:tensorflow:6 out of the last 6 calls to <function Model.make_predict_function.<locals>.predict_function at 0x000002129A274040> triggered tf.function retracing. Tracing is expensive and the excessive number of tracings could be due to (1) creating @tf.function repeatedly in a loop, (2) passing tensors with different shapes, (3) passing Python objects instead of tensors. For (1), please define your @tf.function outside of the loop. For (2), @tf.function has reduce_retracing=True option that can avoid unnecessary retracing. For (3), please refer to https://www.tensorflow.org/guide/function#controlling_retracing and https://www.tensorflow.org/api_docs/python/tf/function for  more details.\n",
      "1/1 [==============================] - 3s 3s/step\n",
      "1/1 [==============================] - 2s 2s/step\n",
      "1/1 [==============================] - 2s 2s/step\n",
      "1/1 [==============================] - 2s 2s/step\n",
      "1/1 [==============================] - 2s 2s/step\n"
     ]
    }
   ],
   "source": [
    "processed_signal = predicting_creat_processed_signal_Lstm(x_test, test_data, model)\n",
    "find_signal_pv_function(processed_signal, pv_range)\n",
    "find_signal_lead_train_function(train_data, processed_signal)"
   ]
  },
  {
   "cell_type": "code",
   "execution_count": 35,
   "metadata": {},
   "outputs": [],
   "source": [
    "# 4. Select model\n",
    "# errors, best_fit_harm, best_error, first_date, lead, pv = select_model(test_data,\n",
    "#                                                                         model, fit_method)\n",
    "errors = get_fit_error_function(processed_signal, fit_method)\n",
    "best_fit_harm, best_error = get_best_fit_harm_function(\n",
    "    processed_signal, errors)\n",
    "find_signal_lead_test_function(test_data, processed_signal)\n",
    "first_date, lead, pv = get_first_lead_function(\n",
    "    processed_signal, best_fit_harm)\n"
   ]
  },
  {
   "cell_type": "code",
   "execution_count": 36,
   "metadata": {},
   "outputs": [
    {
     "name": "stdout",
     "output_type": "stream",
     "text": [
      "final_error =  12.1\n",
      "              s_date      t_date  lead    ans_date      pv  error best_fit\n",
      "window_0  2020-01-02  2020-01-06   9.0  2020-01-17    peak   9.62        0\n",
      "window_1  2020-01-16  2020-01-22   7.0  2020-01-31  valley  11.69        0\n",
      "window_2  2020-01-31  2020-02-20 -13.0  2020-01-31  valley   9.57        0\n",
      "window_3  2020-02-14  2020-03-11  11.0  2020-03-26    peak   9.58        0\n",
      "window_4  2020-03-02  2020-03-04  13.0  2020-03-23  valley  10.46        0\n",
      "window_5  2020-03-16  2020-04-24   3.0  2020-04-29    peak   8.54        0\n",
      "window_6  2020-03-30  2020-04-02  18.0  2020-04-29    peak  10.87        0\n",
      "window_7  2020-04-14  2020-04-17   8.0  2020-04-29    peak   9.09        0\n",
      "window_8  2020-04-28  2020-05-04  24.0  2020-06-08    peak  10.21        0\n",
      "window_9  2020-05-12  2020-05-15  15.0  2020-06-08    peak   9.54        0\n"
     ]
    }
   ],
   "source": [
    "# 5. Evaluate model\n",
    "# result_table, final_error = evaluate_model(\n",
    "#     model, test_data_start_list, all_data, best_fit_harm, best_error, first_date, lead, pv, data_range)\n",
    "result_table = built_result_table_function(\n",
    "    processed_signal, test_data_start_list, lead, pv, best_error, best_fit_harm)\n",
    "result_table_process_Lstm_function(\n",
    "    result_table, all_data, first_date, data_range)\n",
    "final_error = compute_final_error_function(result_table)\n",
    "print('final_error = ', final_error)\n",
    "with pd.option_context('display.max_rows', None,\n",
    "                    'display.max_columns', None,\n",
    "                    'display.precision', 3,\n",
    "                    ):\n",
    "    print(result_table)"
   ]
  },
  {
   "cell_type": "code",
   "execution_count": 37,
   "metadata": {},
   "outputs": [
    {
     "data": {
      "image/png": "[encoded data removed]",
      "text/plain": [
       "<Figure size 3000x800 with 2 Axes>"
      ]
     },
     "metadata": {},
     "output_type": "display_data"
    }
   ],
   "source": [
    "draw_plot_result_table(test_data, all_data, result_table, pv_range)"
   ]
  },
  {
   "cell_type": "code",
   "execution_count": 38,
   "metadata": {},
   "outputs": [],
   "source": [
    "# for i in processed_signal:\n",
    "#     fig, axes = plt.subplots(2, 1, figsize=(20, 8), sharex=True)\n",
    "#     axes[0].set_title(i, fontsize=40)\n",
    "#     axes[0].plot(range(0, len(train_data[i])), train_data[i]['Close'])\n",
    "#     axes[0].plot(range(0, len(train_data[i])), train_data[i]['peaks'], '^')\n",
    "#     axes[0].plot(range(0, len(train_data[i])), train_data[i]['valleys'], 'v')\n",
    "#     axes[0].plot(range(len(train_data[i]), len(test_data[i])+len(train_data[i])), test_data[i]['Close'])\n",
    "#     axes[0].plot(range(len(train_data[i]), len(test_data[i])+len(train_data[i])), test_data[i]['peaks'], '^')\n",
    "#     axes[0].plot(range(len(train_data[i]), len(test_data[i])+len(train_data[i])), test_data[i]['valleys'], 'v')\n",
    "#     axes[1].plot(range(len(train_data[i]), len(train_data[i])+len(processed_signal[i][best_fit_harm[i]])), processed_signal[i][best_fit_harm[i]]['Close'])\n",
    "#     axes[1].plot(range(len(train_data[i]), len(train_data[i])+len(processed_signal[i][best_fit_harm[i]])), processed_signal[i][best_fit_harm[i]]['peaks'], '^')\n",
    "#     axes[1].plot(range(len(train_data[i]), len(train_data[i])+len(processed_signal[i][best_fit_harm[i]])), processed_signal[i][best_fit_harm[i]]['valleys'], 'v')\n",
    "#     plt.xlim(len(train_data[i]), len(train_data[i])+len(processed_signal[i][best_fit_harm[i]]))\n",
    "#     axes[0].grid()\n",
    "#     axes[1].grid()\n",
    "#     plt.xticks(np.arange(len(train_data[i]), len(train_data[i])+len(processed_signal[i][best_fit_harm[i]]), step=10))\n",
    "#     plt.show()"
   ]
  },
  {
   "cell_type": "code",
   "execution_count": 39,
   "metadata": {},
   "outputs": [],
   "source": [
    "def kbar(open, close, high, low, pos, ax):\n",
    "    if close > open:             # 上漲\n",
    "        color='green'                 # 紅 K 棒\n",
    "        height=close - open   # 高度=收盤-開盤\n",
    "        bottom=open             # 底部=開盤\n",
    "    else:                               # 下跌\n",
    "        color='red'              # 綠 k 棒\n",
    "        height=open - close   # 高度=開盤-收盤\n",
    "        bottom=close             # 底部=收盤\n",
    "    # 繪製 k 棒實體      \n",
    "    ax.bar(pos, height=height,bottom=bottom, width=1, color=color)\n",
    "    # 繪製 k 棒上下影線\n",
    "    ax.vlines(pos, high, low, color=color)"
   ]
  },
  {
   "cell_type": "code",
   "execution_count": 40,
   "metadata": {},
   "outputs": [],
   "source": [
    "def draw_profit_plot(profit_table, pv_range):\n",
    "    date_list = sorted(\n",
    "        list(profit_table['in_date']) + list(profit_table['out_date']))\n",
    "    plot_data = all_data.loc[date_list[0]:date_list[-1]]\n",
    "    find_data_pv_function(plot_data, pv_range)\n",
    "    fig, ax = plt.subplots(figsize=(20, 8))\n",
    "    # plt.subplots(figsize=(20, 8))\n",
    "    for i in plot_data.index:\n",
    "        kbar(plot_data['Open'].loc[i], plot_data['Close'].loc[i], plot_data['High'].loc[i], plot_data['Low'].loc[i], i, ax)\n",
    "    # ax.plot(plot_data['peaks'], '^', label='peaks', c='royalblue')\n",
    "    # ax.plot(plot_data['valleys'], 'v', label='valleys', c='orangered')\n",
    "    for i in profit_table.index:\n",
    "        if profit_table.loc[i, 'pv'] == 'peak':\n",
    "            arrow = patches.FancyArrowPatch((profit_table.loc[i, 'in_date'], profit_table.loc[i, 'in_price']), (profit_table.loc[i, 'out_date'], profit_table.loc[i, 'out_price']), \n",
    "                                            linestyle='--', mutation_scale=20, arrowstyle='->', edgecolor='red')\n",
    "            ax.add_patch(arrow)\n",
    "            ax.plot(profit_table.loc[i, 'in_date'], plot_data['High'].loc[profit_table.loc[i, 'in_date']]+10, 'v', color='red')\n",
    "            ax.plot(profit_table.loc[i, 'out_date'], plot_data['Low'].loc[profit_table.loc[i, 'out_date']]-10, '^', color='green')\n",
    "\n",
    "        elif profit_table.loc[i, 'pv'] == 'valley':\n",
    "            arrow = patches.FancyArrowPatch((profit_table.loc[i, 'in_date'], profit_table.loc[i, 'in_price']), (profit_table.loc[i, 'out_date'], profit_table.loc[i, 'out_price']), \n",
    "                                linestyle='--', mutation_scale=20, arrowstyle='->', edgecolor='green')\n",
    "            ax.add_patch(arrow)\n",
    "            ax.plot(profit_table.loc[i, 'in_date'], plot_data['Low'].loc[profit_table.loc[i, 'in_date']]-10, '^', color='green')\n",
    "            ax.plot(profit_table.loc[i, 'out_date'], plot_data['High'].loc[profit_table.loc[i, 'out_date']]+10, 'v', color='red')\n",
    "            \n",
    "        if 'strategy' in profit_table.columns:\n",
    "            if profit_table.loc[i, 'strategy'] == 'stop_profit':\n",
    "                ax.hlines(profit_table.loc[i, 'strategy_price'], profit_table.loc[i, 'in_date'], profit_table.loc[i, 'out_date'], color='green', linestyles='dotted')\n",
    "            elif profit_table.loc[i, 'strategy'] == 'stop_loss':\n",
    "                ax.hlines(profit_table.loc[i, 'strategy_price'], profit_table.loc[i, 'in_date'], profit_table.loc[i, 'out_date'], color='red', linestyles='dotted')\n",
    "            \n",
    "    # ax.annotate(f'{i}', (profit_table.loc[i, 'in_date'], profit_table.loc[i, 'in_price']-100), fontsize=14, c='black')\n",
    "    ax.xaxis.set_major_formatter(mdates.DateFormatter('%m-%d'))\n",
    "    ax.xaxis.set_major_locator(mdates.DayLocator(interval=5))\n",
    "    plt.grid()\n",
    "    # plt.legend()\n",
    "    plt.show()"
   ]
  },
  {
   "cell_type": "code",
   "execution_count": 41,
   "metadata": {},
   "outputs": [],
   "source": [
    "def build_profit_table_method_1(result_table):\n",
    "    profit_table = pd.DataFrame(columns=['in_date', 'in_price', 'out_date', 'out_price', 'pv', 'profit'])\n",
    "    total_profit = 0\n",
    "    for i in result_table.index:\n",
    "        in_price = all_data['Open'].iloc[all_data.index.get_loc(result_table.loc[i, 't_date'])]\n",
    "        out_price = all_data['Close'].iloc[all_data.index.get_loc(result_table.loc[i, 't_date'])+pv_range]\n",
    "        if result_table.loc[i, 'pv'] == 'valley':\n",
    "            profit = out_price - in_price\n",
    "            profit_table.loc[i, 'pv'] = 'valley'\n",
    "        else:\n",
    "            profit = in_price - out_price\n",
    "            profit_table.loc[i, 'pv'] = 'peak'\n",
    "        profit_table.loc[i, 'in_date'] = result_table.loc[i, 't_date']\n",
    "        profit_table.loc[i, 'in_price'] = in_price\n",
    "        profit_table.loc[i, 'out_date'] = all_data.iloc[all_data.index.get_loc(result_table.loc[i, 't_date'])+pv_range].name\n",
    "        profit_table.loc[i, 'out_price'] = out_price\n",
    "        profit_table.loc[i, 'profit'] = profit\n",
    "        total_profit += profit\n",
    "    return total_profit, profit_table"
   ]
  },
  {
   "cell_type": "code",
   "execution_count": 42,
   "metadata": {},
   "outputs": [],
   "source": [
    "def build_profit_table_method_2(result_table, profit_percentage, loss_percentage):\n",
    "    '''percentage:fioat\n",
    "    '''\n",
    "    profit_table = pd.DataFrame(columns=['in_date', 'in_price', 'out_date', 'out_price', 'pv', 'profit', 'strategy', 'strategy_price'])\n",
    "    total_profit = 0\n",
    "    for i in result_table.index:\n",
    "        in_price = all_data['Open'].iloc[all_data.index.get_loc(result_table.loc[i, 't_date'])]\n",
    "        if result_table.loc[i, 'pv'] == 'valley':\n",
    "            stop_profit_price = in_price*(1+profit_percentage)\n",
    "            stop_loss_price = in_price*(1-loss_percentage)\n",
    "        else:\n",
    "            stop_profit_price = in_price*(1-profit_percentage)\n",
    "            stop_loss_price = in_price*(1+loss_percentage)\n",
    "\n",
    "        # print(in_price, stop_loss_price, stop_profit_price)\n",
    "        start_index = all_data.index.get_loc(result_table.loc[i, 't_date'])\n",
    "        end_index = all_data.index.get_loc(result_table.loc[i, 't_date'])+pv_range\n",
    "        trade_data = all_data.iloc[start_index:end_index]\n",
    "        # check out_price\n",
    "        out_price = all_data['Close'].iloc[end_index]\n",
    "        profit_table.loc[i, 'out_date'] = all_data.iloc[end_index].name\n",
    "        for j in trade_data.index:\n",
    "            high = trade_data['High'].loc[j]\n",
    "            low = trade_data['Low'].loc[j]\n",
    "            if result_table.loc[i, 'pv'] == 'valley':\n",
    "                if high>=stop_profit_price:\n",
    "                    out_price = stop_profit_price\n",
    "                    profit_table.loc[i, 'out_date'] = trade_data.loc[j].name\n",
    "                    profit_table.loc[i, 'strategy'] = 'stop_profit'\n",
    "                    profit_table.loc[i, 'strategy_price'] = stop_profit_price\n",
    "                    break\n",
    "                elif low<=stop_loss_price:\n",
    "                    out_price = stop_loss_price\n",
    "                    profit_table.loc[i, 'out_date'] = trade_data.loc[j].name\n",
    "                    profit_table.loc[i, 'strategy'] = 'stop_loss'\n",
    "                    profit_table.loc[i, 'strategy_price'] = stop_loss_price\n",
    "                    break\n",
    "            elif result_table.loc[i, 'pv'] == 'peak':\n",
    "                    if low<=stop_profit_price:\n",
    "                        out_price = stop_profit_price\n",
    "                        profit_table.loc[i, 'out_date'] = trade_data.loc[j].name\n",
    "                        profit_table.loc[i, 'strategy'] = 'stop_profit'\n",
    "                        profit_table.loc[i, 'strategy_price'] = stop_profit_price\n",
    "                        break\n",
    "                    elif high>=stop_loss_price:\n",
    "                        out_price = stop_loss_price\n",
    "                        profit_table.loc[i, 'out_date'] = trade_data.loc[j].name\n",
    "                        profit_table.loc[i, 'strategy'] = 'stop_loss'\n",
    "                        profit_table.loc[i, 'strategy_price'] = stop_loss_price\n",
    "                        break\n",
    "\n",
    "        if result_table.loc[i, 'pv'] == 'valley':\n",
    "            profit = out_price - in_price\n",
    "            profit_table.loc[i, 'pv'] = 'valley'\n",
    "        else:\n",
    "            profit = in_price - out_price\n",
    "            profit_table.loc[i, 'pv'] = 'peak'\n",
    "        profit_table.loc[i, 'in_date'] = result_table.loc[i, 't_date']\n",
    "        profit_table.loc[i, 'in_price'] = in_price\n",
    "        \n",
    "        profit_table.loc[i, 'out_price'] = out_price\n",
    "        profit_table.loc[i, 'profit'] = profit\n",
    "        total_profit += profit\n",
    "    return total_profit, profit_table"
   ]
  },
  {
   "cell_type": "code",
   "execution_count": 43,
   "metadata": {},
   "outputs": [],
   "source": [
    "def build_profit_table_method_3(result_table, profit_percentage, loss_percentage):\n",
    "    '''percentage:fioat\n",
    "    '''\n",
    "    profit_table = pd.DataFrame(columns=['in_date', 'in_price', 'out_date', 'out_price', 'pv', 'profit', 'strategy', 'strategy_price'])\n",
    "    total_profit = 0\n",
    "    for i in result_table.index:\n",
    "        in_price = all_data['Open'].iloc[all_data.index.get_loc(result_table.loc[i, 't_date'])]\n",
    "        # print(in_price, stop_loss_price, stop_profit_price)\n",
    "        start_index = all_data.index.get_loc(result_table.loc[i, 't_date'])\n",
    "        end_index = all_data.index.get_loc(result_table.loc[i, 't_date'])+pv_range\n",
    "        trade_data = all_data.iloc[start_index:end_index]\n",
    "        # check out_price\n",
    "        out_price = all_data['Close'].iloc[end_index]\n",
    "        profit_table.loc[i, 'out_date'] = all_data.iloc[end_index].name\n",
    "        yesterday_close = all_data['Close'].iloc[all_data.index.get_loc(result_table.loc[i, 't_date'])-1]\n",
    "        for j in trade_data.index:\n",
    "            if result_table.loc[i, 'pv'] == 'valley':\n",
    "                stop_profit_price = yesterday_close*(1+profit_percentage)\n",
    "                stop_loss_price = yesterday_close*(1-loss_percentage)\n",
    "            else:\n",
    "                stop_profit_price = yesterday_close*(1-profit_percentage)\n",
    "                stop_loss_price = yesterday_close*(1+loss_percentage)\n",
    "            yesterday_close = trade_data['Close'].loc[j]\n",
    "            high = trade_data['High'].loc[j]\n",
    "            low = trade_data['Low'].loc[j]\n",
    "            if result_table.loc[i, 'pv'] == 'valley':\n",
    "                if high>=stop_profit_price:\n",
    "                    out_price = stop_profit_price\n",
    "                    profit_table.loc[i, 'out_date'] = trade_data.loc[j].name\n",
    "                    profit_table.loc[i, 'strategy'] = 'stop_profit'\n",
    "                    profit_table.loc[i, 'strategy_price'] = stop_profit_price\n",
    "                    break\n",
    "                elif low<=stop_loss_price:\n",
    "                    out_price = stop_loss_price\n",
    "                    profit_table.loc[i, 'out_date'] = trade_data.loc[j].name\n",
    "                    profit_table.loc[i, 'strategy'] = 'stop_loss'\n",
    "                    profit_table.loc[i, 'strategy_price'] = stop_loss_price\n",
    "                    break\n",
    "            elif result_table.loc[i, 'pv'] == 'peak':\n",
    "                    if low<=stop_profit_price:\n",
    "                        out_price = stop_profit_price\n",
    "                        profit_table.loc[i, 'out_date'] = trade_data.loc[j].name\n",
    "                        profit_table.loc[i, 'strategy'] = 'stop_profit'\n",
    "                        profit_table.loc[i, 'strategy_price'] = stop_profit_price\n",
    "                        break\n",
    "                    elif high>=stop_loss_price:\n",
    "                        out_price = stop_loss_price\n",
    "                        profit_table.loc[i, 'out_date'] = trade_data.loc[j].name\n",
    "                        profit_table.loc[i, 'strategy'] = 'stop_loss'\n",
    "                        profit_table.loc[i, 'strategy_price'] = stop_loss_price\n",
    "                        break\n",
    "\n",
    "        if result_table.loc[i, 'pv'] == 'valley':\n",
    "            profit = out_price - in_price\n",
    "            profit_table.loc[i, 'pv'] = 'valley'\n",
    "        else:\n",
    "            profit = in_price - out_price\n",
    "            profit_table.loc[i, 'pv'] = 'peak'\n",
    "        profit_table.loc[i, 'in_date'] = result_table.loc[i, 't_date']\n",
    "        profit_table.loc[i, 'in_price'] = in_price\n",
    "        \n",
    "        profit_table.loc[i, 'out_price'] = out_price\n",
    "        profit_table.loc[i, 'profit'] = profit\n",
    "        total_profit += profit\n",
    "    return total_profit, profit_table"
   ]
  },
  {
   "cell_type": "code",
   "execution_count": 44,
   "metadata": {},
   "outputs": [
    {
     "name": "stdout",
     "output_type": "stream",
     "text": [
      "final_error =  12.1\n",
      "              s_date      t_date  lead    ans_date      pv  error best_fit\n",
      "window_0  2020-01-02  2020-01-06   9.0  2020-01-17    peak   9.62        0\n",
      "window_1  2020-01-16  2020-01-22   7.0  2020-01-31  valley  11.69        0\n",
      "window_2  2020-01-31  2020-02-20 -13.0  2020-01-31  valley   9.57        0\n",
      "window_3  2020-02-14  2020-03-11  11.0  2020-03-26    peak   9.58        0\n",
      "window_4  2020-03-02  2020-03-04  13.0  2020-03-23  valley  10.46        0\n",
      "window_5  2020-03-16  2020-04-24   3.0  2020-04-29    peak   8.54        0\n",
      "window_6  2020-03-30  2020-04-02  18.0  2020-04-29    peak  10.87        0\n",
      "window_7  2020-04-14  2020-04-17   8.0  2020-04-29    peak   9.09        0\n",
      "window_8  2020-04-28  2020-05-04  24.0  2020-06-08    peak  10.21        0\n",
      "window_9  2020-05-12  2020-05-15  15.0  2020-06-08    peak   9.54        0\n"
     ]
    }
   ],
   "source": [
    "print('final_error = ', final_error)\n",
    "with pd.option_context('display.max_rows', None,\n",
    "                    'display.max_columns', None,\n",
    "                    'display.precision', 3,\n",
    "                    ):\n",
    "    print(result_table)"
   ]
  },
  {
   "cell_type": "code",
   "execution_count": 45,
   "metadata": {},
   "outputs": [
    {
     "name": "stdout",
     "output_type": "stream",
     "text": [
      "total_profit = -955.959716796875\n",
      "             in_date in_price    out_date out_price      pv  profit\n",
      "window_0  2020-01-06  3217.55  2020-01-15   3289.29    peak  -71.74\n",
      "window_1  2020-01-22  3330.02  2020-01-31   3225.52  valley  -104.5\n",
      "window_2  2020-02-20  3380.45  2020-03-02   3090.23  valley -290.22\n",
      "window_3  2020-03-11   2825.6  2020-03-20   2304.92    peak  520.68\n",
      "window_4  2020-03-04  3045.75  2020-03-13   2711.02  valley -334.73\n",
      "window_5  2020-04-24  2812.64  2020-05-05   2868.44    peak   -55.8\n",
      "window_6  2020-04-02  2458.54  2020-04-14   2846.06    peak -387.52\n",
      "window_7  2020-04-17  2842.43  2020-04-28   2863.39    peak  -20.96\n",
      "window_8  2020-05-04  2815.01  2020-05-13    2820.0    peak   -4.99\n",
      "window_9  2020-05-15  2829.95  2020-05-27   3036.13    peak -206.18\n"
     ]
    }
   ],
   "source": [
    "total_profit, profit_table = build_profit_table_method_1(result_table)\n",
    "print('total_profit =', total_profit)\n",
    "with pd.option_context('display.max_rows', None,\n",
    "                    'display.max_columns', None,\n",
    "                    'display.precision', 3,\n",
    "                    ):\n",
    "    print(profit_table)"
   ]
  },
  {
   "cell_type": "code",
   "execution_count": 46,
   "metadata": {},
   "outputs": [
    {
     "data": {
      "image/png": "[encoded data removed]",
      "text/plain": [
       "<Figure size 2000x800 with 1 Axes>"
      ]
     },
     "metadata": {},
     "output_type": "display_data"
    }
   ],
   "source": [
    "draw_profit_plot(profit_table, pv_range)"
   ]
  },
  {
   "cell_type": "code",
   "execution_count": 47,
   "metadata": {},
   "outputs": [
    {
     "name": "stdout",
     "output_type": "stream",
     "text": [
      "total_profit = -1070.0839111328123\n",
      "             in_date in_price    out_date out_price      pv   profit  \\\n",
      "window_0  2020-01-06  3217.55  2020-01-15   3289.29    peak   -71.74   \n",
      "window_1  2020-01-22  3330.02  2020-01-31   3225.52  valley   -104.5   \n",
      "window_2  2020-02-20  3380.45  2020-02-27  3042.405  valley -338.045   \n",
      "window_3  2020-03-11   2825.6  2020-03-12   2543.04    peak   282.56   \n",
      "window_4  2020-03-04  3045.75  2020-03-09  2741.175  valley -304.575   \n",
      "window_5  2020-04-24  2812.64  2020-05-05   2868.44    peak    -55.8   \n",
      "window_6  2020-04-02  2458.54  2020-04-07  2704.394    peak -245.854   \n",
      "window_7  2020-04-17  2842.43  2020-04-28   2863.39    peak   -20.96   \n",
      "window_8  2020-05-04  2815.01  2020-05-13    2820.0    peak    -4.99   \n",
      "window_9  2020-05-15  2829.95  2020-05-27   3036.13    peak  -206.18   \n",
      "\n",
      "             strategy strategy_price  \n",
      "window_0          NaN            NaN  \n",
      "window_1          NaN            NaN  \n",
      "window_2    stop_loss       3042.405  \n",
      "window_3  stop_profit        2543.04  \n",
      "window_4    stop_loss       2741.175  \n",
      "window_5          NaN            NaN  \n",
      "window_6    stop_loss       2704.394  \n",
      "window_7          NaN            NaN  \n",
      "window_8          NaN            NaN  \n",
      "window_9          NaN            NaN  \n"
     ]
    }
   ],
   "source": [
    "total_profit, profit_table = build_profit_table_method_2(result_table, profit_percentage, loss_percentage)\n",
    "print('total_profit =', total_profit)\n",
    "with pd.option_context('display.max_rows', None,\n",
    "                    'display.max_columns', None,\n",
    "                    'display.precision', 3,\n",
    "                    ):\n",
    "    print(profit_table)"
   ]
  },
  {
   "cell_type": "code",
   "execution_count": 48,
   "metadata": {},
   "outputs": [
    {
     "data": {
      "image/png": "[encoded data removed]",
      "text/plain": [
       "<Figure size 2000x800 with 1 Axes>"
      ]
     },
     "metadata": {},
     "output_type": "display_data"
    }
   ],
   "source": [
    "draw_profit_plot(profit_table, pv_range)"
   ]
  },
  {
   "cell_type": "code",
   "execution_count": 49,
   "metadata": {},
   "outputs": [
    {
     "name": "stdout",
     "output_type": "stream",
     "text": [
      "total_profit = -1090.9578125000003\n",
      "             in_date in_price    out_date out_price      pv   profit  \\\n",
      "window_0  2020-01-06  3217.55  2020-01-15   3289.29    peak   -71.74   \n",
      "window_1  2020-01-22  3330.02  2020-01-31   3225.52  valley   -104.5   \n",
      "window_2  2020-02-20  3380.45  2020-03-02   3090.23  valley  -290.22   \n",
      "window_3  2020-03-11   2825.6  2020-03-16  2439.918    peak  385.682   \n",
      "window_4  2020-03-04  3045.75  2020-03-13   2711.02  valley  -334.73   \n",
      "window_5  2020-04-24  2812.64  2020-05-05   2868.44    peak    -55.8   \n",
      "window_6  2020-04-02  2458.54  2020-04-14   2846.06    peak  -387.52   \n",
      "window_7  2020-04-17  2842.43  2020-04-28   2863.39    peak   -20.96   \n",
      "window_8  2020-05-04  2815.01  2020-05-13    2820.0    peak    -4.99   \n",
      "window_9  2020-05-15  2829.95  2020-05-27   3036.13    peak  -206.18   \n",
      "\n",
      "             strategy strategy_price  \n",
      "window_0          NaN            NaN  \n",
      "window_1          NaN            NaN  \n",
      "window_2          NaN            NaN  \n",
      "window_3  stop_profit       2439.918  \n",
      "window_4          NaN            NaN  \n",
      "window_5          NaN            NaN  \n",
      "window_6          NaN            NaN  \n",
      "window_7          NaN            NaN  \n",
      "window_8          NaN            NaN  \n",
      "window_9          NaN            NaN  \n"
     ]
    }
   ],
   "source": [
    "total_profit, profit_table = build_profit_table_method_3(result_table, profit_percentage, loss_percentage)\n",
    "print('total_profit =', total_profit)\n",
    "with pd.option_context('display.max_rows', None,\n",
    "                    'display.max_columns', None,\n",
    "                    'display.precision', 3,\n",
    "                    ):\n",
    "    print(profit_table)"
   ]
  },
  {
   "cell_type": "code",
   "execution_count": 50,
   "metadata": {},
   "outputs": [
    {
     "data": {
      "image/png": "[encoded data removed]",
      "text/plain": [
       "<Figure size 2000x800 with 1 Axes>"
      ]
     },
     "metadata": {},
     "output_type": "display_data"
    }
   ],
   "source": [
    "draw_profit_plot(profit_table, pv_range)"
   ]
  }
 ],
 "metadata": {
  "kernelspec": {
   "display_name": "myenv",
   "language": "python",
   "name": "python3"
  },
  "language_info": {
   "codemirror_mode": {
    "name": "ipython",
    "version": 3
   },
   "file_extension": ".py",
   "mimetype": "text/x-python",
   "name": "python",
   "nbconvert_exporter": "python",
   "pygments_lexer": "ipython3",
   "version": "3.10.7"
  },
  "orig_nbformat": 4,
  "vscode": {
   "interpreter": {
    "hash": "2fb396032550f1233359d15a08b37f52554975016f50074aab88030da7047d1a"
   }
  }
 },
 "nbformat": 4,
 "nbformat_minor": 2
}
