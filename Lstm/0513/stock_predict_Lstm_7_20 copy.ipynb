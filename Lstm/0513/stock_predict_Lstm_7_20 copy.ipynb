{
 "cells": [
  {
   "cell_type": "code",
   "execution_count": 1,
   "metadata": {},
   "outputs": [],
   "source": [
    "stock_name = \"^GSPC\"\n",
    "date_predict_start = '2020-01-01'\n",
    "data_range = 250\n",
    "slide_range = 10\n",
    "n_slide = 10\n",
    "pv_range = 7\n",
    "n_harm_lower_limit = 1\n",
    "n_harm_upper_limit = 50\n",
    "fit_method = 'rmse'\n",
    "pv_method = 'CL'\n",
    "\n",
    "x_length = 20\n",
    "y_length = x_length\n",
    "slide = y_length\n",
    "\n",
    "profit_percentage = 0.1\n",
    "loss_percentage = 0.1"
   ]
  },
  {
   "attachments": {},
   "cell_type": "markdown",
   "metadata": {},
   "source": [
    "# Import packages\n"
   ]
  },
  {
   "cell_type": "code",
   "execution_count": 2,
   "metadata": {},
   "outputs": [],
   "source": [
    "import numpy as np\n",
    "import pylab as pl\n",
    "from numpy import fft\n",
    "import pandas as pd\n",
    "import matplotlib.pyplot as plt\n",
    "import yfinance as yf\n",
    "import datetime\n",
    "from dateutil.relativedelta import relativedelta\n",
    "import math\n",
    "import matplotlib.dates as mdates\n",
    "import warnings\n",
    "from sklearn.preprocessing import MinMaxScaler\n",
    "from tensorflow.keras.models import Sequential\n",
    "from tensorflow.keras.layers import Dense, Dropout, LSTM\n",
    "from tensorflow.keras.callbacks import EarlyStopping\n",
    "from tqdm import tqdm\n",
    "import matplotlib.patches as patches"
   ]
  },
  {
   "attachments": {},
   "cell_type": "markdown",
   "metadata": {},
   "source": [
    "# Load data\n"
   ]
  },
  {
   "cell_type": "code",
   "execution_count": 3,
   "metadata": {},
   "outputs": [],
   "source": [
    "def load_data(stock_name, date_predict_start, data_range, slide_range, n_slide):\n",
    "    train_data = {}\n",
    "    test_data = {}\n",
    "    date_predict_start = datetime.datetime.strptime(\n",
    "        date_predict_start, '%Y-%m-%d').date()\n",
    "    date_data_start_list = []\n",
    "    date_predict_start_list = []\n",
    "    date_predict_end_list = []\n",
    "    test_data_start_list = []\n",
    "    all_data = yf.Ticker(stock_name).history(period='max')\n",
    "    all_data.index = all_data.index.date\n",
    "    check = date_predict_start in all_data.index\n",
    "    while (check == False):\n",
    "        date_predict_start = date_predict_start + \\\n",
    "            relativedelta(days=+1)\n",
    "        check = date_predict_start in list(all_data.index)\n",
    "    predict_start = all_data.index.get_loc(date_predict_start)\n",
    "    for i in range(n_slide):\n",
    "        predict_end = predict_start + data_range\n",
    "        date_predict_end = all_data.iloc[predict_end].name\n",
    "        data_start = predict_start - data_range\n",
    "        date_data_start = all_data.iloc[data_start].name\n",
    "        train_data['window_' + str(i)] = all_data.iloc[data_start:predict_start]\n",
    "        test_data['window_' + str(i)] = all_data.iloc[predict_start:predict_end]\n",
    "        date_data_start_list.append(date_data_start)\n",
    "        date_predict_start_list.append(date_predict_start)\n",
    "        date_predict_end_list.append(date_predict_end)\n",
    "        test_data_start_list.append(test_data['window_' + str(i)].index[0])\n",
    "        data_start = data_start + slide_range\n",
    "        predict_start = predict_start + slide_range\n",
    "        train_data['window_' + str(i)] = train_data['window_' +\n",
    "                                                  str(i)].reset_index(drop=False)\n",
    "        test_data['window_' + str(i)] = test_data['window_' +\n",
    "                                                str(i)].reset_index(drop=False)\n",
    "\n",
    "    return train_data, test_data, all_data, test_data_start_list\n"
   ]
  },
  {
   "attachments": {},
   "cell_type": "markdown",
   "metadata": {},
   "source": [
    "# Data preprocessing\n"
   ]
  },
  {
   "cell_type": "code",
   "execution_count": 4,
   "metadata": {},
   "outputs": [],
   "source": [
    "def find_data_pv_CL_function(data, pv_range):\n",
    "    pd.options.mode.chained_assignment = None\n",
    "    for i in data:\n",
    "        price = data[i]['Close']\n",
    "        data[i]['peaks'] = pd.Series(dtype='float64')\n",
    "        data[i]['valleys'] = pd.Series(dtype='float64')\n",
    "        data[i]['pv'] = pd.Series(dtype='str')\n",
    "        for idx in range(0, len(price)):\n",
    "            if idx < pv_range:\n",
    "                if price[idx] == price.iloc[0:pv_range*2+1].max():\n",
    "                    data[i]['peaks'].iloc[idx] = price[idx]\n",
    "                    data[i]['pv'].iloc[idx] = 'peak'\n",
    "                if price[idx] == price.iloc[0:pv_range*2+1].min():\n",
    "                    data[i]['valleys'].iloc[idx] = price[idx]\n",
    "                    data[i]['pv'].iloc[idx] = 'valley'\n",
    "            if price[idx] == price.iloc[idx-pv_range:idx+pv_range].max():\n",
    "                data[i]['peaks'].iloc[idx] = price[idx]\n",
    "                data[i]['pv'].iloc[idx] = 'peak'\n",
    "            if price[idx] == price.iloc[idx-pv_range:idx+pv_range].min():\n",
    "                data[i]['valleys'].iloc[idx] = price[idx]\n",
    "                data[i]['pv'].iloc[idx] = 'valley'\n"
   ]
  },
  {
   "cell_type": "code",
   "execution_count": 5,
   "metadata": {},
   "outputs": [],
   "source": [
    "def find_data_pv_HL_function(data, pv_range):\n",
    "    pd.options.mode.chained_assignment = None\n",
    "    for i in data:\n",
    "        high = data[i]['High']\n",
    "        low = data[i]['Low']\n",
    "        data[i]['peaks'] = pd.Series(dtype='float64')\n",
    "        data[i]['valleys'] = pd.Series(dtype='float64')\n",
    "        data[i]['pv'] = pd.Series(dtype='str')\n",
    "        for idx in range(0, len(high)):\n",
    "            if idx < pv_range and idx>0:\n",
    "                if high[idx] == high.iloc[0:pv_range*2+1].max():\n",
    "                    data[i]['peaks'].iloc[idx] = high[idx]\n",
    "                    data[i]['pv'].iloc[idx] = 'peak'\n",
    "                if low[idx] == low.iloc[0:pv_range*2+1].min():\n",
    "                    data[i]['valleys'].iloc[idx] = low[idx]\n",
    "                    data[i]['pv'].iloc[idx] = 'valley'\n",
    "            if high[idx] == high.iloc[idx-pv_range:idx+pv_range].max():\n",
    "                data[i]['peaks'].iloc[idx] = high[idx]\n",
    "                data[i]['pv'].iloc[idx] = 'peak'\n",
    "            if low[idx] == low.iloc[idx-pv_range:idx+pv_range].min():\n",
    "                data[i]['valleys'].iloc[idx] = low[idx]\n",
    "                data[i]['pv'].iloc[idx] = 'valley'\n"
   ]
  },
  {
   "cell_type": "code",
   "execution_count": 6,
   "metadata": {},
   "outputs": [],
   "source": [
    "def preprocessing(train_data, test_data, pv_range, pv_method):\n",
    "    if pv_method == 'CL':\n",
    "        find_data_pv_CL_function(train_data, pv_range)\n",
    "        find_data_pv_CL_function(test_data, pv_range)\n",
    "    elif pv_method == 'HL':\n",
    "        find_data_pv_HL_function(train_data, pv_range)\n",
    "        find_data_pv_HL_function(test_data, pv_range)\n",
    "    else :\n",
    "        print('worng pv_method')\n"
   ]
  },
  {
   "attachments": {},
   "cell_type": "markdown",
   "metadata": {},
   "source": [
    "# Built Model\n"
   ]
  },
  {
   "attachments": {},
   "cell_type": "markdown",
   "metadata": {},
   "source": [
    "Get signal\n"
   ]
  },
  {
   "cell_type": "code",
   "execution_count": 7,
   "metadata": {},
   "outputs": [],
   "source": [
    "def data_to_harmonics_function(data_stock, data_range):\n",
    "    harmonics = {}\n",
    "    for i in data_stock:\n",
    "        harmonics[i] = {}\n",
    "        # get data_stock's infomation\n",
    "        data = data_stock[i]['Close']\n",
    "        array_data = np.array(data)\n",
    "        n_data = array_data.size\n",
    "        time_data = np.arange(0, n_data)\n",
    "\n",
    "        # detrend data\n",
    "        # find linear trend in data\n",
    "        Polynomial = np.polyfit(time_data, array_data, 1)\n",
    "        data_notrend = array_data - Polynomial[0] * time_data    # detrended x\n",
    "\n",
    "        # fft process\n",
    "        data_freqdom = fft.fft(data_notrend, n=n_data)\n",
    "        frequence = fft.fftfreq(n=n_data, d=1)\n",
    "        f_positive = frequence[np.where(frequence > 0)]\n",
    "        data_freqdom_positive = data_freqdom[np.where(frequence > 0)]\n",
    "\n",
    "        # sort indexes\n",
    "        indexes = list(range(f_positive.size))      # frequencies\n",
    "        # sort method 1\n",
    "        # indexes.sort(key = lambda i: np.absolute(frequence[i]))     # sort indexes by frequency, lower -> higher\n",
    "        # sort method 2 :\n",
    "        # sort indexes by amplitudes, lower -> higher\n",
    "        indexes.sort(key=lambda i: np.absolute(data_freqdom[i]))\n",
    "        indexes.reverse()       # sort indexes by amplitudes, higher -> lower\n",
    "\n",
    "        # get data_all_time'size\n",
    "        time_transfer = np.arange(0, data_range*2)\n",
    "\n",
    "        # get harmonics\n",
    "        for j in indexes:\n",
    "            ampli = np.absolute(\n",
    "                data_freqdom_positive[j]) / n_data     # amplitude\n",
    "            phase = np.angle(data_freqdom_positive[j])      # phase\n",
    "            harmonics[i][j] = ampli * \\\n",
    "                np.cos(2 * np.pi * f_positive[j] * time_transfer + phase)\n",
    "    return harmonics\n"
   ]
  },
  {
   "cell_type": "code",
   "execution_count": 8,
   "metadata": {},
   "outputs": [],
   "source": [
    "def mix_harmonics_function(harmonics, n_harm_lower_limit, n_harm_upper_limit):\n",
    "    processed_signal = {}\n",
    "    for i in harmonics:\n",
    "        processed_signal[i] = {}\n",
    "        for n_harm in range(n_harm_lower_limit, n_harm_upper_limit+1):\n",
    "            mixed_harmonic = np.zeros(len(harmonics[i][0]))\n",
    "            # for j in range(n_harm):\n",
    "            for j in range(2, n_harm):\n",
    "                mixed_harmonic += harmonics[i][j]\n",
    "            processed_signal[i][n_harm] = pd.DataFrame(\n",
    "                {'Close': mixed_harmonic})\n",
    "    return processed_signal\n"
   ]
  },
  {
   "attachments": {},
   "cell_type": "markdown",
   "metadata": {},
   "source": [
    "Signal processing\n"
   ]
  },
  {
   "cell_type": "code",
   "execution_count": 9,
   "metadata": {},
   "outputs": [],
   "source": [
    "def find_signal_pv_function(signal, pv_range):\n",
    "    pd.options.mode.chained_assignment = None\n",
    "    for i in signal:\n",
    "        for j in signal[i]:\n",
    "            data = signal[i][j]['Close']\n",
    "            signal[i][j]['peaks'] = pd.Series(dtype='float64')\n",
    "            signal[i][j]['valleys'] = pd.Series(dtype='float64')\n",
    "            signal[i][j]['pv'] = pd.Series(dtype='str')\n",
    "            for idx in range(0, len(data)):\n",
    "                if idx < pv_range and idx>0:\n",
    "                    if data[idx] == data.iloc[0:pv_range*2+1].max():\n",
    "                        signal[i][j]['peaks'].iloc[idx] = data[idx]\n",
    "                        signal[i][j]['pv'].iloc[idx] = 'peak'\n",
    "                    if data[idx] == data.iloc[0:pv_range*2+1].min():\n",
    "                        signal[i][j]['valleys'].iloc[idx] = data[idx]\n",
    "                        signal[i][j]['pv'].iloc[idx] = 'valley'\n",
    "                if data[idx] == data.iloc[idx-pv_range:idx+pv_range].max():\n",
    "                    signal[i][j]['peaks'].iloc[idx] = data[idx]\n",
    "                    signal[i][j]['pv'].iloc[idx] = 'peak'\n",
    "                if data[idx] == data.iloc[idx-pv_range:idx+pv_range].min():\n",
    "                    signal[i][j]['valleys'].iloc[idx] = data[idx]\n",
    "                    signal[i][j]['pv'].iloc[idx] = 'valley'\n"
   ]
  },
  {
   "cell_type": "code",
   "execution_count": 10,
   "metadata": {},
   "outputs": [],
   "source": [
    "def find_signal_lead_train_function(data, processed_signal):\n",
    "    for d in data:\n",
    "        for p in processed_signal[d]:\n",
    "            # processed_signal[d][p]['pv'] = pd.Series(dtype='str')\n",
    "            processing_signal = processed_signal[d][p].head(len(data[d]))\n",
    "            p_data = pd.DataFrame(\n",
    "                {'peaks': data[d]['peaks'], 'count': range(len(data[d]))})\n",
    "            p_data = p_data.drop(p_data[p_data['peaks'].isna()].index)\n",
    "            p_data_count = list(p_data['count'])\n",
    "            p_signal = pd.DataFrame(\n",
    "                {'peaks': processing_signal['peaks'], 'count': range(len(processing_signal))})\n",
    "            p_signal = p_signal.drop(p_signal[p_signal['peaks'].isna()].index)\n",
    "            p_signal_list = list(p_signal['count'])\n",
    "            p_lead = []\n",
    "            for i in range(0, len(p_signal_list)):\n",
    "                temp = []\n",
    "                temp_abs = []\n",
    "                temp_2 = []\n",
    "                for j in range(0, len(p_data_count)):\n",
    "                    temp.append((p_data_count[j] - p_signal_list[i]))\n",
    "                    temp_abs.append(abs(p_data_count[j] - p_signal_list[i]))\n",
    "                for k in range(0, len(temp_abs)):\n",
    "                    if temp_abs[k] == min(temp_abs):\n",
    "                        temp_2 = temp[k]\n",
    "                p_lead.append(temp_2)\n",
    "            p_signal['lead'] = p_lead\n",
    "\n",
    "            v_data = pd.DataFrame(\n",
    "                {'valleys': data[d]['valleys'], 'count': range(len(data[d]))})\n",
    "            v_data = v_data.drop(v_data[v_data['valleys'].isna()].index)\n",
    "            v_data_count = list(v_data['count'])\n",
    "            v_signal = pd.DataFrame(\n",
    "                {'valleys': processing_signal['valleys'], 'count': range(len(processing_signal))})\n",
    "            v_signal = v_signal.drop(\n",
    "                v_signal[v_signal['valleys'].isna()].index)\n",
    "            v_signal_list = list(v_signal['count'])\n",
    "            v_lead = []\n",
    "            for i in range(0, len(v_signal_list)):\n",
    "                temp = []\n",
    "                temp_abs = []\n",
    "                temp_2 = []\n",
    "                for j in range(0, len(v_data_count)):\n",
    "                    temp.append((v_data_count[j] - v_signal_list[i]))\n",
    "                    temp_abs.append(abs(v_data_count[j] - v_signal_list[i]))\n",
    "                for k in range(0, len(temp_abs)):\n",
    "                    if temp_abs[k] == min(temp_abs):\n",
    "                        temp_2 = temp[k]\n",
    "                v_lead.append(temp_2)\n",
    "            v_signal['lead'] = v_lead\n",
    "\n",
    "            processed_signal[d][p]['lead'] = pd.Series(dtype='float64')\n",
    "            processed_signal[d][p]['lead'].loc[p_signal['lead'].index] = p_signal['lead']\n",
    "            processed_signal[d][p]['lead'].loc[v_signal['lead'].index] = v_signal['lead']\n"
   ]
  },
  {
   "cell_type": "code",
   "execution_count": 11,
   "metadata": {},
   "outputs": [],
   "source": [
    "def build_model(train_data, n_harm_lower_limit, n_harm_upper_limit, pv_range, data_range):\n",
    "    harmonics = data_to_harmonics_function(train_data, data_range)\n",
    "    processed_signal = mix_harmonics_function(\n",
    "        harmonics, n_harm_lower_limit, n_harm_upper_limit)\n",
    "    find_signal_pv_function(processed_signal, pv_range)\n",
    "    find_signal_lead_train_function(train_data, processed_signal)\n",
    "    return harmonics, processed_signal\n"
   ]
  },
  {
   "attachments": {},
   "cell_type": "markdown",
   "metadata": {},
   "source": [
    "# Select model\n"
   ]
  },
  {
   "cell_type": "code",
   "execution_count": 12,
   "metadata": {},
   "outputs": [],
   "source": [
    "def get_fit_error_function(processed_signal, fit_method):\n",
    "    errors = {}\n",
    "    error = []\n",
    "    for i in processed_signal:\n",
    "        errors[i] = {}\n",
    "        for j in processed_signal[i]:\n",
    "            signal_dropna = processed_signal[i][j].drop(\n",
    "                processed_signal[i][j][processed_signal[i][j]['lead'].isna()].index)\n",
    "            if fit_method == 'mean':\n",
    "                error = signal_dropna['lead'].mean()\n",
    "            elif fit_method == 'abs':\n",
    "                error = abs(signal_dropna['lead']).mean()\n",
    "            elif fit_method == 'rmse':\n",
    "                mse = np.square(np.subtract(np.zeros_like(\n",
    "                    signal_dropna['lead']), signal_dropna['lead'])).mean()\n",
    "                rmse = math.sqrt(mse)\n",
    "                error = rmse\n",
    "            else :\n",
    "                print('worng fit_method')\n",
    "            errors[i][j] = error\n",
    "    return errors\n"
   ]
  },
  {
   "cell_type": "code",
   "execution_count": 13,
   "metadata": {},
   "outputs": [],
   "source": [
    "def get_best_fit_harm_function(processed_signal, errors):\n",
    "    best_error = {}\n",
    "    best_fit_harm = {}\n",
    "    for i in processed_signal:\n",
    "        best_error[i] = pd.Series(errors[i]).abs().min()\n",
    "        best_fit_harm[i] = pd.Series(errors[i]).abs().idxmin()\n",
    "    return best_fit_harm, best_error\n"
   ]
  },
  {
   "cell_type": "code",
   "execution_count": 14,
   "metadata": {},
   "outputs": [],
   "source": [
    "def find_signal_lead_test_function(data, processed_signal):\n",
    "    for d in data:\n",
    "        for p in processed_signal[d]:\n",
    "            processed_signal[d][p]['pv'] = pd.Series(dtype='str')\n",
    "            processing_signal = processed_signal[d][p].tail(len(data[d]))\n",
    "            p_data = pd.DataFrame(\n",
    "                {'peaks': data[d]['peaks'], 'count': range(len(data[d]))})\n",
    "            p_data = p_data.drop(p_data[p_data['peaks'].isna()].index)\n",
    "            p_data_count = list(p_data['count'])\n",
    "            p_signal = pd.DataFrame(\n",
    "                {'peaks': processing_signal['peaks'], 'count': range(len(processing_signal))})\n",
    "            p_signal = p_signal.drop(p_signal[p_signal['peaks'].isna()].index)\n",
    "            p_signal_list = list(p_signal['count'])\n",
    "            p_lead = []\n",
    "            for i in range(0, len(p_signal_list)):\n",
    "                temp = []\n",
    "                temp_abs = []\n",
    "                temp_2 = []\n",
    "                for j in range(0, len(p_data_count)):\n",
    "                    temp.append((p_data_count[j] - p_signal_list[i]))\n",
    "                    temp_abs.append(abs(p_data_count[j] - p_signal_list[i]))\n",
    "                for k in range(0, len(temp_abs)):\n",
    "                    if temp_abs[k] == min(temp_abs):\n",
    "                        temp_2 = temp[k]\n",
    "                p_lead.append(temp_2)\n",
    "            p_signal['lead'] = p_lead\n",
    "\n",
    "            v_data = pd.DataFrame(\n",
    "                {'valleys': data[d]['valleys'], 'count': range(len(data[d]))})\n",
    "            v_data = v_data.drop(v_data[v_data['valleys'].isna()].index)\n",
    "            v_data_count = list(v_data['count'])\n",
    "            v_signal = pd.DataFrame(\n",
    "                {'valleys': processing_signal['valleys'], 'count': range(len(processing_signal))})\n",
    "            v_signal = v_signal.drop(\n",
    "                v_signal[v_signal['valleys'].isna()].index)\n",
    "            v_signal_list = list(v_signal['count'])\n",
    "            v_lead = []\n",
    "            for i in range(0, len(v_signal_list)):\n",
    "                temp = []\n",
    "                temp_abs = []\n",
    "                temp_2 = []\n",
    "                for j in range(0, len(v_data_count)):\n",
    "                    temp.append((v_data_count[j] - v_signal_list[i]))\n",
    "                    temp_abs.append(abs(v_data_count[j] - v_signal_list[i]))\n",
    "                for k in range(0, len(temp_abs)):\n",
    "                    if temp_abs[k] == min(temp_abs):\n",
    "                        temp_2 = temp[k]\n",
    "                v_lead.append(temp_2)\n",
    "            v_signal['lead'] = v_lead\n",
    "\n",
    "            processed_signal[d][p]['lead'] = pd.Series(dtype='float64')\n",
    "            processed_signal[d][p]['lead'].loc[p_signal['lead'].index] = p_signal['lead']\n",
    "            processed_signal[d][p]['pv'].loc[p_signal['lead'].index] = 'peak'\n",
    "            processed_signal[d][p]['lead'].loc[v_signal['lead'].index] = v_signal['lead']\n",
    "            processed_signal[d][p]['pv'].loc[v_signal['lead'].index] = 'valley'\n"
   ]
  },
  {
   "cell_type": "code",
   "execution_count": 15,
   "metadata": {},
   "outputs": [],
   "source": [
    "def get_first_lead_function(processed_signal, best_fit_harm):\n",
    "    first_date = {}\n",
    "    lead = {}\n",
    "    pv = {}\n",
    "    for i in processed_signal:\n",
    "        harm = best_fit_harm[i]\n",
    "        temp = processed_signal[i][harm].loc[list(\n",
    "            processed_signal[i][harm]['lead'].dropna().index)[0]]\n",
    "        first_index = list(processed_signal[i][harm]\n",
    "                             ['lead'].dropna().index)[0]\n",
    "        first_date[i] = processed_signal[i][harm].index.get_loc(first_index)\n",
    "        lead[i] = temp['lead']\n",
    "        pv[i] = temp['pv']\n",
    "    return first_date, lead, pv\n"
   ]
  },
  {
   "cell_type": "code",
   "execution_count": 16,
   "metadata": {},
   "outputs": [],
   "source": [
    "def select_model(test_data, processed_signal, fit_method):\n",
    "    errors = get_fit_error_function(processed_signal, fit_method)\n",
    "    best_fit_harm, best_error = get_best_fit_harm_function(\n",
    "        processed_signal, errors)\n",
    "    find_signal_lead_test_function(test_data, processed_signal)\n",
    "    first_date, lead, pv = get_first_lead_function(\n",
    "        processed_signal, best_fit_harm)\n",
    "    return errors, best_fit_harm, best_error, first_date, lead, pv\n"
   ]
  },
  {
   "attachments": {},
   "cell_type": "markdown",
   "metadata": {},
   "source": [
    "# Evaluate model\n"
   ]
  },
  {
   "cell_type": "code",
   "execution_count": 17,
   "metadata": {},
   "outputs": [],
   "source": [
    "def built_result_table_function(processed_signal, test_data_start_list, lead, pv, best_error, best_fit_harm):\n",
    "    result_table = pd.DataFrame(columns=[\n",
    "        's_date', 't_date', 'lead', 'ans_date', 'pv', 'error', 'best_fit'])\n",
    "    for i in processed_signal:\n",
    "        result_table.loc[i, 'error'] = round(best_error[i], 2)\n",
    "        result_table.loc[i, 'best_fit'] = best_fit_harm[i]\n",
    "        result_table.loc[i, 'lead'] = lead[i]\n",
    "        result_table.loc[i, 'pv'] = pv[i]\n",
    "    result_table['s_date'] = test_data_start_list\n",
    "    return result_table\n"
   ]
  },
  {
   "cell_type": "code",
   "execution_count": 18,
   "metadata": {},
   "outputs": [],
   "source": [
    "def result_table_process_function(result_table, all_data, first_date, data_range):\n",
    "    for i in result_table.index:\n",
    "        t_date = all_data.iloc[all_data.index.get_loc(result_table.loc[i, 's_date']) + first_date[i] - data_range].name\n",
    "        result_table.loc[i, 't_date'] = t_date\n",
    "        ans = all_data.iloc[int(all_data.index.get_loc(t_date) + result_table.loc[i, 'lead'])].name\n",
    "        result_table.loc[i, 'ans_date'] = ans"
   ]
  },
  {
   "cell_type": "code",
   "execution_count": 19,
   "metadata": {},
   "outputs": [],
   "source": [
    "def compute_final_error_function(result_table):\n",
    "    final_error = round(\n",
    "        sum([abs(ele) for ele in result_table['lead']]) / len(result_table['lead']), 2)\n",
    "    return final_error\n"
   ]
  },
  {
   "cell_type": "code",
   "execution_count": 20,
   "metadata": {},
   "outputs": [],
   "source": [
    "def evaluate_model(processed_signal, test_data_start_list, all_data, best_fit_harm, best_error, first_date, lead, pv, data_range):\n",
    "    result_table = built_result_table_function(\n",
    "        processed_signal, test_data_start_list, lead, pv, best_error, best_fit_harm)\n",
    "    result_table_process_function(\n",
    "        result_table, all_data, first_date, data_range)\n",
    "    final_error = compute_final_error_function(result_table)\n",
    "    return result_table, final_error\n"
   ]
  },
  {
   "attachments": {},
   "cell_type": "markdown",
   "metadata": {},
   "source": [
    "# Draw plot\n"
   ]
  },
  {
   "cell_type": "code",
   "execution_count": 21,
   "metadata": {},
   "outputs": [],
   "source": [
    "def find_data_pv_function(data, pv_range):\n",
    "    pd.options.mode.chained_assignment = None\n",
    "    price = data['Close']\n",
    "    data['peaks'] = pd.Series(dtype='float64')\n",
    "    data['valleys'] = pd.Series(dtype='float64')\n",
    "    data['pv'] = pd.Series(dtype='str')\n",
    "    for idx in range(0, len(price)):\n",
    "        if idx < pv_range and idx>0:\n",
    "            if price[idx] == price.iloc[0:pv_range*2+1].max():\n",
    "                data['peaks'].iloc[idx] = price[idx]\n",
    "                data['pv'].iloc[idx] = 'peak'\n",
    "            if price[idx] == price.iloc[0:pv_range*2+1].min():\n",
    "                data['valleys'].iloc[idx] = price[idx]\n",
    "                data['pv'].iloc[idx] = 'valleys'\n",
    "        if price[idx] == price.iloc[idx-pv_range:idx+pv_range].max():\n",
    "            data['peaks'].iloc[idx] = price[idx]\n",
    "            data['pv'].iloc[idx] = 'peak'\n",
    "        if price[idx] == price.iloc[idx-pv_range:idx+pv_range].min():\n",
    "            data['valleys'].iloc[idx] = price[idx]\n",
    "            data['pv'].iloc[idx] = 'valleys'\n"
   ]
  },
  {
   "cell_type": "code",
   "execution_count": 22,
   "metadata": {},
   "outputs": [],
   "source": [
    "def draw_plot_result_table(test_data, all_data, result_table, pv_range):\n",
    "    date_list = sorted(\n",
    "        list(result_table['s_date']) + list(result_table['t_date']) + list(result_table['ans_date']))\n",
    "    all_index = all_data.loc[date_list[0]:date_list[-1]].index\n",
    "    fig, axes = plt.subplots(2, 1, figsize=(30, 8), sharex=True)\n",
    "    test_data_copy = test_data.copy()\n",
    "    for d in test_data :\n",
    "        test_data_copy[d].index = test_data[d]['index']\n",
    "        test_data_copy[d] = test_data_copy[d].drop(test_data_copy[d][test_data_copy[d].index > date_list[-1]].index)\n",
    "        axes[0].plot(test_data_copy[d].index, test_data_copy[d]['Close'], 'gray', label='data', linewidth=3)\n",
    "    for d in test_data_copy :\n",
    "        axes[0].plot(test_data_copy[d].index, test_data_copy[d]['peaks'],\n",
    "                    '^', c='royalblue', label='peaks')\n",
    "        axes[0].plot(test_data_copy[d].index, test_data_copy[d]['valleys'], 'v',\n",
    "                    c='orangered', label='valleys')\n",
    "    plot_model = pd.DataFrame(index=all_index, columns=[\n",
    "                                's_date', 't_date', 'ans_date', 'lead', 'pv'])\n",
    "    plot_model['s_date'].loc[result_table['s_date']] = True\n",
    "    plot_model['t_date'].loc[result_table['t_date']] = True\n",
    "    plot_model['lead'].loc[result_table['t_date']] = list(result_table['lead'])\n",
    "    plot_model['pv'].loc[result_table['t_date']] = list(result_table['pv'])\n",
    "    plot_model['ans_date'].loc[result_table['ans_date']] = True\n",
    "    for i, label in enumerate(plot_model['lead']):\n",
    "        if plot_model['pv'][i] == 'peak':\n",
    "            # axes[0].plot(plot_data.index[i], plot_data['Close'].iloc[i], '|',\n",
    "            #             c='red')\n",
    "            axes[1].plot(plot_model.index[i], plot_model['lead'][i], '^',\n",
    "                            c='royalblue')\n",
    "            text = str(label)\n",
    "            axes[1].annotate(text, (plot_model.index[i],\n",
    "                                plot_model['lead'][i]), fontsize=14)\n",
    "        elif plot_model['pv'][i] == 'valley':\n",
    "            # axes[0].plot(plot_data.index[i], plot_data['Close'].iloc[i], '|',\n",
    "            #             c='red')\n",
    "            axes[1].plot(plot_model.index[i], plot_model['lead'][i], 'v',\n",
    "                            c='orangered')\n",
    "            text = str(label)\n",
    "            axes[1].annotate(text, (plot_model.index[i],\n",
    "                                plot_model['lead'][i]), fontsize=14)\n",
    "\n",
    "    axes[0].set_ylabel(\"Stock price\", fontsize=14)\n",
    "    axes[0].grid(True)\n",
    "    axes[1].grid(True)\n",
    "    axes[1].set_ylabel(\"lead\", fontsize=14)\n",
    "    plt.show()"
   ]
  },
  {
   "attachments": {},
   "cell_type": "markdown",
   "metadata": {},
   "source": [
    "# Main function\n"
   ]
  },
  {
   "cell_type": "code",
   "execution_count": 23,
   "metadata": {},
   "outputs": [],
   "source": [
    "def main_funtion(\n",
    "    stock_name, date_predict_start, data_range, slide_range,\n",
    "        n_slide, pv_range, n_harm_lower_limit, n_harm_upper_limit, fit_method, pv_method):\n",
    "\n",
    "    # 1. Load data\n",
    "    train_data, test_data, all_data, test_data_start_list = load_data(\n",
    "        stock_name, date_predict_start, data_range, slide_range, n_slide)\n",
    "    # 2. Preprocessing\n",
    "    preprocessing(train_data, test_data, pv_range, pv_method)\n",
    "    # 3. Build model\n",
    "    harmonics, model = build_model(\n",
    "        train_data, n_harm_lower_limit, n_harm_upper_limit, pv_range, data_range)\n",
    "    # 4. Select model\n",
    "    errors, best_fit_harm, best_error, first_date, lead, pv = select_model(test_data,\n",
    "                                                                           model, fit_method)\n",
    "    # 5. Evaluate model\n",
    "    result_table, final_error = evaluate_model(\n",
    "        model, test_data_start_list, all_data, best_fit_harm, best_error, first_date, lead, pv, data_range)\n",
    "    print('final_error = ', final_error)\n",
    "    with pd.option_context('display.max_rows', None,\n",
    "                       'display.max_columns', None,\n",
    "                       'display.precision', 3,\n",
    "                       ):\n",
    "        print(result_table)\n",
    "    draw_plot_result_table(test_data, all_data, result_table, pv_range)\n",
    "    # return harmonics, model, errors, best_fit_harm, best_error, first_date, lead, pv, result_table, final_error\n"
   ]
  },
  {
   "cell_type": "code",
   "execution_count": 24,
   "metadata": {},
   "outputs": [],
   "source": [
    "# main_funtion(\n",
    "#     stock_name, date_predict_start, data_range, slide_range,\n",
    "#         n_slide, pv_range, n_harm_lower_limit, n_harm_upper_limit, fit_method, pv_method)"
   ]
  },
  {
   "attachments": {},
   "cell_type": "markdown",
   "metadata": {},
   "source": [
    "# Lstm function"
   ]
  },
  {
   "cell_type": "code",
   "execution_count": 25,
   "metadata": {},
   "outputs": [],
   "source": [
    "def preprocessing_train_data_Lstm(train_data, x_length, y_length, slide):\n",
    "    x_train = {}\n",
    "    y_train = {}\n",
    "    for i in train_data:\n",
    "        scaler = MinMaxScaler(feature_range=(-1,1))\n",
    "        scaled_data = scaler.fit_transform(train_data[i]['Close'].values.reshape(-1,1))\n",
    "        x_train[i] = []\n",
    "        y_train[i] = []\n",
    "        # for x in range(x_length+y_length, len(scaled_data), slide):\n",
    "        for x in range(x_length+y_length, len(scaled_data)):\n",
    "            x_train[i].append(scaled_data[x-x_length-y_length:x-y_length])\n",
    "            y_train[i].append(scaled_data[x-y_length:x])\n",
    "        x_train[i], y_train[i] = np.array(x_train[i]), np.array(y_train[i])\n",
    "        # 將x_train數組的形狀轉換為（樣本數，天數，特徵數）的形式，這裡的特徵數為1\n",
    "        x_train[i] = np.reshape(x_train[i], (x_train[i].shape[0], x_train[i].shape[1], 1))\n",
    "        y_train[i] = np.reshape(y_train[i], (y_train[i].shape[0], y_train[i].shape[1], 1))\n",
    "    return x_train, y_train"
   ]
  },
  {
   "cell_type": "code",
   "execution_count": 26,
   "metadata": {},
   "outputs": [],
   "source": [
    "def LSTM_model(y_length, input_shape):\n",
    "    model = Sequential()\n",
    "    model.add(LSTM(units = 256, return_sequences = True, input_shape = input_shape))\n",
    "    model.add(Dropout(0.4))\n",
    "    model.add(LSTM(units = 128, return_sequences = True))\n",
    "    model.add(Dropout(0.4))\n",
    "    model.add(LSTM(units = 64))\n",
    "    model.add(Dropout(0.4))\n",
    "    model.add(Dense(units=y_length))\n",
    "    return model"
   ]
  },
  {
   "cell_type": "code",
   "execution_count": 27,
   "metadata": {},
   "outputs": [],
   "source": [
    "def build_Lstm_model(train_data, y_length, input_shape):\n",
    "    model = {}\n",
    "    for i in train_data:\n",
    "        model[i] = LSTM_model(y_length, input_shape)\n",
    "        model[i].compile(optimizer='adam', \n",
    "                    loss='mean_squared_error')\n",
    "        # model[i].summary()\n",
    "    return model"
   ]
  },
  {
   "cell_type": "code",
   "execution_count": 28,
   "metadata": {},
   "outputs": [],
   "source": [
    "def train_Lstm_model(train_data, model, x_train, y_train):\n",
    "    history = {}\n",
    "    for i in tqdm(train_data):\n",
    "        earlystopper = EarlyStopping(monitor = 'val_loss', patience = 5, verbose = 2)\n",
    "        history[i] = model[i].fit(x_train[i], y_train[i], epochs=25, batch_size=32, \n",
    "                            callbacks = [earlystopper], validation_split = 0.2, shuffle=True)\n",
    "    return history"
   ]
  },
  {
   "cell_type": "code",
   "execution_count": 29,
   "metadata": {},
   "outputs": [],
   "source": [
    "def preprocessing_test_data_Lstm(train_data, test_data, x_length, y_length, slide):\n",
    "    x_test = {}\n",
    "    y_test = {}\n",
    "    for i in test_data:\n",
    "        scaler = MinMaxScaler(feature_range=(-1,1))\n",
    "        model_inputs = pd.concat((train_data[i]['Close'].iloc[-x_length:], test_data[i]['Close'])).values\n",
    "        model_inputs = model_inputs.reshape(-1,1)\n",
    "        model_inputs = scaler.fit_transform(model_inputs)\n",
    "        x_test[i] = []\n",
    "        y_test[i] = []\n",
    "        for x in range(x_length+y_length, len(model_inputs), slide):\n",
    "            x_test[i].append(model_inputs[x-x_length-y_length:x-y_length])\n",
    "            y_test[i].append(model_inputs[x-y_length:x])\n",
    "        x_test[i], y_test[i] = np.array(x_test[i]), np.array(y_test[i])\n",
    "        x_test[i] = np.reshape(x_test[i], (x_test[i].shape[0], x_test[i].shape[1], 1))\n",
    "        y_test[i] = np.reshape(y_test[i], (y_test[i].shape[0], y_test[i].shape[1], 1))\n",
    "    return x_test, y_test"
   ]
  },
  {
   "cell_type": "code",
   "execution_count": 30,
   "metadata": {},
   "outputs": [],
   "source": [
    "def predicting_creat_processed_signal_Lstm(x_test, test_data, model):\n",
    "    processed_signal = {}\n",
    "    for i in test_data:\n",
    "        predicted_prices = model[i].predict(x_test[i])\n",
    "        processed_signal[i] = {}\n",
    "        processed_signal[i][0] = pd.DataFrame(\n",
    "            {'Close': predicted_prices.flatten()}, index=test_data[i].index[:len(predicted_prices.flatten())])\n",
    "    return processed_signal"
   ]
  },
  {
   "cell_type": "code",
   "execution_count": 31,
   "metadata": {},
   "outputs": [],
   "source": [
    "def result_table_process_Lstm_function(result_table, all_data, first_date, data_range):\n",
    "    for i in result_table.index:\n",
    "        t_date = all_data.iloc[int(all_data.index.get_loc(result_table.loc[i, 's_date'])) + first_date[i]].name\n",
    "        result_table.loc[i, 't_date'] = t_date\n",
    "        ans = all_data.iloc[int(all_data.index.get_loc(t_date) + result_table.loc[i, 'lead'])].name\n",
    "        result_table.loc[i, 'ans_date'] = ans"
   ]
  },
  {
   "cell_type": "code",
   "execution_count": 32,
   "metadata": {},
   "outputs": [],
   "source": [
    "# 1. Load data\n",
    "train_data, test_data, all_data, test_data_start_list = load_data(\n",
    "    stock_name, date_predict_start, data_range, slide_range, n_slide)\n",
    "# 2. Preprocessing\n",
    "preprocessing(train_data, test_data, pv_range, pv_method)\n",
    "x_train, y_train = preprocessing_train_data_Lstm(train_data, x_length, y_length, slide)\n",
    "x_test, y_test = preprocessing_test_data_Lstm(train_data, test_data, x_length, y_length, slide)"
   ]
  },
  {
   "cell_type": "code",
   "execution_count": 33,
   "metadata": {},
   "outputs": [
    {
     "name": "stderr",
     "output_type": "stream",
     "text": [
      "  0%|          | 0/10 [00:00<?, ?it/s]"
     ]
    },
    {
     "name": "stdout",
     "output_type": "stream",
     "text": [
      "Epoch 1/25\n",
      "6/6 [==============================] - 21s 1s/step - loss: 0.0415 - val_loss: 0.1838\n",
      "Epoch 2/25\n",
      "6/6 [==============================] - 2s 277ms/step - loss: 0.0335 - val_loss: 0.2172\n",
      "Epoch 3/25\n",
      "6/6 [==============================] - 2s 267ms/step - loss: 0.0326 - val_loss: 0.2021\n",
      "Epoch 4/25\n",
      "6/6 [==============================] - 2s 258ms/step - loss: 0.0309 - val_loss: 0.2217\n",
      "Epoch 5/25\n",
      "6/6 [==============================] - 2s 289ms/step - loss: 0.0298 - val_loss: 0.2032\n",
      "Epoch 6/25\n",
      "6/6 [==============================] - 1s 248ms/step - loss: 0.0288 - val_loss: 0.2217\n",
      "Epoch 6: early stopping\n"
     ]
    },
    {
     "name": "stderr",
     "output_type": "stream",
     "text": [
      " 10%|█         | 1/10 [00:29<04:21, 29.03s/it]"
     ]
    },
    {
     "name": "stdout",
     "output_type": "stream",
     "text": [
      "Epoch 1/25\n",
      "6/6 [==============================] - 37s 941ms/step - loss: 0.0592 - val_loss: 0.2861\n",
      "Epoch 2/25\n",
      "6/6 [==============================] - 1s 236ms/step - loss: 0.0485 - val_loss: 0.2898\n",
      "Epoch 3/25\n",
      "6/6 [==============================] - 2s 317ms/step - loss: 0.0454 - val_loss: 0.2764\n",
      "Epoch 4/25\n",
      "6/6 [==============================] - 2s 296ms/step - loss: 0.0439 - val_loss: 0.2614\n",
      "Epoch 5/25\n",
      "6/6 [==============================] - 2s 344ms/step - loss: 0.0420 - val_loss: 0.2640\n",
      "Epoch 6/25\n",
      "6/6 [==============================] - 2s 276ms/step - loss: 0.0409 - val_loss: 0.2792\n",
      "Epoch 7/25\n",
      "6/6 [==============================] - 1s 257ms/step - loss: 0.0407 - val_loss: 0.2804\n",
      "Epoch 8/25\n",
      "6/6 [==============================] - 1s 250ms/step - loss: 0.0396 - val_loss: 0.2699\n",
      "Epoch 9/25\n",
      "6/6 [==============================] - 1s 167ms/step - loss: 0.0392 - val_loss: 0.2748\n",
      "Epoch 9: early stopping\n"
     ]
    },
    {
     "name": "stderr",
     "output_type": "stream",
     "text": [
      " 20%|██        | 2/10 [01:18<05:28, 41.09s/it]"
     ]
    },
    {
     "name": "stdout",
     "output_type": "stream",
     "text": [
      "Epoch 1/25\n",
      "6/6 [==============================] - 48s 1s/step - loss: 0.1084 - val_loss: 0.2849\n",
      "Epoch 2/25\n",
      "6/6 [==============================] - 1s 223ms/step - loss: 0.0796 - val_loss: 0.2956\n",
      "Epoch 3/25\n",
      "6/6 [==============================] - 2s 311ms/step - loss: 0.0725 - val_loss: 0.3061\n",
      "Epoch 4/25\n",
      "6/6 [==============================] - 2s 284ms/step - loss: 0.0660 - val_loss: 0.3087\n",
      "Epoch 5/25\n",
      "6/6 [==============================] - 1s 226ms/step - loss: 0.0608 - val_loss: 0.3090\n",
      "Epoch 6/25\n",
      "6/6 [==============================] - 1s 196ms/step - loss: 0.0601 - val_loss: 0.3100\n",
      "Epoch 6: early stopping\n"
     ]
    },
    {
     "name": "stderr",
     "output_type": "stream",
     "text": [
      " 30%|███       | 3/10 [02:14<05:34, 47.78s/it]"
     ]
    },
    {
     "name": "stdout",
     "output_type": "stream",
     "text": [
      "Epoch 1/25\n",
      "6/6 [==============================] - 52s 3s/step - loss: 0.1474 - val_loss: 0.2500\n",
      "Epoch 2/25\n",
      "6/6 [==============================] - 2s 316ms/step - loss: 0.0967 - val_loss: 0.2476\n",
      "Epoch 3/25\n",
      "6/6 [==============================] - 2s 347ms/step - loss: 0.0844 - val_loss: 0.2381\n",
      "Epoch 4/25\n",
      "6/6 [==============================] - 2s 313ms/step - loss: 0.0813 - val_loss: 0.2488\n",
      "Epoch 5/25\n",
      "6/6 [==============================] - 2s 293ms/step - loss: 0.0731 - val_loss: 0.2337\n",
      "Epoch 6/25\n",
      "6/6 [==============================] - 2s 363ms/step - loss: 0.0702 - val_loss: 0.2438\n",
      "Epoch 7/25\n",
      "6/6 [==============================] - 2s 301ms/step - loss: 0.0675 - val_loss: 0.2266\n",
      "Epoch 8/25\n",
      "6/6 [==============================] - 2s 395ms/step - loss: 0.0682 - val_loss: 0.2180\n",
      "Epoch 9/25\n",
      "6/6 [==============================] - 2s 406ms/step - loss: 0.0648 - val_loss: 0.2295\n",
      "Epoch 10/25\n",
      "6/6 [==============================] - 2s 250ms/step - loss: 0.0647 - val_loss: 0.2158\n",
      "Epoch 11/25\n",
      "6/6 [==============================] - 2s 262ms/step - loss: 0.0637 - val_loss: 0.2072\n",
      "Epoch 12/25\n",
      "6/6 [==============================] - 2s 326ms/step - loss: 0.0619 - val_loss: 0.1729\n",
      "Epoch 13/25\n",
      "6/6 [==============================] - 2s 295ms/step - loss: 0.0597 - val_loss: 0.1656\n",
      "Epoch 14/25\n",
      "6/6 [==============================] - 2s 313ms/step - loss: 0.0609 - val_loss: 0.1426\n",
      "Epoch 15/25\n",
      "6/6 [==============================] - 2s 303ms/step - loss: 0.0574 - val_loss: 0.1442\n",
      "Epoch 16/25\n",
      "6/6 [==============================] - 1s 250ms/step - loss: 0.0594 - val_loss: 0.1456\n",
      "Epoch 17/25\n",
      "6/6 [==============================] - 1s 216ms/step - loss: 0.0538 - val_loss: 0.1152\n",
      "Epoch 18/25\n",
      "6/6 [==============================] - 1s 195ms/step - loss: 0.0549 - val_loss: 0.0807\n",
      "Epoch 19/25\n",
      "6/6 [==============================] - 1s 186ms/step - loss: 0.0542 - val_loss: 0.0640\n",
      "Epoch 20/25\n",
      "6/6 [==============================] - 1s 175ms/step - loss: 0.0514 - val_loss: 0.0831\n",
      "Epoch 21/25\n",
      "6/6 [==============================] - 1s 188ms/step - loss: 0.0526 - val_loss: 0.0862\n",
      "Epoch 22/25\n",
      "6/6 [==============================] - 1s 186ms/step - loss: 0.0513 - val_loss: 0.0607\n",
      "Epoch 23/25\n",
      "6/6 [==============================] - 1s 219ms/step - loss: 0.0511 - val_loss: 0.0708\n",
      "Epoch 24/25\n",
      "6/6 [==============================] - 1s 145ms/step - loss: 0.0517 - val_loss: 0.0832\n",
      "Epoch 25/25\n",
      "6/6 [==============================] - 1s 150ms/step - loss: 0.0496 - val_loss: 0.0566\n"
     ]
    },
    {
     "name": "stderr",
     "output_type": "stream",
     "text": [
      " 40%|████      | 4/10 [03:43<06:23, 63.96s/it]"
     ]
    },
    {
     "name": "stdout",
     "output_type": "stream",
     "text": [
      "Epoch 1/25\n",
      "6/6 [==============================] - 72s 5s/step - loss: 0.1352 - val_loss: 0.2899\n",
      "Epoch 2/25\n",
      "6/6 [==============================] - 1s 227ms/step - loss: 0.0955 - val_loss: 0.3162\n",
      "Epoch 3/25\n",
      "6/6 [==============================] - 1s 224ms/step - loss: 0.0867 - val_loss: 0.2394\n",
      "Epoch 4/25\n",
      "6/6 [==============================] - 2s 277ms/step - loss: 0.0752 - val_loss: 0.2262\n",
      "Epoch 5/25\n",
      "6/6 [==============================] - 2s 283ms/step - loss: 0.0726 - val_loss: 0.1719\n",
      "Epoch 6/25\n",
      "6/6 [==============================] - 1s 250ms/step - loss: 0.0690 - val_loss: 0.1188\n",
      "Epoch 7/25\n",
      "6/6 [==============================] - 1s 228ms/step - loss: 0.0689 - val_loss: 0.0838\n",
      "Epoch 8/25\n",
      "6/6 [==============================] - 1s 231ms/step - loss: 0.0639 - val_loss: 0.0556\n",
      "Epoch 9/25\n",
      "6/6 [==============================] - 1s 255ms/step - loss: 0.0629 - val_loss: 0.0426\n",
      "Epoch 10/25\n",
      "6/6 [==============================] - 1s 249ms/step - loss: 0.0604 - val_loss: 0.0446\n",
      "Epoch 11/25\n",
      "6/6 [==============================] - 1s 193ms/step - loss: 0.0618 - val_loss: 0.0772\n",
      "Epoch 12/25\n",
      "6/6 [==============================] - 1s 166ms/step - loss: 0.0603 - val_loss: 0.1143\n",
      "Epoch 13/25\n",
      "6/6 [==============================] - 1s 145ms/step - loss: 0.0555 - val_loss: 0.1712\n",
      "Epoch 14/25\n",
      "6/6 [==============================] - 1s 147ms/step - loss: 0.0585 - val_loss: 0.2866\n",
      "Epoch 14: early stopping\n"
     ]
    },
    {
     "name": "stderr",
     "output_type": "stream",
     "text": [
      " 50%|█████     | 5/10 [05:11<06:04, 72.81s/it]"
     ]
    },
    {
     "name": "stdout",
     "output_type": "stream",
     "text": [
      "Epoch 1/25\n",
      "6/6 [==============================] - 56s 4s/step - loss: 0.0540 - val_loss: 0.1468\n",
      "Epoch 2/25\n",
      "6/6 [==============================] - 2s 316ms/step - loss: 0.0438 - val_loss: 0.2813\n",
      "Epoch 3/25\n",
      "6/6 [==============================] - 2s 286ms/step - loss: 0.0455 - val_loss: 0.1972\n",
      "Epoch 4/25\n",
      "6/6 [==============================] - 2s 291ms/step - loss: 0.0362 - val_loss: 0.0871\n",
      "Epoch 5/25\n",
      "6/6 [==============================] - 2s 291ms/step - loss: 0.0343 - val_loss: 0.1097\n",
      "Epoch 6/25\n",
      "6/6 [==============================] - 1s 242ms/step - loss: 0.0320 - val_loss: 0.1720\n",
      "Epoch 7/25\n",
      "6/6 [==============================] - 2s 300ms/step - loss: 0.0324 - val_loss: 0.1296\n",
      "Epoch 8/25\n",
      "6/6 [==============================] - 1s 216ms/step - loss: 0.0294 - val_loss: 0.2414\n",
      "Epoch 9/25\n",
      "6/6 [==============================] - 1s 236ms/step - loss: 0.0298 - val_loss: 0.1541\n",
      "Epoch 9: early stopping\n"
     ]
    },
    {
     "name": "stderr",
     "output_type": "stream",
     "text": [
      " 60%|██████    | 6/10 [06:20<04:45, 71.38s/it]"
     ]
    },
    {
     "name": "stdout",
     "output_type": "stream",
     "text": [
      "Epoch 1/25\n",
      "6/6 [==============================] - 43s 3s/step - loss: 0.1232 - val_loss: 0.2791\n",
      "Epoch 2/25\n",
      "6/6 [==============================] - 1s 224ms/step - loss: 0.0653 - val_loss: 0.2628\n",
      "Epoch 3/25\n",
      "6/6 [==============================] - 1s 193ms/step - loss: 0.0483 - val_loss: 0.2429\n",
      "Epoch 4/25\n",
      "6/6 [==============================] - 1s 207ms/step - loss: 0.0434 - val_loss: 0.2474\n",
      "Epoch 5/25\n",
      "6/6 [==============================] - 1s 181ms/step - loss: 0.0393 - val_loss: 0.2566\n",
      "Epoch 6/25\n",
      "6/6 [==============================] - 1s 185ms/step - loss: 0.0358 - val_loss: 0.3076\n",
      "Epoch 7/25\n",
      "6/6 [==============================] - 1s 186ms/step - loss: 0.0334 - val_loss: 0.2974\n",
      "Epoch 8/25\n",
      "6/6 [==============================] - 1s 170ms/step - loss: 0.0312 - val_loss: 0.3413\n",
      "Epoch 8: early stopping\n"
     ]
    },
    {
     "name": "stderr",
     "output_type": "stream",
     "text": [
      " 70%|███████   | 7/10 [07:11<03:14, 64.93s/it]"
     ]
    },
    {
     "name": "stdout",
     "output_type": "stream",
     "text": [
      "Epoch 1/25\n",
      "6/6 [==============================] - 46s 4s/step - loss: 0.1387 - val_loss: 0.5752\n",
      "Epoch 2/25\n",
      "6/6 [==============================] - 1s 227ms/step - loss: 0.0625 - val_loss: 0.5080\n",
      "Epoch 3/25\n",
      "6/6 [==============================] - 1s 195ms/step - loss: 0.0461 - val_loss: 0.5573\n",
      "Epoch 4/25\n",
      "6/6 [==============================] - 1s 162ms/step - loss: 0.0457 - val_loss: 0.6445\n",
      "Epoch 5/25\n",
      "6/6 [==============================] - 1s 182ms/step - loss: 0.0368 - val_loss: 0.6593\n",
      "Epoch 6/25\n",
      "6/6 [==============================] - 1s 168ms/step - loss: 0.0377 - val_loss: 0.7881\n",
      "Epoch 7/25\n",
      "6/6 [==============================] - 1s 168ms/step - loss: 0.0354 - val_loss: 0.7319\n",
      "Epoch 7: early stopping\n"
     ]
    },
    {
     "name": "stderr",
     "output_type": "stream",
     "text": [
      " 80%|████████  | 8/10 [08:04<02:01, 60.97s/it]"
     ]
    },
    {
     "name": "stdout",
     "output_type": "stream",
     "text": [
      "Epoch 1/25\n",
      "6/6 [==============================] - 36s 774ms/step - loss: 0.1563 - val_loss: 0.7423\n",
      "Epoch 2/25\n",
      "6/6 [==============================] - 1s 146ms/step - loss: 0.0676 - val_loss: 0.5406\n",
      "Epoch 3/25\n",
      "6/6 [==============================] - 1s 177ms/step - loss: 0.0508 - val_loss: 0.6721\n",
      "Epoch 4/25\n",
      "6/6 [==============================] - 1s 180ms/step - loss: 0.0438 - val_loss: 0.7315\n",
      "Epoch 5/25\n",
      "6/6 [==============================] - 1s 184ms/step - loss: 0.0452 - val_loss: 0.7766\n",
      "Epoch 6/25\n",
      "6/6 [==============================] - 1s 171ms/step - loss: 0.0372 - val_loss: 0.6653\n",
      "Epoch 7/25\n",
      "6/6 [==============================] - 1s 176ms/step - loss: 0.0356 - val_loss: 0.7554\n",
      "Epoch 7: early stopping\n"
     ]
    },
    {
     "name": "stderr",
     "output_type": "stream",
     "text": [
      " 90%|█████████ | 9/10 [08:56<00:58, 58.33s/it]"
     ]
    },
    {
     "name": "stdout",
     "output_type": "stream",
     "text": [
      "Epoch 1/25\n",
      "6/6 [==============================] - 37s 955ms/step - loss: 0.2120 - val_loss: 0.6848\n",
      "Epoch 2/25\n",
      "6/6 [==============================] - 1s 155ms/step - loss: 0.1080 - val_loss: 0.4305\n",
      "Epoch 3/25\n",
      "6/6 [==============================] - 1s 142ms/step - loss: 0.0820 - val_loss: 0.6402\n",
      "Epoch 4/25\n",
      "6/6 [==============================] - 1s 142ms/step - loss: 0.0659 - val_loss: 0.5682\n",
      "Epoch 5/25\n",
      "6/6 [==============================] - 1s 145ms/step - loss: 0.0599 - val_loss: 0.6158\n",
      "Epoch 6/25\n",
      "6/6 [==============================] - 1s 145ms/step - loss: 0.0520 - val_loss: 0.6695\n",
      "Epoch 7/25\n",
      "6/6 [==============================] - 1s 167ms/step - loss: 0.0509 - val_loss: 0.6632\n",
      "Epoch 7: early stopping\n"
     ]
    },
    {
     "name": "stderr",
     "output_type": "stream",
     "text": [
      "100%|██████████| 10/10 [09:39<00:00, 57.99s/it]\n"
     ]
    }
   ],
   "source": [
    "# 3. Build model\n",
    "# harmonics, model = build_model(\n",
    "    # train_data, n_harm_lower_limit, n_harm_upper_limit, pv_range, data_range)\n",
    "# harmonics = data_to_harmonics_function(train_data, data_range)\n",
    "# processed_signal_FFT = mix_harmonics_function(\n",
    "#     harmonics, n_harm_lower_limit, n_harm_upper_limit)\n",
    "# processed_signal = processed_signal_FFT\n",
    "\n",
    "input_shape = (x_train[list(x_train.keys())[0]].shape[1],1)\n",
    "model = build_Lstm_model(train_data, y_length, input_shape)\n",
    "history = train_Lstm_model(train_data, model, x_train, y_train)\n"
   ]
  },
  {
   "cell_type": "code",
   "execution_count": 34,
   "metadata": {},
   "outputs": [
    {
     "name": "stdout",
     "output_type": "stream",
     "text": [
      "1/1 [==============================] - 7s 7s/step\n",
      "1/1 [==============================] - 5s 5s/step\n",
      "1/1 [==============================] - 5s 5s/step\n",
      "1/1 [==============================] - 10s 10s/step\n",
      "WARNING:tensorflow:5 out of the last 5 calls to <function Model.make_predict_function.<locals>.predict_function at 0x0000012318AFAA70> triggered tf.function retracing. Tracing is expensive and the excessive number of tracings could be due to (1) creating @tf.function repeatedly in a loop, (2) passing tensors with different shapes, (3) passing Python objects instead of tensors. For (1), please define your @tf.function outside of the loop. For (2), @tf.function has reduce_retracing=True option that can avoid unnecessary retracing. For (3), please refer to https://www.tensorflow.org/guide/function#controlling_retracing and https://www.tensorflow.org/api_docs/python/tf/function for  more details.\n",
      "1/1 [==============================] - 3s 3s/step\n",
      "WARNING:tensorflow:6 out of the last 6 calls to <function Model.make_predict_function.<locals>.predict_function at 0x000001231B0B0040> triggered tf.function retracing. Tracing is expensive and the excessive number of tracings could be due to (1) creating @tf.function repeatedly in a loop, (2) passing tensors with different shapes, (3) passing Python objects instead of tensors. For (1), please define your @tf.function outside of the loop. For (2), @tf.function has reduce_retracing=True option that can avoid unnecessary retracing. For (3), please refer to https://www.tensorflow.org/guide/function#controlling_retracing and https://www.tensorflow.org/api_docs/python/tf/function for  more details.\n",
      "1/1 [==============================] - 5s 5s/step\n",
      "1/1 [==============================] - 7s 7s/step\n",
      "1/1 [==============================] - 3s 3s/step\n",
      "1/1 [==============================] - 3s 3s/step\n",
      "1/1 [==============================] - 3s 3s/step\n"
     ]
    }
   ],
   "source": [
    "processed_signal = predicting_creat_processed_signal_Lstm(x_test, test_data, model)\n",
    "find_signal_pv_function(processed_signal, pv_range)\n",
    "find_signal_lead_train_function(train_data, processed_signal)"
   ]
  },
  {
   "cell_type": "code",
   "execution_count": 35,
   "metadata": {},
   "outputs": [],
   "source": [
    "# 4. Select model\n",
    "# errors, best_fit_harm, best_error, first_date, lead, pv = select_model(test_data,\n",
    "#                                                                         model, fit_method)\n",
    "errors = get_fit_error_function(processed_signal, fit_method)\n",
    "best_fit_harm, best_error = get_best_fit_harm_function(\n",
    "    processed_signal, errors)\n",
    "find_signal_lead_test_function(test_data, processed_signal)\n",
    "first_date, lead, pv = get_first_lead_function(\n",
    "    processed_signal, best_fit_harm)\n"
   ]
  },
  {
   "cell_type": "code",
   "execution_count": 36,
   "metadata": {},
   "outputs": [
    {
     "name": "stdout",
     "output_type": "stream",
     "text": [
      "final_error =  7.6\n",
      "              s_date      t_date  lead    ans_date      pv  error best_fit\n",
      "window_0  2020-01-02  2020-01-21   8.0  2020-01-31  valley   10.0        0\n",
      "window_1  2020-01-16  2020-01-29   2.0  2020-01-31  valley   9.53        0\n",
      "window_2  2020-01-31  2020-02-26 -17.0  2020-01-31  valley   9.87        0\n",
      "window_3  2020-02-14  2020-02-19   0.0  2020-02-19    peak   9.41        0\n",
      "window_4  2020-03-02  2020-03-12   7.0  2020-03-23  valley  10.95        0\n",
      "window_5  2020-03-16  2020-04-08  -9.0  2020-03-26    peak   8.37        0\n",
      "window_6  2020-03-30  2020-04-02  -1.0  2020-04-01  valley  11.61        0\n",
      "window_7  2020-04-14  2020-04-28  -5.0  2020-04-21  valley    8.2        0\n",
      "window_8  2020-04-28  2020-05-04  24.0  2020-06-08    peak  10.32        0\n",
      "window_9  2020-05-12  2020-05-18  -3.0  2020-05-13  valley   8.69        0\n"
     ]
    }
   ],
   "source": [
    "# 5. Evaluate model\n",
    "# result_table, final_error = evaluate_model(\n",
    "#     model, test_data_start_list, all_data, best_fit_harm, best_error, first_date, lead, pv, data_range)\n",
    "result_table = built_result_table_function(\n",
    "    processed_signal, test_data_start_list, lead, pv, best_error, best_fit_harm)\n",
    "result_table_process_Lstm_function(\n",
    "    result_table, all_data, first_date, data_range)\n",
    "final_error = compute_final_error_function(result_table)\n",
    "print('final_error = ', final_error)\n",
    "with pd.option_context('display.max_rows', None,\n",
    "                    'display.max_columns', None,\n",
    "                    'display.precision', 3,\n",
    "                    ):\n",
    "    print(result_table)"
   ]
  },
  {
   "cell_type": "code",
   "execution_count": 37,
   "metadata": {},
   "outputs": [
    {
     "data": {
      "image/png": "[encoded data removed]",
      "text/plain": [
       "<Figure size 3000x800 with 2 Axes>"
      ]
     },
     "metadata": {},
     "output_type": "display_data"
    }
   ],
   "source": [
    "draw_plot_result_table(test_data, all_data, result_table, pv_range)"
   ]
  },
  {
   "cell_type": "code",
   "execution_count": 38,
   "metadata": {},
   "outputs": [],
   "source": [
    "# for i in processed_signal:\n",
    "#     fig, axes = plt.subplots(2, 1, figsize=(20, 8), sharex=True)\n",
    "#     axes[0].set_title(i, fontsize=40)\n",
    "#     axes[0].plot(range(0, len(train_data[i])), train_data[i]['Close'])\n",
    "#     axes[0].plot(range(0, len(train_data[i])), train_data[i]['peaks'], '^')\n",
    "#     axes[0].plot(range(0, len(train_data[i])), train_data[i]['valleys'], 'v')\n",
    "#     axes[0].plot(range(len(train_data[i]), len(test_data[i])+len(train_data[i])), test_data[i]['Close'])\n",
    "#     axes[0].plot(range(len(train_data[i]), len(test_data[i])+len(train_data[i])), test_data[i]['peaks'], '^')\n",
    "#     axes[0].plot(range(len(train_data[i]), len(test_data[i])+len(train_data[i])), test_data[i]['valleys'], 'v')\n",
    "#     axes[1].plot(range(len(train_data[i]), len(train_data[i])+len(processed_signal[i][best_fit_harm[i]])), processed_signal[i][best_fit_harm[i]]['Close'])\n",
    "#     axes[1].plot(range(len(train_data[i]), len(train_data[i])+len(processed_signal[i][best_fit_harm[i]])), processed_signal[i][best_fit_harm[i]]['peaks'], '^')\n",
    "#     axes[1].plot(range(len(train_data[i]), len(train_data[i])+len(processed_signal[i][best_fit_harm[i]])), processed_signal[i][best_fit_harm[i]]['valleys'], 'v')\n",
    "#     plt.xlim(len(train_data[i]), len(train_data[i])+len(processed_signal[i][best_fit_harm[i]]))\n",
    "#     axes[0].grid()\n",
    "#     axes[1].grid()\n",
    "#     plt.xticks(np.arange(len(train_data[i]), len(train_data[i])+len(processed_signal[i][best_fit_harm[i]]), step=10))\n",
    "#     plt.show()"
   ]
  },
  {
   "cell_type": "code",
   "execution_count": 39,
   "metadata": {},
   "outputs": [],
   "source": [
    "def kbar(open, close, high, low, pos, ax):\n",
    "    if close > open:             # 上漲\n",
    "        color='green'                 # 紅 K 棒\n",
    "        height=close - open   # 高度=收盤-開盤\n",
    "        bottom=open             # 底部=開盤\n",
    "    else:                               # 下跌\n",
    "        color='red'              # 綠 k 棒\n",
    "        height=open - close   # 高度=開盤-收盤\n",
    "        bottom=close             # 底部=收盤\n",
    "    # 繪製 k 棒實體      \n",
    "    ax.bar(pos, height=height,bottom=bottom, width=1, color=color)\n",
    "    # 繪製 k 棒上下影線\n",
    "    ax.vlines(pos, high, low, color=color)"
   ]
  },
  {
   "cell_type": "code",
   "execution_count": 40,
   "metadata": {},
   "outputs": [],
   "source": [
    "def draw_profit_plot(profit_table, pv_range):\n",
    "    date_list = sorted(\n",
    "        list(profit_table['in_date']) + list(profit_table['out_date']))\n",
    "    plot_data = all_data.loc[date_list[0]:date_list[-1]]\n",
    "    find_data_pv_function(plot_data, pv_range)\n",
    "    fig, ax = plt.subplots(figsize=(20, 8))\n",
    "    # plt.subplots(figsize=(20, 8))\n",
    "    for i in plot_data.index:\n",
    "        kbar(plot_data['Open'].loc[i], plot_data['Close'].loc[i], plot_data['High'].loc[i], plot_data['Low'].loc[i], i, ax)\n",
    "    # ax.plot(plot_data['peaks'], '^', label='peaks', c='royalblue')\n",
    "    # ax.plot(plot_data['valleys'], 'v', label='valleys', c='orangered')\n",
    "    for i in profit_table.index:\n",
    "        if profit_table.loc[i, 'pv'] == 'peak':\n",
    "            arrow = patches.FancyArrowPatch((profit_table.loc[i, 'in_date'], profit_table.loc[i, 'in_price']), (profit_table.loc[i, 'out_date'], profit_table.loc[i, 'out_price']), \n",
    "                                            linestyle='--', mutation_scale=20, arrowstyle='->', edgecolor='red')\n",
    "            ax.add_patch(arrow)\n",
    "            ax.plot(profit_table.loc[i, 'in_date'], plot_data['High'].loc[profit_table.loc[i, 'in_date']]+10, 'v', color='red')\n",
    "            ax.plot(profit_table.loc[i, 'out_date'], plot_data['Low'].loc[profit_table.loc[i, 'out_date']]-10, '^', color='green')\n",
    "\n",
    "        elif profit_table.loc[i, 'pv'] == 'valley':\n",
    "            arrow = patches.FancyArrowPatch((profit_table.loc[i, 'in_date'], profit_table.loc[i, 'in_price']), (profit_table.loc[i, 'out_date'], profit_table.loc[i, 'out_price']), \n",
    "                                linestyle='--', mutation_scale=20, arrowstyle='->', edgecolor='green')\n",
    "            ax.add_patch(arrow)\n",
    "            ax.plot(profit_table.loc[i, 'in_date'], plot_data['Low'].loc[profit_table.loc[i, 'in_date']]-10, '^', color='green')\n",
    "            ax.plot(profit_table.loc[i, 'out_date'], plot_data['High'].loc[profit_table.loc[i, 'out_date']]+10, 'v', color='red')\n",
    "            \n",
    "        if 'strategy' in profit_table.columns:\n",
    "            if profit_table.loc[i, 'strategy'] == 'stop_profit':\n",
    "                ax.hlines(profit_table.loc[i, 'strategy_price'], profit_table.loc[i, 'in_date'], profit_table.loc[i, 'out_date'], color='green', linestyles='dotted')\n",
    "            elif profit_table.loc[i, 'strategy'] == 'stop_loss':\n",
    "                ax.hlines(profit_table.loc[i, 'strategy_price'], profit_table.loc[i, 'in_date'], profit_table.loc[i, 'out_date'], color='red', linestyles='dotted')\n",
    "            \n",
    "    # ax.annotate(f'{i}', (profit_table.loc[i, 'in_date'], profit_table.loc[i, 'in_price']-100), fontsize=14, c='black')\n",
    "    ax.xaxis.set_major_formatter(mdates.DateFormatter('%m-%d'))\n",
    "    ax.xaxis.set_major_locator(mdates.DayLocator(interval=5))\n",
    "    plt.grid()\n",
    "    # plt.legend()\n",
    "    plt.show()"
   ]
  },
  {
   "cell_type": "code",
   "execution_count": 41,
   "metadata": {},
   "outputs": [],
   "source": [
    "def build_profit_table_method_1(result_table):\n",
    "    profit_table = pd.DataFrame(columns=['in_date', 'in_price', 'out_date', 'out_price', 'pv', 'profit'])\n",
    "    total_profit = 0\n",
    "    for i in result_table.index:\n",
    "        in_price = all_data['Open'].iloc[all_data.index.get_loc(result_table.loc[i, 't_date'])]\n",
    "        out_price = all_data['Close'].iloc[all_data.index.get_loc(result_table.loc[i, 't_date'])+pv_range]\n",
    "        if result_table.loc[i, 'pv'] == 'valley':\n",
    "            profit = out_price - in_price\n",
    "            profit_table.loc[i, 'pv'] = 'valley'\n",
    "        else:\n",
    "            profit = in_price - out_price\n",
    "            profit_table.loc[i, 'pv'] = 'peak'\n",
    "        profit_table.loc[i, 'in_date'] = result_table.loc[i, 't_date']\n",
    "        profit_table.loc[i, 'in_price'] = in_price\n",
    "        profit_table.loc[i, 'out_date'] = all_data.iloc[all_data.index.get_loc(result_table.loc[i, 't_date'])+pv_range].name\n",
    "        profit_table.loc[i, 'out_price'] = out_price\n",
    "        profit_table.loc[i, 'profit'] = profit\n",
    "        total_profit += profit\n",
    "    return total_profit, profit_table"
   ]
  },
  {
   "cell_type": "code",
   "execution_count": 42,
   "metadata": {},
   "outputs": [],
   "source": [
    "def build_profit_table_method_2(result_table, profit_percentage, loss_percentage):\n",
    "    '''percentage:fioat\n",
    "    '''\n",
    "    profit_table = pd.DataFrame(columns=['in_date', 'in_price', 'out_date', 'out_price', 'pv', 'profit', 'strategy', 'strategy_price'])\n",
    "    total_profit = 0\n",
    "    for i in result_table.index:\n",
    "        in_price = all_data['Open'].iloc[all_data.index.get_loc(result_table.loc[i, 't_date'])]\n",
    "        if result_table.loc[i, 'pv'] == 'valley':\n",
    "            stop_profit_price = in_price*(1+profit_percentage)\n",
    "            stop_loss_price = in_price*(1-loss_percentage)\n",
    "        else:\n",
    "            stop_profit_price = in_price*(1-profit_percentage)\n",
    "            stop_loss_price = in_price*(1+loss_percentage)\n",
    "\n",
    "        # print(in_price, stop_loss_price, stop_profit_price)\n",
    "        start_index = all_data.index.get_loc(result_table.loc[i, 't_date'])\n",
    "        end_index = all_data.index.get_loc(result_table.loc[i, 't_date'])+pv_range\n",
    "        trade_data = all_data.iloc[start_index:end_index]\n",
    "        # check out_price\n",
    "        out_price = all_data['Close'].iloc[end_index]\n",
    "        profit_table.loc[i, 'out_date'] = all_data.iloc[end_index].name\n",
    "        for j in trade_data.index:\n",
    "            high = trade_data['High'].loc[j]\n",
    "            low = trade_data['Low'].loc[j]\n",
    "            if result_table.loc[i, 'pv'] == 'valley':\n",
    "                if high>=stop_profit_price:\n",
    "                    out_price = stop_profit_price\n",
    "                    profit_table.loc[i, 'out_date'] = trade_data.loc[j].name\n",
    "                    profit_table.loc[i, 'strategy'] = 'stop_profit'\n",
    "                    profit_table.loc[i, 'strategy_price'] = stop_profit_price\n",
    "                    break\n",
    "                elif low<=stop_loss_price:\n",
    "                    out_price = stop_loss_price\n",
    "                    profit_table.loc[i, 'out_date'] = trade_data.loc[j].name\n",
    "                    profit_table.loc[i, 'strategy'] = 'stop_loss'\n",
    "                    profit_table.loc[i, 'strategy_price'] = stop_loss_price\n",
    "                    break\n",
    "            elif result_table.loc[i, 'pv'] == 'peak':\n",
    "                    if low<=stop_profit_price:\n",
    "                        out_price = stop_profit_price\n",
    "                        profit_table.loc[i, 'out_date'] = trade_data.loc[j].name\n",
    "                        profit_table.loc[i, 'strategy'] = 'stop_profit'\n",
    "                        profit_table.loc[i, 'strategy_price'] = stop_profit_price\n",
    "                        break\n",
    "                    elif high>=stop_loss_price:\n",
    "                        out_price = stop_loss_price\n",
    "                        profit_table.loc[i, 'out_date'] = trade_data.loc[j].name\n",
    "                        profit_table.loc[i, 'strategy'] = 'stop_loss'\n",
    "                        profit_table.loc[i, 'strategy_price'] = stop_loss_price\n",
    "                        break\n",
    "\n",
    "        if result_table.loc[i, 'pv'] == 'valley':\n",
    "            profit = out_price - in_price\n",
    "            profit_table.loc[i, 'pv'] = 'valley'\n",
    "        else:\n",
    "            profit = in_price - out_price\n",
    "            profit_table.loc[i, 'pv'] = 'peak'\n",
    "        profit_table.loc[i, 'in_date'] = result_table.loc[i, 't_date']\n",
    "        profit_table.loc[i, 'in_price'] = in_price\n",
    "        \n",
    "        profit_table.loc[i, 'out_price'] = out_price\n",
    "        profit_table.loc[i, 'profit'] = profit\n",
    "        total_profit += profit\n",
    "    return total_profit, profit_table"
   ]
  },
  {
   "cell_type": "code",
   "execution_count": 43,
   "metadata": {},
   "outputs": [],
   "source": [
    "def build_profit_table_method_3(result_table, profit_percentage, loss_percentage):\n",
    "    '''percentage:fioat\n",
    "    '''\n",
    "    profit_table = pd.DataFrame(columns=['in_date', 'in_price', 'out_date', 'out_price', 'pv', 'profit', 'strategy', 'strategy_price'])\n",
    "    total_profit = 0\n",
    "    for i in result_table.index:\n",
    "        in_price = all_data['Open'].iloc[all_data.index.get_loc(result_table.loc[i, 't_date'])]\n",
    "        # print(in_price, stop_loss_price, stop_profit_price)\n",
    "        start_index = all_data.index.get_loc(result_table.loc[i, 't_date'])\n",
    "        end_index = all_data.index.get_loc(result_table.loc[i, 't_date'])+pv_range\n",
    "        trade_data = all_data.iloc[start_index:end_index]\n",
    "        # check out_price\n",
    "        out_price = all_data['Close'].iloc[end_index]\n",
    "        profit_table.loc[i, 'out_date'] = all_data.iloc[end_index].name\n",
    "        yesterday_close = all_data['Close'].iloc[all_data.index.get_loc(result_table.loc[i, 't_date'])-1]\n",
    "        for j in trade_data.index:\n",
    "            if result_table.loc[i, 'pv'] == 'valley':\n",
    "                stop_profit_price = yesterday_close*(1+profit_percentage)\n",
    "                stop_loss_price = yesterday_close*(1-loss_percentage)\n",
    "            else:\n",
    "                stop_profit_price = yesterday_close*(1-profit_percentage)\n",
    "                stop_loss_price = yesterday_close*(1+loss_percentage)\n",
    "            yesterday_close = trade_data['Close'].loc[j]\n",
    "            high = trade_data['High'].loc[j]\n",
    "            low = trade_data['Low'].loc[j]\n",
    "            if result_table.loc[i, 'pv'] == 'valley':\n",
    "                if high>=stop_profit_price:\n",
    "                    out_price = stop_profit_price\n",
    "                    profit_table.loc[i, 'out_date'] = trade_data.loc[j].name\n",
    "                    profit_table.loc[i, 'strategy'] = 'stop_profit'\n",
    "                    profit_table.loc[i, 'strategy_price'] = stop_profit_price\n",
    "                    break\n",
    "                elif low<=stop_loss_price:\n",
    "                    out_price = stop_loss_price\n",
    "                    profit_table.loc[i, 'out_date'] = trade_data.loc[j].name\n",
    "                    profit_table.loc[i, 'strategy'] = 'stop_loss'\n",
    "                    profit_table.loc[i, 'strategy_price'] = stop_loss_price\n",
    "                    break\n",
    "            elif result_table.loc[i, 'pv'] == 'peak':\n",
    "                    if low<=stop_profit_price:\n",
    "                        out_price = stop_profit_price\n",
    "                        profit_table.loc[i, 'out_date'] = trade_data.loc[j].name\n",
    "                        profit_table.loc[i, 'strategy'] = 'stop_profit'\n",
    "                        profit_table.loc[i, 'strategy_price'] = stop_profit_price\n",
    "                        break\n",
    "                    elif high>=stop_loss_price:\n",
    "                        out_price = stop_loss_price\n",
    "                        profit_table.loc[i, 'out_date'] = trade_data.loc[j].name\n",
    "                        profit_table.loc[i, 'strategy'] = 'stop_loss'\n",
    "                        profit_table.loc[i, 'strategy_price'] = stop_loss_price\n",
    "                        break\n",
    "\n",
    "        if result_table.loc[i, 'pv'] == 'valley':\n",
    "            profit = out_price - in_price\n",
    "            profit_table.loc[i, 'pv'] = 'valley'\n",
    "        else:\n",
    "            profit = in_price - out_price\n",
    "            profit_table.loc[i, 'pv'] = 'peak'\n",
    "        profit_table.loc[i, 'in_date'] = result_table.loc[i, 't_date']\n",
    "        profit_table.loc[i, 'in_price'] = in_price\n",
    "        \n",
    "        profit_table.loc[i, 'out_price'] = out_price\n",
    "        profit_table.loc[i, 'profit'] = profit\n",
    "        total_profit += profit\n",
    "    return total_profit, profit_table"
   ]
  },
  {
   "cell_type": "code",
   "execution_count": 44,
   "metadata": {},
   "outputs": [
    {
     "name": "stdout",
     "output_type": "stream",
     "text": [
      "final_error =  7.6\n",
      "              s_date      t_date  lead    ans_date      pv  error best_fit\n",
      "window_0  2020-01-02  2020-01-21   8.0  2020-01-31  valley   10.0        0\n",
      "window_1  2020-01-16  2020-01-29   2.0  2020-01-31  valley   9.53        0\n",
      "window_2  2020-01-31  2020-02-26 -17.0  2020-01-31  valley   9.87        0\n",
      "window_3  2020-02-14  2020-02-19   0.0  2020-02-19    peak   9.41        0\n",
      "window_4  2020-03-02  2020-03-12   7.0  2020-03-23  valley  10.95        0\n",
      "window_5  2020-03-16  2020-04-08  -9.0  2020-03-26    peak   8.37        0\n",
      "window_6  2020-03-30  2020-04-02  -1.0  2020-04-01  valley  11.61        0\n",
      "window_7  2020-04-14  2020-04-28  -5.0  2020-04-21  valley    8.2        0\n",
      "window_8  2020-04-28  2020-05-04  24.0  2020-06-08    peak  10.32        0\n",
      "window_9  2020-05-12  2020-05-18  -3.0  2020-05-13  valley   8.69        0\n"
     ]
    }
   ],
   "source": [
    "print('final_error = ', final_error)\n",
    "with pd.option_context('display.max_rows', None,\n",
    "                    'display.max_columns', None,\n",
    "                    'display.precision', 3,\n",
    "                    ):\n",
    "    print(result_table)"
   ]
  },
  {
   "cell_type": "code",
   "execution_count": 45,
   "metadata": {},
   "outputs": [
    {
     "name": "stdout",
     "output_type": "stream",
     "text": [
      "total_profit = 197.52978515625\n",
      "             in_date in_price    out_date out_price      pv  profit\n",
      "window_0  2020-01-21  3321.03  2020-01-30   3283.66  valley  -37.37\n",
      "window_1  2020-01-29  3289.46  2020-02-07   3327.71  valley   38.25\n",
      "window_2  2020-02-26   3139.9  2020-03-06   2972.37  valley -167.53\n",
      "window_3  2020-02-19  3380.39  2020-02-28   2954.22    peak  426.17\n",
      "window_4  2020-03-12  2630.86  2020-03-23    2237.4  valley -393.46\n",
      "window_5  2020-04-08   2685.0  2020-04-20   2823.16    peak -138.16\n",
      "window_6  2020-04-02  2458.54  2020-04-14   2846.06  valley  387.52\n",
      "window_7  2020-04-28  2909.96  2020-05-07   2881.19  valley  -28.77\n",
      "window_8  2020-05-04  2815.01  2020-05-13    2820.0    peak   -4.99\n",
      "window_9  2020-05-18  2913.86  2020-05-28   3029.73  valley  115.87\n"
     ]
    }
   ],
   "source": [
    "total_profit, profit_table = build_profit_table_method_1(result_table)\n",
    "print('total_profit =', total_profit)\n",
    "with pd.option_context('display.max_rows', None,\n",
    "                    'display.max_columns', None,\n",
    "                    'display.precision', 3,\n",
    "                    ):\n",
    "    print(profit_table)"
   ]
  },
  {
   "cell_type": "code",
   "execution_count": 46,
   "metadata": {},
   "outputs": [
    {
     "data": {
      "image/png": "[encoded data removed]",
      "text/plain": [
       "<Figure size 2000x800 with 1 Axes>"
      ]
     },
     "metadata": {},
     "output_type": "display_data"
    }
   ],
   "source": [
    "draw_profit_plot(profit_table, pv_range)"
   ]
  },
  {
   "cell_type": "code",
   "execution_count": 47,
   "metadata": {},
   "outputs": [
    {
     "name": "stdout",
     "output_type": "stream",
     "text": [
      "total_profit = 98.10703125000009\n",
      "             in_date in_price    out_date out_price      pv   profit  \\\n",
      "window_0  2020-01-21  3321.03  2020-01-30   3283.66  valley   -37.37   \n",
      "window_1  2020-01-29  3289.46  2020-02-07   3327.71  valley    38.25   \n",
      "window_2  2020-02-26   3139.9  2020-03-06   2972.37  valley  -167.53   \n",
      "window_3  2020-02-19  3380.39  2020-02-27  3042.351    peak  338.039   \n",
      "window_4  2020-03-12  2630.86  2020-03-17  2367.774  valley -263.086   \n",
      "window_5  2020-04-08   2685.0  2020-04-20   2823.16    peak  -138.16   \n",
      "window_6  2020-04-02  2458.54  2020-04-07  2704.394  valley  245.854   \n",
      "window_7  2020-04-28  2909.96  2020-05-07   2881.19  valley   -28.77   \n",
      "window_8  2020-05-04  2815.01  2020-05-13    2820.0    peak    -4.99   \n",
      "window_9  2020-05-18  2913.86  2020-05-28   3029.73  valley   115.87   \n",
      "\n",
      "             strategy strategy_price  \n",
      "window_0          NaN            NaN  \n",
      "window_1          NaN            NaN  \n",
      "window_2          NaN            NaN  \n",
      "window_3  stop_profit       3042.351  \n",
      "window_4    stop_loss       2367.774  \n",
      "window_5          NaN            NaN  \n",
      "window_6  stop_profit       2704.394  \n",
      "window_7          NaN            NaN  \n",
      "window_8          NaN            NaN  \n",
      "window_9          NaN            NaN  \n"
     ]
    }
   ],
   "source": [
    "total_profit, profit_table = build_profit_table_method_2(result_table, profit_percentage, loss_percentage)\n",
    "print('total_profit =', total_profit)\n",
    "with pd.option_context('display.max_rows', None,\n",
    "                    'display.max_columns', None,\n",
    "                    'display.precision', 3,\n",
    "                    ):\n",
    "    print(profit_table)"
   ]
  },
  {
   "cell_type": "code",
   "execution_count": 48,
   "metadata": {},
   "outputs": [
    {
     "data": {
      "image/png": "[encoded data removed]",
      "text/plain": [
       "<Figure size 2000x800 with 1 Axes>"
      ]
     },
     "metadata": {},
     "output_type": "display_data"
    }
   ],
   "source": [
    "draw_profit_plot(profit_table, pv_range)"
   ]
  },
  {
   "cell_type": "code",
   "execution_count": 49,
   "metadata": {},
   "outputs": [
    {
     "name": "stdout",
     "output_type": "stream",
     "text": [
      "total_profit = 400.0479003906253\n",
      "             in_date in_price    out_date out_price      pv   profit  \\\n",
      "window_0  2020-01-21  3321.03  2020-01-30   3283.66  valley   -37.37   \n",
      "window_1  2020-01-29  3289.46  2020-02-07   3327.71  valley    38.25   \n",
      "window_2  2020-02-26   3139.9  2020-03-06   2972.37  valley  -167.53   \n",
      "window_3  2020-02-19  3380.39  2020-02-28   2954.22    peak   426.17   \n",
      "window_4  2020-03-12  2630.86  2020-03-16  2439.918  valley -190.942   \n",
      "window_5  2020-04-08   2685.0  2020-04-20   2823.16    peak  -138.16   \n",
      "window_6  2020-04-02  2458.54  2020-04-14   2846.06  valley   387.52   \n",
      "window_7  2020-04-28  2909.96  2020-05-07   2881.19  valley   -28.77   \n",
      "window_8  2020-05-04  2815.01  2020-05-13    2820.0    peak    -4.99   \n",
      "window_9  2020-05-18  2913.86  2020-05-28   3029.73  valley   115.87   \n",
      "\n",
      "           strategy strategy_price  \n",
      "window_0        NaN            NaN  \n",
      "window_1        NaN            NaN  \n",
      "window_2        NaN            NaN  \n",
      "window_3        NaN            NaN  \n",
      "window_4  stop_loss       2439.918  \n",
      "window_5        NaN            NaN  \n",
      "window_6        NaN            NaN  \n",
      "window_7        NaN            NaN  \n",
      "window_8        NaN            NaN  \n",
      "window_9        NaN            NaN  \n"
     ]
    }
   ],
   "source": [
    "total_profit, profit_table = build_profit_table_method_3(result_table, profit_percentage, loss_percentage)\n",
    "print('total_profit =', total_profit)\n",
    "with pd.option_context('display.max_rows', None,\n",
    "                    'display.max_columns', None,\n",
    "                    'display.precision', 3,\n",
    "                    ):\n",
    "    print(profit_table)"
   ]
  },
  {
   "cell_type": "code",
   "execution_count": 50,
   "metadata": {},
   "outputs": [
    {
     "data": {
      "image/png": "[encoded data removed]",
      "text/plain": [
       "<Figure size 2000x800 with 1 Axes>"
      ]
     },
     "metadata": {},
     "output_type": "display_data"
    }
   ],
   "source": [
    "draw_profit_plot(profit_table, pv_range)"
   ]
  }
 ],
 "metadata": {
  "kernelspec": {
   "display_name": "myenv",
   "language": "python",
   "name": "python3"
  },
  "language_info": {
   "codemirror_mode": {
    "name": "ipython",
    "version": 3
   },
   "file_extension": ".py",
   "mimetype": "text/x-python",
   "name": "python",
   "nbconvert_exporter": "python",
   "pygments_lexer": "ipython3",
   "version": "3.10.7"
  },
  "orig_nbformat": 4,
  "vscode": {
   "interpreter": {
    "hash": "2fb396032550f1233359d15a08b37f52554975016f50074aab88030da7047d1a"
   }
  }
 },
 "nbformat": 4,
 "nbformat_minor": 2
}
