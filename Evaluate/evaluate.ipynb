{
 "cells": [
  {
   "cell_type": "code",
   "execution_count": null,
   "metadata": {},
   "outputs": [],
   "source": [
    "import sys\n",
    "import os\n",
    "module_path = os.path.abspath(os.path.join(os.path.dirname(os.path.abspath(__file__)),'..'))\n",
    "if module_path not in sys.path:\n",
    "    sys.path.append(module_path)\n",
    "from data.loadData import LoadData\n",
    "from data.preprocess import Preprocess\n",
    "from model.fft import Fft\n",
    "from model.lstm import Lstm"
   ]
  },
  {
   "cell_type": "code",
   "execution_count": null,
   "metadata": {},
   "outputs": [],
   "source": [
    "import pandas as pd"
   ]
  },
  {
   "cell_type": "code",
   "execution_count": null,
   "metadata": {},
   "outputs": [],
   "source": [
    "def built_result_table_function(processed_signal, test_data_start_list, lead, pv, best_error, best_fit_harm):\n",
    "    result_table = pd.DataFrame(columns=[\n",
    "        's_date', 't_date', 'lead', 'ans_date', 'pv', 'error', 'best_fit'])\n",
    "    for i in processed_signal:\n",
    "        result_table.loc[i, 'error'] = round(best_error[i], 2)\n",
    "        result_table.loc[i, 'best_fit'] = best_fit_harm[i]\n",
    "        result_table.loc[i, 'lead'] = lead[i]\n",
    "        result_table.loc[i, 'pv'] = pv[i]\n",
    "    result_table['s_date'] = test_data_start_list\n",
    "    return result_table\n"
   ]
  },
  {
   "cell_type": "code",
   "execution_count": null,
   "metadata": {},
   "outputs": [],
   "source": [
    "def result_table_process_function(result_table, all_data, first_date, data_range):\n",
    "    for i in result_table.index:\n",
    "        t_date = all_data.iloc[all_data.index.get_loc(result_table.loc[i, 's_date']) + first_date[i] - data_range].name\n",
    "        result_table.loc[i, 't_date'] = t_date\n",
    "        ans = all_data.iloc[int(all_data.index.get_loc(t_date) + result_table.loc[i, 'lead'])].name\n",
    "        result_table.loc[i, 'ans_date'] = ans"
   ]
  },
  {
   "cell_type": "code",
   "execution_count": null,
   "metadata": {},
   "outputs": [],
   "source": [
    "def compute_final_error_function(result_table):\n",
    "    final_error = round(\n",
    "        sum([abs(ele) for ele in result_table['lead']]) / len(result_table['lead']), 2)\n",
    "    return final_error\n"
   ]
  },
  {
   "cell_type": "code",
   "execution_count": null,
   "metadata": {},
   "outputs": [],
   "source": [
    "def evaluate_model(processed_signal, test_data_start_list, all_data, best_fit_harm, best_error, first_date, lead, pv, data_range):\n",
    "    result_table = built_result_table_function(\n",
    "        processed_signal, test_data_start_list, lead, pv, best_error, best_fit_harm)\n",
    "    result_table_process_function(\n",
    "        result_table, all_data, first_date, data_range)\n",
    "    final_error = compute_final_error_function(result_table)\n",
    "    return result_table, final_error\n"
   ]
  },
  {
   "cell_type": "code",
   "execution_count": null,
   "metadata": {},
   "outputs": [],
   "source": [
    "def find_data_pv_function(data, pv_range):\n",
    "    pd.options.mode.chained_assignment = None\n",
    "    price = data['Close']\n",
    "    data['peaks'] = pd.Series(dtype='float64')\n",
    "    data['valleys'] = pd.Series(dtype='float64')\n",
    "    data['pv'] = pd.Series(dtype='str')\n",
    "    for idx in range(0, len(price)):\n",
    "        if idx < pv_range and idx>0:\n",
    "            if price[idx] == price.iloc[0:pv_range*2+1].max():\n",
    "                data['peaks'].iloc[idx] = price[idx]\n",
    "                data['pv'].iloc[idx] = 'peak'\n",
    "            if price[idx] == price.iloc[0:pv_range*2+1].min():\n",
    "                data['valleys'].iloc[idx] = price[idx]\n",
    "                data['pv'].iloc[idx] = 'valleys'\n",
    "        if price[idx] == price.iloc[idx-pv_range:idx+pv_range].max():\n",
    "            data['peaks'].iloc[idx] = price[idx]\n",
    "            data['pv'].iloc[idx] = 'peak'\n",
    "        if price[idx] == price.iloc[idx-pv_range:idx+pv_range].min():\n",
    "            data['valleys'].iloc[idx] = price[idx]\n",
    "            data['pv'].iloc[idx] = 'valleys'\n"
   ]
  },
  {
   "cell_type": "code",
   "execution_count": null,
   "metadata": {},
   "outputs": [],
   "source": [
    "def draw_plot_result_table(test_data, all_data, result_table, pv_range):\n",
    "    date_list = sorted(\n",
    "        list(result_table['s_date']) + list(result_table['t_date']) + list(result_table['ans_date']))\n",
    "    all_index = all_data.loc[date_list[0]:date_list[-1]].index\n",
    "    fig, axes = plt.subplots(2, 1, figsize=(30, 8), sharex=True)\n",
    "    test_data_copy = test_data.copy()\n",
    "    for d in test_data :\n",
    "        test_data_copy[d].index = test_data[d]['index']\n",
    "        test_data_copy[d] = test_data_copy[d].drop(test_data_copy[d][test_data_copy[d].index > date_list[-1]].index)\n",
    "        axes[0].plot(test_data_copy[d].index, test_data_copy[d]['Close'], 'gray', label='data', linewidth=3)\n",
    "    for d in test_data_copy :\n",
    "        axes[0].plot(test_data_copy[d].index, test_data_copy[d]['peaks'],\n",
    "                    '^', c='royalblue', label='peaks')\n",
    "        axes[0].plot(test_data_copy[d].index, test_data_copy[d]['valleys'], 'v',\n",
    "                    c='orangered', label='valleys')\n",
    "    plot_model = pd.DataFrame(index=all_index, columns=[\n",
    "                                's_date', 't_date', 'ans_date', 'lead', 'pv'])\n",
    "    plot_model['s_date'].loc[result_table['s_date']] = True\n",
    "    plot_model['t_date'].loc[result_table['t_date']] = True\n",
    "    plot_model['lead'].loc[result_table['t_date']] = list(result_table['lead'])\n",
    "    plot_model['pv'].loc[result_table['t_date']] = list(result_table['pv'])\n",
    "    plot_model['ans_date'].loc[result_table['ans_date']] = True\n",
    "    for i, label in enumerate(plot_model['lead']):\n",
    "        if plot_model['pv'][i] == 'peak':\n",
    "            # axes[0].plot(plot_data.index[i], plot_data['Close'].iloc[i], '|',\n",
    "            #             c='red')\n",
    "            axes[1].plot(plot_model.index[i], plot_model['lead'][i], '^',\n",
    "                            c='royalblue')\n",
    "            text = str(label)\n",
    "            axes[1].annotate(text, (plot_model.index[i],\n",
    "                                plot_model['lead'][i]), fontsize=14)\n",
    "        elif plot_model['pv'][i] == 'valley':\n",
    "            # axes[0].plot(plot_data.index[i], plot_data['Close'].iloc[i], '|',\n",
    "            #             c='red')\n",
    "            axes[1].plot(plot_model.index[i], plot_model['lead'][i], 'v',\n",
    "                            c='orangered')\n",
    "            text = str(label)\n",
    "            axes[1].annotate(text, (plot_model.index[i],\n",
    "                                plot_model['lead'][i]), fontsize=14)\n",
    "\n",
    "    axes[0].set_ylabel(\"Stock price\", fontsize=14)\n",
    "    axes[0].grid(True)\n",
    "    axes[1].grid(True)\n",
    "    axes[1].set_ylabel(\"lead\", fontsize=14)\n",
    "    plt.show()"
   ]
  }
 ],
 "metadata": {
  "language_info": {
   "name": "python"
  },
  "orig_nbformat": 4
 },
 "nbformat": 4,
 "nbformat_minor": 2
}
